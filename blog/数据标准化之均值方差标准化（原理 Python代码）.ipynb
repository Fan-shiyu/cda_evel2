{
 "cells": [
  {
   "cell_type": "markdown",
   "metadata": {},
   "source": [
    "## 一、原理介绍"
   ]
  },
  {
   "cell_type": "markdown",
   "metadata": {},
   "source": [
    "常用的数据标准化方法有最大最小归一化、均值方差标准化、小数定标法、定量特征二值化等。其中，均值方差标准化是一种将数据转化为标准正态分布的标准化方法。在回归模型中，服从正态分布的自变量和因变量往往对应着较好的回归预测效果。均值方差标准化的计算公式为： $$ x'=\\frac{x-\\mu }{\\sigma } $$\n",
    "公式中，x表示单个数据的取值，$\\mu$表示对应列的均值，$\\sigma$表示对应列的方差"
   ]
  },
  {
   "cell_type": "markdown",
   "metadata": {},
   "source": [
    "## 二、代码实现"
   ]
  },
  {
   "cell_type": "code",
   "execution_count": 8,
   "metadata": {},
   "outputs": [],
   "source": [
    "#加载模块\n",
    "from sklearn.preprocessing import StandardScaler\n",
    "import warnings\n",
    "warnings.filterwarnings(\"ignore\") #过滤掉警告的意思\n",
    "from pyforest import *\n",
    "import pandas as pd\n",
    "import numpy as np"
   ]
  },
  {
   "cell_type": "code",
   "execution_count": 9,
   "metadata": {},
   "outputs": [
    {
     "data": {
      "text/html": [
       "<div>\n",
       "<style scoped>\n",
       "    .dataframe tbody tr th:only-of-type {\n",
       "        vertical-align: middle;\n",
       "    }\n",
       "\n",
       "    .dataframe tbody tr th {\n",
       "        vertical-align: top;\n",
       "    }\n",
       "\n",
       "    .dataframe thead th {\n",
       "        text-align: right;\n",
       "    }\n",
       "</style>\n",
       "<table border=\"1\" class=\"dataframe\">\n",
       "  <thead>\n",
       "    <tr style=\"text-align: right;\">\n",
       "      <th></th>\n",
       "      <th>(1)资产负债率</th>\n",
       "      <th>(2)剔除预收款项后的资产负债率</th>\n",
       "      <th>(3)长期资本负债率</th>\n",
       "      <th>(4)长期资产适合率</th>\n",
       "      <th>(5)权益乘数</th>\n",
       "    </tr>\n",
       "  </thead>\n",
       "  <tbody>\n",
       "    <tr>\n",
       "      <th>0</th>\n",
       "      <td>0.655799</td>\n",
       "      <td>0.606708</td>\n",
       "      <td>0.613865</td>\n",
       "      <td>0.494960</td>\n",
       "      <td>0.791971</td>\n",
       "    </tr>\n",
       "    <tr>\n",
       "      <th>1</th>\n",
       "      <td>0.752061</td>\n",
       "      <td>0.705498</td>\n",
       "      <td>0.841639</td>\n",
       "      <td>1.000000</td>\n",
       "      <td>0.932990</td>\n",
       "    </tr>\n",
       "    <tr>\n",
       "      <th>2</th>\n",
       "      <td>0.957391</td>\n",
       "      <td>0.941543</td>\n",
       "      <td>0.000000</td>\n",
       "      <td>0.493465</td>\n",
       "      <td>0.988630</td>\n",
       "    </tr>\n",
       "    <tr>\n",
       "      <th>3</th>\n",
       "      <td>0.807046</td>\n",
       "      <td>0.780709</td>\n",
       "      <td>0.984696</td>\n",
       "      <td>0.530637</td>\n",
       "      <td>0.958086</td>\n",
       "    </tr>\n",
       "    <tr>\n",
       "      <th>4</th>\n",
       "      <td>0.805235</td>\n",
       "      <td>0.796071</td>\n",
       "      <td>0.861480</td>\n",
       "      <td>0.541299</td>\n",
       "      <td>0.957462</td>\n",
       "    </tr>\n",
       "  </tbody>\n",
       "</table>\n",
       "</div>"
      ],
      "text/plain": [
       "   (1)资产负债率  (2)剔除预收款项后的资产负债率  (3)长期资本负债率  (4)长期资产适合率   (5)权益乘数\n",
       "0  0.655799          0.606708    0.613865    0.494960  0.791971\n",
       "1  0.752061          0.705498    0.841639    1.000000  0.932990\n",
       "2  0.957391          0.941543    0.000000    0.493465  0.988630\n",
       "3  0.807046          0.780709    0.984696    0.530637  0.958086\n",
       "4  0.805235          0.796071    0.861480    0.541299  0.957462"
      ]
     },
     "execution_count": 9,
     "metadata": {},
     "output_type": "execute_result"
    }
   ],
   "source": [
    "#读入数据\n",
    "data=pd.read_csv(\"F:/data/data.csv\",encoding='gbk') #bgk表示中文编码\n",
    "#查看数据前五行\n",
    "data.head()"
   ]
  },
  {
   "cell_type": "code",
   "execution_count": 10,
   "metadata": {},
   "outputs": [
    {
     "data": {
      "text/plain": [
       "array([[-8.07868584e-01, -4.46781853e-01, -8.65101276e-02,\n",
       "        -2.18550266e-01, -4.97556164e-01],\n",
       "       [ 5.83511306e-02,  1.83702105e-01,  6.61977686e-01,\n",
       "         7.51432528e+00,  3.06672601e-01],\n",
       "       [ 1.90602996e+00,  1.69014811e+00, -2.10373034e+00,\n",
       "        -2.41440984e-01,  6.23989972e-01],\n",
       "       ...,\n",
       "       [-1.14289225e-01, -1.81738238e-01, -4.01819153e-01,\n",
       "        -1.78750448e-04,  2.31292440e-01],\n",
       "       [-7.54465400e-01, -7.37349652e-01,  3.84582589e-01,\n",
       "        -2.41868662e-01, -3.87772198e-01],\n",
       "       [ 1.28886801e+00,  1.12495300e+00, -2.10373034e+00,\n",
       "        -2.48967045e-01,  5.66083685e-01]])"
      ]
     },
     "execution_count": 10,
     "metadata": {},
     "output_type": "execute_result"
    }
   ],
   "source": [
    "#标准化，返回值为标准化后的数据\n",
    "Standard_data=StandardScaler().fit_transform(data)\n",
    "Standard_data"
   ]
  },
  {
   "cell_type": "code",
   "execution_count": 11,
   "metadata": {},
   "outputs": [],
   "source": [
    "#由于标准化后的数据是array格式，故将其转化为数据框\n",
    "Standard_data = pd.DataFrame(Standard_data) #转为dataframe"
   ]
  },
  {
   "cell_type": "code",
   "execution_count": 12,
   "metadata": {},
   "outputs": [],
   "source": [
    "#将数据写成csv文件，方便后续的建模\n",
    "Standard_data.to_csv(\"F:/data/Standard_data.csv\",index=False) "
   ]
  },
  {
   "cell_type": "markdown",
   "metadata": {},
   "source": [
    "下面验证标准化后的数据是否服从正态分布，这里以第一列数据为例"
   ]
  },
  {
   "cell_type": "code",
   "execution_count": 19,
   "metadata": {},
   "outputs": [
    {
     "data": {
      "text/html": [
       "<div>\n",
       "<style scoped>\n",
       "    .dataframe tbody tr th:only-of-type {\n",
       "        vertical-align: middle;\n",
       "    }\n",
       "\n",
       "    .dataframe tbody tr th {\n",
       "        vertical-align: top;\n",
       "    }\n",
       "\n",
       "    .dataframe thead th {\n",
       "        text-align: right;\n",
       "    }\n",
       "</style>\n",
       "<table border=\"1\" class=\"dataframe\">\n",
       "  <thead>\n",
       "    <tr style=\"text-align: right;\">\n",
       "      <th></th>\n",
       "      <th>(1)资产负债率</th>\n",
       "      <th>(2)剔除预收款项后的资产负债率</th>\n",
       "      <th>(3)长期资本负债率</th>\n",
       "      <th>(4)长期资产适合率</th>\n",
       "      <th>(5)权益乘数</th>\n",
       "    </tr>\n",
       "  </thead>\n",
       "  <tbody>\n",
       "    <tr>\n",
       "      <th>0</th>\n",
       "      <td>-0.807869</td>\n",
       "      <td>-0.446782</td>\n",
       "      <td>-0.086510</td>\n",
       "      <td>-0.218550</td>\n",
       "      <td>-0.497556</td>\n",
       "    </tr>\n",
       "    <tr>\n",
       "      <th>1</th>\n",
       "      <td>0.058351</td>\n",
       "      <td>0.183702</td>\n",
       "      <td>0.661978</td>\n",
       "      <td>7.514325</td>\n",
       "      <td>0.306673</td>\n",
       "    </tr>\n",
       "    <tr>\n",
       "      <th>2</th>\n",
       "      <td>1.906030</td>\n",
       "      <td>1.690148</td>\n",
       "      <td>-2.103730</td>\n",
       "      <td>-0.241441</td>\n",
       "      <td>0.623990</td>\n",
       "    </tr>\n",
       "    <tr>\n",
       "      <th>3</th>\n",
       "      <td>0.553135</td>\n",
       "      <td>0.663697</td>\n",
       "      <td>1.132078</td>\n",
       "      <td>0.327724</td>\n",
       "      <td>0.449795</td>\n",
       "    </tr>\n",
       "    <tr>\n",
       "      <th>4</th>\n",
       "      <td>0.536841</td>\n",
       "      <td>0.761739</td>\n",
       "      <td>0.727179</td>\n",
       "      <td>0.490969</td>\n",
       "      <td>0.446237</td>\n",
       "    </tr>\n",
       "  </tbody>\n",
       "</table>\n",
       "</div>"
      ],
      "text/plain": [
       "   (1)资产负债率  (2)剔除预收款项后的资产负债率  (3)长期资本负债率  (4)长期资产适合率   (5)权益乘数\n",
       "0 -0.807869         -0.446782   -0.086510   -0.218550 -0.497556\n",
       "1  0.058351          0.183702    0.661978    7.514325  0.306673\n",
       "2  1.906030          1.690148   -2.103730   -0.241441  0.623990\n",
       "3  0.553135          0.663697    1.132078    0.327724  0.449795\n",
       "4  0.536841          0.761739    0.727179    0.490969  0.446237"
      ]
     },
     "execution_count": 19,
     "metadata": {},
     "output_type": "execute_result"
    }
   ],
   "source": [
    "#为标准化后的数据加上列名\n",
    "Standard_data.columns=data.columns\n",
    "Standard_data.head()"
   ]
  },
  {
   "cell_type": "code",
   "execution_count": 21,
   "metadata": {},
   "outputs": [
    {
     "data": {
      "application/javascript": [
       "\n",
       "        if (window._pyforest_update_imports_cell) { window._pyforest_update_imports_cell('import matplotlib.pyplot as plt\\nimport seaborn as sns'); }\n",
       "    "
      ],
      "text/plain": [
       "<IPython.core.display.Javascript object>"
      ]
     },
     "metadata": {},
     "output_type": "display_data"
    },
    {
     "data": {
      "application/javascript": [
       "\n",
       "        if (window._pyforest_update_imports_cell) { window._pyforest_update_imports_cell('import matplotlib.pyplot as plt\\nimport seaborn as sns'); }\n",
       "    "
      ],
      "text/plain": [
       "<IPython.core.display.Javascript object>"
      ]
     },
     "metadata": {},
     "output_type": "display_data"
    },
    {
     "data": {
      "application/javascript": [
       "\n",
       "        if (window._pyforest_update_imports_cell) { window._pyforest_update_imports_cell('import matplotlib.pyplot as plt\\nimport seaborn as sns'); }\n",
       "    "
      ],
      "text/plain": [
       "<IPython.core.display.Javascript object>"
      ]
     },
     "metadata": {},
     "output_type": "display_data"
    },
    {
     "data": {
      "application/javascript": [
       "\n",
       "        if (window._pyforest_update_imports_cell) { window._pyforest_update_imports_cell('import matplotlib.pyplot as plt\\nimport seaborn as sns'); }\n",
       "    "
      ],
      "text/plain": [
       "<IPython.core.display.Javascript object>"
      ]
     },
     "metadata": {},
     "output_type": "display_data"
    },
    {
     "data": {
      "image/png": "[encoded data removed]",
      "text/plain": [
       "<Figure size 432x288 with 1 Axes>"
      ]
     },
     "metadata": {
      "needs_background": "light"
     },
     "output_type": "display_data"
    }
   ],
   "source": [
    "#绘制概率密度图，用于展示数据分布\n",
    "plt.rcParams['font.sans-serif']=['SimHei'] #图片显示中文\n",
    "plt.rcParams['axes.unicode_minus'] =False #减号unicode编码\n",
    "sns.distplot(Standard_data['(1)资产负债率'])\n",
    "plt.show()"
   ]
  },
  {
   "cell_type": "markdown",
   "metadata": {},
   "source": [
    "从概率密度图中可以看出，标准化后的数据对称分布在0的两侧，接近于正态分布。"
   ]
  }
 ],
 "metadata": {
  "kernelspec": {
   "display_name": "Python 3",
   "language": "python 3",
   "name": "python3"
  },
  "language_info": {
   "codemirror_mode": {
    "name": "ipython",
    "version": 3
   },
   "file_extension": ".py",
   "mimetype": "text/x-python",
   "name": "python",
   "nbconvert_exporter": "python",
   "pygments_lexer": "ipython3",
   "version": "3.7.4"
  }
 },
 "nbformat": 4,
 "nbformat_minor": 2
}
