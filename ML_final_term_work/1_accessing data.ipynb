{
 "cells": [
  {
   "cell_type": "markdown",
   "id": "bc74e3dc-ce64-4748-b337-b5f9ab14412a",
   "metadata": {},
   "source": [
    "### 从TCGA数据库下载乳腺癌的数据"
   ]
  },
  {
   "cell_type": "markdown",
   "id": "8769d94a-31e1-4bbd-9ac8-b5c8ed8e50d4",
   "metadata": {},
   "source": [
    "Link: https://bioconductor.org/packages/devel/bioc/vignettes/TCGAbiolinks/inst/doc/casestudy.html"
   ]
  },
  {
   "cell_type": "code",
   "execution_count": 2,
   "id": "a126b028-5a55-4190-bf90-028c877e3ded",
   "metadata": {},
   "outputs": [],
   "source": [
    "library(SummarizedExperiment)\n",
    "library(TCGAbiolinks)"
   ]
  },
  {
   "cell_type": "code",
   "execution_count": 6,
   "id": "12cb5a2d-f82d-41d8-8e55-8c87320205ac",
   "metadata": {
    "collapsed": true,
    "jupyter": {
     "outputs_hidden": true
    },
    "tags": []
   },
   "outputs": [
    {
     "name": "stderr",
     "output_type": "stream",
     "text": [
      "--------------------------------------\n",
      "\n",
      "o GDCquery: Searching in GDC database\n",
      "\n",
      "--------------------------------------\n",
      "\n",
      "Genome of reference: hg38\n",
      "\n",
      "--------------------------------------------\n",
      "\n",
      "oo Accessing GDC. This might take a while...\n",
      "\n",
      "--------------------------------------------\n",
      "\n",
      "ooo Project: TCGA-BRCA\n",
      "\n",
      "--------------------\n",
      "\n",
      "oo Filtering results\n",
      "\n",
      "--------------------\n",
      "\n",
      "ooo By data.type\n",
      "\n",
      "ooo By workflow.type\n",
      "\n",
      "ooo By sample.type\n",
      "\n",
      "----------------\n",
      "\n",
      "oo Checking data\n",
      "\n",
      "----------------\n",
      "\n",
      "ooo Checking if there are duplicated cases\n",
      "\n",
      "ooo Checking if there are results for the query\n",
      "\n",
      "-------------------\n",
      "\n",
      "o Preparing output\n",
      "\n",
      "-------------------\n",
      "\n"
     ]
    }
   ],
   "source": [
    "query.exp <- GDCquery(\n",
    "    project = \"TCGA-BRCA\", \n",
    "    data.category = \"Transcriptome Profiling\",\n",
    "    data.type = \"Gene Expression Quantification\", \n",
    "    workflow.type = \"STAR - Counts\",\n",
    "    sample.type = c(\"Primary Tumor\",\"Solid Tissue Normal\")\n",
    ")"
   ]
  },
  {
   "cell_type": "code",
   "execution_count": 15,
   "id": "9b22fe85-d411-45ef-ab75-588b1fa75aec",
   "metadata": {},
   "outputs": [
    {
     "data": {
      "text/html": [
       "<table class=\"dataframe\">\n",
       "<caption>A data.frame: 1 × 12</caption>\n",
       "<thead>\n",
       "\t<tr><th scope=col>results</th><th scope=col>project</th><th scope=col>data.category</th><th scope=col>data.type</th><th scope=col>legacy</th><th scope=col>access</th><th scope=col>experimental.strategy</th><th scope=col>file.type</th><th scope=col>platform</th><th scope=col>sample.type</th><th scope=col>barcode</th><th scope=col>workflow.type</th></tr>\n",
       "\t<tr><th scope=col>&lt;I&lt;list&gt;&gt;</th><th scope=col>&lt;I&lt;list&gt;&gt;</th><th scope=col>&lt;chr&gt;</th><th scope=col>&lt;chr&gt;</th><th scope=col>&lt;lgl&gt;</th><th scope=col>&lt;I&lt;list&gt;&gt;</th><th scope=col>&lt;I&lt;list&gt;&gt;</th><th scope=col>&lt;lgl&gt;</th><th scope=col>&lt;I&lt;list&gt;&gt;</th><th scope=col>&lt;I&lt;list&gt;&gt;</th><th scope=col>&lt;I&lt;list&gt;&gt;</th><th scope=col>&lt;chr&gt;</th></tr>\n",
       "</thead>\n",
       "<tbody>\n",
       "\t<tr><td>c(\"d796d....</td><td>TCGA-BRCA</td><td>Transcriptome Profiling</td><td>Gene Expression Quantification</td><td>FALSE</td><td>NA</td><td>NA</td><td>NA</td><td>NA</td><td>Primary ....</td><td>NA</td><td>STAR - Counts</td></tr>\n",
       "</tbody>\n",
       "</table>\n"
      ],
      "text/latex": [
       "A data.frame: 1 × 12\n",
       "\\begin{tabular}{llllllllllll}\n",
       " results & project & data.category & data.type & legacy & access & experimental.strategy & file.type & platform & sample.type & barcode & workflow.type\\\\\n",
       " <I<list>> & <I<list>> & <chr> & <chr> & <lgl> & <I<list>> & <I<list>> & <lgl> & <I<list>> & <I<list>> & <I<list>> & <chr>\\\\\n",
       "\\hline\n",
       "\t c(\"d796d.... & TCGA-BRCA & Transcriptome Profiling & Gene Expression Quantification & FALSE & NA & NA & NA & NA & Primary .... & NA & STAR - Counts\\\\\n",
       "\\end{tabular}\n"
      ],
      "text/markdown": [
       "\n",
       "A data.frame: 1 × 12\n",
       "\n",
       "| results &lt;I&lt;list&gt;&gt; | project &lt;I&lt;list&gt;&gt; | data.category &lt;chr&gt; | data.type &lt;chr&gt; | legacy &lt;lgl&gt; | access &lt;I&lt;list&gt;&gt; | experimental.strategy &lt;I&lt;list&gt;&gt; | file.type &lt;lgl&gt; | platform &lt;I&lt;list&gt;&gt; | sample.type &lt;I&lt;list&gt;&gt; | barcode &lt;I&lt;list&gt;&gt; | workflow.type &lt;chr&gt; |\n",
       "|---|---|---|---|---|---|---|---|---|---|---|---|\n",
       "| c(\"d796d.... | TCGA-BRCA | Transcriptome Profiling | Gene Expression Quantification | FALSE | NA | NA | NA | NA | Primary .... | NA | STAR - Counts |\n",
       "\n"
      ],
      "text/plain": [
       "  results      project   data.category           data.type                     \n",
       "1 c(\"d796d.... TCGA-BRCA Transcriptome Profiling Gene Expression Quantification\n",
       "  legacy access experimental.strategy file.type platform sample.type  barcode\n",
       "1 FALSE  NA     NA                    NA        NA       Primary .... NA     \n",
       "  workflow.type\n",
       "1 STAR - Counts"
      ]
     },
     "metadata": {},
     "output_type": "display_data"
    }
   ],
   "source": [
    "query.exp"
   ]
  },
  {
   "cell_type": "code",
   "execution_count": 5,
   "id": "3d19d7a4-17a1-4612-8067-ba6975b3a6c6",
   "metadata": {
    "collapsed": true,
    "jupyter": {
     "outputs_hidden": true
    },
    "tags": []
   },
   "outputs": [
    {
     "name": "stderr",
     "output_type": "stream",
     "text": [
      "Downloading data for project TCGA-BRCA\n",
      "\n",
      "GDCdownload will download 1219 files. A total of 5.172431694 GB\n",
      "\n",
      "Downloading chunk 1 of 13 (100 files, size = 424.173433 MB) as Mon_Jun_20_09_16_47_2022_0.tar.gz\n",
      "\n"
     ]
    },
    {
     "name": "stdout",
     "output_type": "stream",
     "text": [
      "Downloading: 910 kB     "
     ]
    },
    {
     "name": "stderr",
     "output_type": "stream",
     "text": [
      "At least one of the chunks download was not correct. We will retry\n",
      "\n",
      "Downloading chunk 1 of 13 (100 files, size = 424.173433 MB) as Mon_Jun_20_09_16_47_2022_0.tar.gz\n",
      "\n"
     ]
    },
    {
     "name": "stdout",
     "output_type": "stream",
     "text": [
      "Downloading: 90 kB      "
     ]
    },
    {
     "ename": "ERROR",
     "evalue": "Error in GDCdownload.aux(server, manifest.aux, name.aux, path): There was an error in the download process (we might had a connection problem with GDC server).\nPlease run this function it again.\nTry using method = `client` or setting files.per.chunk to a small number.\n",
     "output_type": "error",
     "traceback": [
      "Error in GDCdownload.aux(server, manifest.aux, name.aux, path): There was an error in the download process (we might had a connection problem with GDC server).\nPlease run this function it again.\nTry using method = `client` or setting files.per.chunk to a small number.\nTraceback:\n",
      "1. GDCdownload(query = query.exp, files.per.chunk = 100)",
      "2. tryCatch({\n .     GDCdownload.by.chunk(server, manifest, name, path, step)\n . }, error = function(e) {\n .     message(\"At least one of the chunks download was not correct. We will retry\")\n .     manifest <- checkAlreadyDownloaded(path, manifest)\n .     GDCdownload.by.chunk(server, manifest, name, path, step)\n . })",
      "3. tryCatchList(expr, classes, parentenv, handlers)",
      "4. tryCatchOne(expr, names, parentenv, handlers[[1L]])",
      "5. value[[3L]](cond)",
      "6. GDCdownload.by.chunk(server, manifest, name, path, step)",
      "7. GDCdownload.aux(server, manifest.aux, name.aux, path)",
      "8. stop(paste0(\"There was an error in the download process (we might had a connection problem with GDC server).\", \n .     \"\\nPlease run this function it again.\", \"\\nTry using method = `client` or setting files.per.chunk to a small number.\"))"
     ]
    }
   ],
   "source": [
    "#下载数据，需要很长时间\n",
    "GDCdownload(\n",
    "    query = query.exp,\n",
    "    files.per.chunk = 100\n",
    ")"
   ]
  },
  {
   "cell_type": "code",
   "execution_count": 17,
   "id": "cd571e90-aeb6-4667-961a-6241d72d8da3",
   "metadata": {
    "collapsed": true,
    "jupyter": {
     "outputs_hidden": true
    },
    "tags": []
   },
   "outputs": [
    {
     "name": "stdout",
     "output_type": "stream",
     "text": [
      "|====================================================|100%                      Completed after 38 s \n"
     ]
    },
    {
     "name": "stderr",
     "output_type": "stream",
     "text": [
      "Starting to add information to samples\n",
      "\n",
      " => Add clinical information to samples\n",
      "\n",
      " => Adding TCGA molecular information from marker papers\n",
      "\n",
      " => Information will have prefix 'paper_' \n",
      "\n",
      "brca subtype information from:doi.org/10.1016/j.ccell.2018.03.014\n",
      "\n",
      "Available assays in SummarizedExperiment : \n",
      "  => unstranded\n",
      "  => stranded_first\n",
      "  => stranded_second\n",
      "  => tpm_unstrand\n",
      "  => fpkm_unstrand\n",
      "  => fpkm_uq_unstrand\n",
      "\n",
      "=> Saving file: brcaExp.rda\n",
      "\n",
      "=> File saved\n",
      "\n"
     ]
    }
   ],
   "source": [
    "brca.exp <- GDCprepare(\n",
    "    query = query.exp, \n",
    "    save = TRUE, \n",
    "    save.filename = \"brcaExp.rda\"\n",
    ")"
   ]
  },
  {
   "cell_type": "code",
   "execution_count": 20,
   "id": "3787c41f-7dbd-462b-a9f7-555321cb2e13",
   "metadata": {},
   "outputs": [],
   "source": [
    "saveRDS(brca.exp, file='/home/shiyu/桌面/机器学习/code/brcaExp.rds')"
   ]
  },
  {
   "cell_type": "code",
   "execution_count": 6,
   "id": "f31e4e2a-cbfc-496d-adba-558eff976b35",
   "metadata": {},
   "outputs": [],
   "source": [
    "brca.exp <- readRDS(\"/home/shiyu/桌面/机器学习/code/brcaExp.rds\")"
   ]
  },
  {
   "cell_type": "code",
   "execution_count": 7,
   "id": "a1e67a18-bb02-4566-b1bb-856ee7135b35",
   "metadata": {},
   "outputs": [
    {
     "data": {
      "text/plain": [
       "class: RangedSummarizedExperiment \n",
       "dim: 60660 1219 \n",
       "metadata(1): data_release\n",
       "assays(6): unstranded stranded_first ... fpkm_unstrand fpkm_uq_unstrand\n",
       "rownames(60660): ENSG00000000003.15 ENSG00000000005.6 ...\n",
       "  ENSG00000288674.1 ENSG00000288675.1\n",
       "rowData names(10): source type ... hgnc_id havana_gene\n",
       "colnames(1219): TCGA-E2-A1L7-11A-33R-A144-07\n",
       "  TCGA-E2-A1L7-01A-11R-A144-07 ... TCGA-E2-A15D-01A-11R-A115-07\n",
       "  TCGA-OL-A5D7-01A-11R-A27Q-07\n",
       "colData names(85): barcode patient ... paper_PARADIGM Clusters\n",
       "  paper_Pan-Gyn Clusters"
      ]
     },
     "metadata": {},
     "output_type": "display_data"
    }
   ],
   "source": [
    "brca.exp"
   ]
  },
  {
   "cell_type": "code",
   "execution_count": 15,
   "id": "381458c1-54e5-49bd-9e25-51a29f986fc5",
   "metadata": {},
   "outputs": [
    {
     "data": {
      "text/html": [
       "<style>\n",
       ".list-inline {list-style: none; margin:0; padding: 0}\n",
       ".list-inline>li {display: inline-block}\n",
       ".list-inline>li:not(:last-child)::after {content: \"\\00b7\"; padding: 0 .5ex}\n",
       "</style>\n",
       "<ol class=list-inline><li>60660</li><li>1219</li></ol>\n"
      ],
      "text/latex": [
       "\\begin{enumerate*}\n",
       "\\item 60660\n",
       "\\item 1219\n",
       "\\end{enumerate*}\n"
      ],
      "text/markdown": [
       "1. 60660\n",
       "2. 1219\n",
       "\n",
       "\n"
      ],
      "text/plain": [
       "[1] 60660  1219"
      ]
     },
     "metadata": {},
     "output_type": "display_data"
    }
   ],
   "source": [
    "dim(brca.exp)"
   ]
  },
  {
   "cell_type": "code",
   "execution_count": 17,
   "id": "3505df1b-8ef3-4e80-9554-cee59e505454",
   "metadata": {},
   "outputs": [],
   "source": [
    "exp = brca.exp"
   ]
  },
  {
   "cell_type": "code",
   "execution_count": 19,
   "id": "03e05950-54a9-4e05-915b-652cd95ed2d2",
   "metadata": {},
   "outputs": [
    {
     "data": {
      "text/html": [
       "<table class=\"dataframe\">\n",
       "<caption>A matrix: 6 × 1219 of type int</caption>\n",
       "<thead>\n",
       "\t<tr><th></th><th scope=col>TCGA-E2-A1L7-11A-33R-A144-07</th><th scope=col>TCGA-E2-A1L7-01A-11R-A144-07</th><th scope=col>TCGA-AR-A0U0-01A-11R-A109-07</th><th scope=col>TCGA-BH-A28O-01A-11R-A22K-07</th><th scope=col>TCGA-A2-A0D4-01A-11R-A00Z-07</th><th scope=col>TCGA-E9-A1R4-01A-21R-A14D-07</th><th scope=col>TCGA-AO-A1KQ-01A-11R-A13Q-07</th><th scope=col>TCGA-AC-A62V-01A-11R-A31O-07</th><th scope=col>TCGA-D8-A143-01A-11R-A115-07</th><th scope=col>TCGA-A2-A0SV-01A-11R-A084-07</th><th scope=col>⋯</th><th scope=col>TCGA-A2-A0SU-01A-11R-A084-07</th><th scope=col>TCGA-E9-A1NI-01A-11R-A14D-07</th><th scope=col>TCGA-B6-A0RQ-01A-11R-A115-07</th><th scope=col>TCGA-E9-A1RF-01A-11R-A157-07</th><th scope=col>TCGA-A2-A0CX-01A-21R-A00Z-07</th><th scope=col>TCGA-E2-A158-11A-22R-A12D-07</th><th scope=col>TCGA-A2-A25F-01A-11R-A169-07</th><th scope=col>TCGA-AC-A23G-01A-11R-A213-07</th><th scope=col>TCGA-E2-A15D-01A-11R-A115-07</th><th scope=col>TCGA-OL-A5D7-01A-11R-A27Q-07</th></tr>\n",
       "</thead>\n",
       "<tbody>\n",
       "\t<tr><th scope=row>ENSG00000000003.15</th><td>4209</td><td>1689</td><td>1590</td><td>4583</td><td>1550</td><td> 711</td><td> 825</td><td> 783</td><td>6142</td><td>1275</td><td>⋯</td><td>8928</td><td> 441</td><td>6821</td><td> 674</td><td>3226</td><td>1816</td><td>2509</td><td>1356</td><td>4243</td><td>2006</td></tr>\n",
       "\t<tr><th scope=row>ENSG00000000005.6</th><td>  71</td><td>  16</td><td>   0</td><td> 135</td><td>  45</td><td>  15</td><td>   3</td><td>  16</td><td>   1</td><td>   4</td><td>⋯</td><td>   7</td><td>   0</td><td>  63</td><td>  41</td><td>   1</td><td> 682</td><td> 370</td><td>   7</td><td>  85</td><td>   5</td></tr>\n",
       "\t<tr><th scope=row>ENSG00000000419.13</th><td>1611</td><td>1810</td><td>2073</td><td>1531</td><td>2710</td><td>1943</td><td>2626</td><td>2205</td><td>2609</td><td>3159</td><td>⋯</td><td>1273</td><td>2125</td><td>2106</td><td>3721</td><td>1901</td><td> 875</td><td>2492</td><td> 620</td><td>1590</td><td>1874</td></tr>\n",
       "\t<tr><th scope=row>ENSG00000000457.14</th><td>1217</td><td>1098</td><td> 889</td><td>1445</td><td>2026</td><td>1285</td><td>1058</td><td> 371</td><td>1577</td><td>1593</td><td>⋯</td><td>1356</td><td>1002</td><td>1419</td><td>2539</td><td>1445</td><td> 489</td><td>1096</td><td> 774</td><td>3535</td><td>1197</td></tr>\n",
       "\t<tr><th scope=row>ENSG00000000460.17</th><td> 346</td><td> 715</td><td> 601</td><td> 298</td><td>1142</td><td> 549</td><td> 592</td><td> 374</td><td>2136</td><td>1000</td><td>⋯</td><td> 289</td><td> 430</td><td> 398</td><td> 866</td><td> 741</td><td> 149</td><td> 881</td><td> 323</td><td> 678</td><td>1505</td></tr>\n",
       "\t<tr><th scope=row>ENSG00000000938.13</th><td> 787</td><td> 624</td><td> 639</td><td> 515</td><td> 177</td><td> 713</td><td> 442</td><td> 227</td><td> 335</td><td>1257</td><td>⋯</td><td> 308</td><td> 204</td><td> 463</td><td> 904</td><td> 343</td><td> 502</td><td>4129</td><td> 471</td><td> 352</td><td> 693</td></tr>\n",
       "</tbody>\n",
       "</table>\n"
      ],
      "text/latex": [
       "A matrix: 6 × 1219 of type int\n",
       "\\begin{tabular}{r|lllllllllllllllllllll}\n",
       "  & TCGA-E2-A1L7-11A-33R-A144-07 & TCGA-E2-A1L7-01A-11R-A144-07 & TCGA-AR-A0U0-01A-11R-A109-07 & TCGA-BH-A28O-01A-11R-A22K-07 & TCGA-A2-A0D4-01A-11R-A00Z-07 & TCGA-E9-A1R4-01A-21R-A14D-07 & TCGA-AO-A1KQ-01A-11R-A13Q-07 & TCGA-AC-A62V-01A-11R-A31O-07 & TCGA-D8-A143-01A-11R-A115-07 & TCGA-A2-A0SV-01A-11R-A084-07 & ⋯ & TCGA-A2-A0SU-01A-11R-A084-07 & TCGA-E9-A1NI-01A-11R-A14D-07 & TCGA-B6-A0RQ-01A-11R-A115-07 & TCGA-E9-A1RF-01A-11R-A157-07 & TCGA-A2-A0CX-01A-21R-A00Z-07 & TCGA-E2-A158-11A-22R-A12D-07 & TCGA-A2-A25F-01A-11R-A169-07 & TCGA-AC-A23G-01A-11R-A213-07 & TCGA-E2-A15D-01A-11R-A115-07 & TCGA-OL-A5D7-01A-11R-A27Q-07\\\\\n",
       "\\hline\n",
       "\tENSG00000000003.15 & 4209 & 1689 & 1590 & 4583 & 1550 &  711 &  825 &  783 & 6142 & 1275 & ⋯ & 8928 &  441 & 6821 &  674 & 3226 & 1816 & 2509 & 1356 & 4243 & 2006\\\\\n",
       "\tENSG00000000005.6 &   71 &   16 &    0 &  135 &   45 &   15 &    3 &   16 &    1 &    4 & ⋯ &    7 &    0 &   63 &   41 &    1 &  682 &  370 &    7 &   85 &    5\\\\\n",
       "\tENSG00000000419.13 & 1611 & 1810 & 2073 & 1531 & 2710 & 1943 & 2626 & 2205 & 2609 & 3159 & ⋯ & 1273 & 2125 & 2106 & 3721 & 1901 &  875 & 2492 &  620 & 1590 & 1874\\\\\n",
       "\tENSG00000000457.14 & 1217 & 1098 &  889 & 1445 & 2026 & 1285 & 1058 &  371 & 1577 & 1593 & ⋯ & 1356 & 1002 & 1419 & 2539 & 1445 &  489 & 1096 &  774 & 3535 & 1197\\\\\n",
       "\tENSG00000000460.17 &  346 &  715 &  601 &  298 & 1142 &  549 &  592 &  374 & 2136 & 1000 & ⋯ &  289 &  430 &  398 &  866 &  741 &  149 &  881 &  323 &  678 & 1505\\\\\n",
       "\tENSG00000000938.13 &  787 &  624 &  639 &  515 &  177 &  713 &  442 &  227 &  335 & 1257 & ⋯ &  308 &  204 &  463 &  904 &  343 &  502 & 4129 &  471 &  352 &  693\\\\\n",
       "\\end{tabular}\n"
      ],
      "text/markdown": [
       "\n",
       "A matrix: 6 × 1219 of type int\n",
       "\n",
       "| <!--/--> | TCGA-E2-A1L7-11A-33R-A144-07 | TCGA-E2-A1L7-01A-11R-A144-07 | TCGA-AR-A0U0-01A-11R-A109-07 | TCGA-BH-A28O-01A-11R-A22K-07 | TCGA-A2-A0D4-01A-11R-A00Z-07 | TCGA-E9-A1R4-01A-21R-A14D-07 | TCGA-AO-A1KQ-01A-11R-A13Q-07 | TCGA-AC-A62V-01A-11R-A31O-07 | TCGA-D8-A143-01A-11R-A115-07 | TCGA-A2-A0SV-01A-11R-A084-07 | ⋯ | TCGA-A2-A0SU-01A-11R-A084-07 | TCGA-E9-A1NI-01A-11R-A14D-07 | TCGA-B6-A0RQ-01A-11R-A115-07 | TCGA-E9-A1RF-01A-11R-A157-07 | TCGA-A2-A0CX-01A-21R-A00Z-07 | TCGA-E2-A158-11A-22R-A12D-07 | TCGA-A2-A25F-01A-11R-A169-07 | TCGA-AC-A23G-01A-11R-A213-07 | TCGA-E2-A15D-01A-11R-A115-07 | TCGA-OL-A5D7-01A-11R-A27Q-07 |\n",
       "|---|---|---|---|---|---|---|---|---|---|---|---|---|---|---|---|---|---|---|---|---|---|\n",
       "| ENSG00000000003.15 | 4209 | 1689 | 1590 | 4583 | 1550 |  711 |  825 |  783 | 6142 | 1275 | ⋯ | 8928 |  441 | 6821 |  674 | 3226 | 1816 | 2509 | 1356 | 4243 | 2006 |\n",
       "| ENSG00000000005.6 |   71 |   16 |    0 |  135 |   45 |   15 |    3 |   16 |    1 |    4 | ⋯ |    7 |    0 |   63 |   41 |    1 |  682 |  370 |    7 |   85 |    5 |\n",
       "| ENSG00000000419.13 | 1611 | 1810 | 2073 | 1531 | 2710 | 1943 | 2626 | 2205 | 2609 | 3159 | ⋯ | 1273 | 2125 | 2106 | 3721 | 1901 |  875 | 2492 |  620 | 1590 | 1874 |\n",
       "| ENSG00000000457.14 | 1217 | 1098 |  889 | 1445 | 2026 | 1285 | 1058 |  371 | 1577 | 1593 | ⋯ | 1356 | 1002 | 1419 | 2539 | 1445 |  489 | 1096 |  774 | 3535 | 1197 |\n",
       "| ENSG00000000460.17 |  346 |  715 |  601 |  298 | 1142 |  549 |  592 |  374 | 2136 | 1000 | ⋯ |  289 |  430 |  398 |  866 |  741 |  149 |  881 |  323 |  678 | 1505 |\n",
       "| ENSG00000000938.13 |  787 |  624 |  639 |  515 |  177 |  713 |  442 |  227 |  335 | 1257 | ⋯ |  308 |  204 |  463 |  904 |  343 |  502 | 4129 |  471 |  352 |  693 |\n",
       "\n"
      ],
      "text/plain": [
       "                   TCGA-E2-A1L7-11A-33R-A144-07 TCGA-E2-A1L7-01A-11R-A144-07\n",
       "ENSG00000000003.15 4209                         1689                        \n",
       "ENSG00000000005.6    71                           16                        \n",
       "ENSG00000000419.13 1611                         1810                        \n",
       "ENSG00000000457.14 1217                         1098                        \n",
       "ENSG00000000460.17  346                          715                        \n",
       "ENSG00000000938.13  787                          624                        \n",
       "                   TCGA-AR-A0U0-01A-11R-A109-07 TCGA-BH-A28O-01A-11R-A22K-07\n",
       "ENSG00000000003.15 1590                         4583                        \n",
       "ENSG00000000005.6     0                          135                        \n",
       "ENSG00000000419.13 2073                         1531                        \n",
       "ENSG00000000457.14  889                         1445                        \n",
       "ENSG00000000460.17  601                          298                        \n",
       "ENSG00000000938.13  639                          515                        \n",
       "                   TCGA-A2-A0D4-01A-11R-A00Z-07 TCGA-E9-A1R4-01A-21R-A14D-07\n",
       "ENSG00000000003.15 1550                          711                        \n",
       "ENSG00000000005.6    45                           15                        \n",
       "ENSG00000000419.13 2710                         1943                        \n",
       "ENSG00000000457.14 2026                         1285                        \n",
       "ENSG00000000460.17 1142                          549                        \n",
       "ENSG00000000938.13  177                          713                        \n",
       "                   TCGA-AO-A1KQ-01A-11R-A13Q-07 TCGA-AC-A62V-01A-11R-A31O-07\n",
       "ENSG00000000003.15  825                          783                        \n",
       "ENSG00000000005.6     3                           16                        \n",
       "ENSG00000000419.13 2626                         2205                        \n",
       "ENSG00000000457.14 1058                          371                        \n",
       "ENSG00000000460.17  592                          374                        \n",
       "ENSG00000000938.13  442                          227                        \n",
       "                   TCGA-D8-A143-01A-11R-A115-07 TCGA-A2-A0SV-01A-11R-A084-07 ⋯\n",
       "ENSG00000000003.15 6142                         1275                         ⋯\n",
       "ENSG00000000005.6     1                            4                         ⋯\n",
       "ENSG00000000419.13 2609                         3159                         ⋯\n",
       "ENSG00000000457.14 1577                         1593                         ⋯\n",
       "ENSG00000000460.17 2136                         1000                         ⋯\n",
       "ENSG00000000938.13  335                         1257                         ⋯\n",
       "                   TCGA-A2-A0SU-01A-11R-A084-07 TCGA-E9-A1NI-01A-11R-A14D-07\n",
       "ENSG00000000003.15 8928                          441                        \n",
       "ENSG00000000005.6     7                            0                        \n",
       "ENSG00000000419.13 1273                         2125                        \n",
       "ENSG00000000457.14 1356                         1002                        \n",
       "ENSG00000000460.17  289                          430                        \n",
       "ENSG00000000938.13  308                          204                        \n",
       "                   TCGA-B6-A0RQ-01A-11R-A115-07 TCGA-E9-A1RF-01A-11R-A157-07\n",
       "ENSG00000000003.15 6821                          674                        \n",
       "ENSG00000000005.6    63                           41                        \n",
       "ENSG00000000419.13 2106                         3721                        \n",
       "ENSG00000000457.14 1419                         2539                        \n",
       "ENSG00000000460.17  398                          866                        \n",
       "ENSG00000000938.13  463                          904                        \n",
       "                   TCGA-A2-A0CX-01A-21R-A00Z-07 TCGA-E2-A158-11A-22R-A12D-07\n",
       "ENSG00000000003.15 3226                         1816                        \n",
       "ENSG00000000005.6     1                          682                        \n",
       "ENSG00000000419.13 1901                          875                        \n",
       "ENSG00000000457.14 1445                          489                        \n",
       "ENSG00000000460.17  741                          149                        \n",
       "ENSG00000000938.13  343                          502                        \n",
       "                   TCGA-A2-A25F-01A-11R-A169-07 TCGA-AC-A23G-01A-11R-A213-07\n",
       "ENSG00000000003.15 2509                         1356                        \n",
       "ENSG00000000005.6   370                            7                        \n",
       "ENSG00000000419.13 2492                          620                        \n",
       "ENSG00000000457.14 1096                          774                        \n",
       "ENSG00000000460.17  881                          323                        \n",
       "ENSG00000000938.13 4129                          471                        \n",
       "                   TCGA-E2-A15D-01A-11R-A115-07 TCGA-OL-A5D7-01A-11R-A27Q-07\n",
       "ENSG00000000003.15 4243                         2006                        \n",
       "ENSG00000000005.6    85                            5                        \n",
       "ENSG00000000419.13 1590                         1874                        \n",
       "ENSG00000000457.14 3535                         1197                        \n",
       "ENSG00000000460.17  678                         1505                        \n",
       "ENSG00000000938.13  352                          693                        "
      ]
     },
     "metadata": {},
     "output_type": "display_data"
    },
    {
     "data": {
      "text/html": [
       "<style>\n",
       ".list-inline {list-style: none; margin:0; padding: 0}\n",
       ".list-inline>li {display: inline-block}\n",
       ".list-inline>li:not(:last-child)::after {content: \"\\00b7\"; padding: 0 .5ex}\n",
       "</style>\n",
       "<ol class=list-inline><li>60660</li><li>1219</li></ol>\n"
      ],
      "text/latex": [
       "\\begin{enumerate*}\n",
       "\\item 60660\n",
       "\\item 1219\n",
       "\\end{enumerate*}\n"
      ],
      "text/markdown": [
       "1. 60660\n",
       "2. 1219\n",
       "\n",
       "\n"
      ],
      "text/plain": [
       "[1] 60660  1219"
      ]
     },
     "metadata": {},
     "output_type": "display_data"
    }
   ],
   "source": [
    "head(assay(exp))\n",
    "dim(assay(exp))"
   ]
  },
  {
   "cell_type": "code",
   "execution_count": 24,
   "id": "694a536d-b68a-4fa0-8c19-5c0556a8c004",
   "metadata": {},
   "outputs": [],
   "source": [
    "write.csv(assay(exp), '/home/shiyu/data/BRCA/full_data.csv')"
   ]
  },
  {
   "cell_type": "code",
   "execution_count": 25,
   "id": "1ee011d9-87e4-401b-87e2-8acab74c03cd",
   "metadata": {},
   "outputs": [
    {
     "name": "stderr",
     "output_type": "stream",
     "text": [
      "brca subtype information from:doi.org/10.1016/j.ccell.2018.03.014\n",
      "\n"
     ]
    }
   ],
   "source": [
    "# get subtype information\n",
    "infomation.subtype <- TCGAquery_subtype(tumor = \"BRCA\")"
   ]
  },
  {
   "cell_type": "code",
   "execution_count": 27,
   "id": "ec8b1469-5478-4752-b5f0-0d7103811292",
   "metadata": {},
   "outputs": [
    {
     "data": {
      "text/html": [
       "<table class=\"dataframe\">\n",
       "<caption>A tibble: 2 × 24</caption>\n",
       "<thead>\n",
       "\t<tr><th scope=col>patient</th><th scope=col>Tumor.Type</th><th scope=col>Included_in_previous_marker_papers</th><th scope=col>vital_status</th><th scope=col>days_to_birth</th><th scope=col>days_to_death</th><th scope=col>days_to_last_followup</th><th scope=col>age_at_initial_pathologic_diagnosis</th><th scope=col>pathologic_stage</th><th scope=col>Tumor_Grade</th><th scope=col>⋯</th><th scope=col>tobacco_smoking_history</th><th scope=col>CNV Clusters</th><th scope=col>Mutation Clusters</th><th scope=col>DNA.Methylation Clusters</th><th scope=col>mRNA Clusters</th><th scope=col>miRNA Clusters</th><th scope=col>lncRNA Clusters</th><th scope=col>Protein Clusters</th><th scope=col>PARADIGM Clusters</th><th scope=col>Pan-Gyn Clusters</th></tr>\n",
       "\t<tr><th scope=col>&lt;chr&gt;</th><th scope=col>&lt;chr&gt;</th><th scope=col>&lt;chr&gt;</th><th scope=col>&lt;chr&gt;</th><th scope=col>&lt;chr&gt;</th><th scope=col>&lt;chr&gt;</th><th scope=col>&lt;chr&gt;</th><th scope=col>&lt;dbl&gt;</th><th scope=col>&lt;chr&gt;</th><th scope=col>&lt;chr&gt;</th><th scope=col>⋯</th><th scope=col>&lt;chr&gt;</th><th scope=col>&lt;chr&gt;</th><th scope=col>&lt;chr&gt;</th><th scope=col>&lt;chr&gt;</th><th scope=col>&lt;chr&gt;</th><th scope=col>&lt;chr&gt;</th><th scope=col>&lt;chr&gt;</th><th scope=col>&lt;chr&gt;</th><th scope=col>&lt;chr&gt;</th><th scope=col>&lt;chr&gt;</th></tr>\n",
       "</thead>\n",
       "<tbody>\n",
       "\t<tr><td>TCGA-3C-AAAU</td><td>BRCA</td><td>NO</td><td>Alive</td><td>-20211</td><td>NA</td><td>4047</td><td>55</td><td>NA      </td><td>NA</td><td>⋯</td><td>NA</td><td>C6</td><td>C7</td><td>C1</td><td>C1</td><td>C3</td><td>NA</td><td>NA</td><td>C5</td><td>NA</td></tr>\n",
       "\t<tr><td>TCGA-3C-AALI</td><td>BRCA</td><td>NO</td><td>Alive</td><td>-18538</td><td>NA</td><td>4005</td><td>50</td><td>Stage_II</td><td>NA</td><td>⋯</td><td>NA</td><td>C6</td><td>C9</td><td>C2</td><td>C2</td><td>C3</td><td>NA</td><td>C2</td><td>C4</td><td>C4</td></tr>\n",
       "</tbody>\n",
       "</table>\n"
      ],
      "text/latex": [
       "A tibble: 2 × 24\n",
       "\\begin{tabular}{lllllllllllllllllllll}\n",
       " patient & Tumor.Type & Included\\_in\\_previous\\_marker\\_papers & vital\\_status & days\\_to\\_birth & days\\_to\\_death & days\\_to\\_last\\_followup & age\\_at\\_initial\\_pathologic\\_diagnosis & pathologic\\_stage & Tumor\\_Grade & ⋯ & tobacco\\_smoking\\_history & CNV Clusters & Mutation Clusters & DNA.Methylation Clusters & mRNA Clusters & miRNA Clusters & lncRNA Clusters & Protein Clusters & PARADIGM Clusters & Pan-Gyn Clusters\\\\\n",
       " <chr> & <chr> & <chr> & <chr> & <chr> & <chr> & <chr> & <dbl> & <chr> & <chr> & ⋯ & <chr> & <chr> & <chr> & <chr> & <chr> & <chr> & <chr> & <chr> & <chr> & <chr>\\\\\n",
       "\\hline\n",
       "\t TCGA-3C-AAAU & BRCA & NO & Alive & -20211 & NA & 4047 & 55 & NA       & NA & ⋯ & NA & C6 & C7 & C1 & C1 & C3 & NA & NA & C5 & NA\\\\\n",
       "\t TCGA-3C-AALI & BRCA & NO & Alive & -18538 & NA & 4005 & 50 & Stage\\_II & NA & ⋯ & NA & C6 & C9 & C2 & C2 & C3 & NA & C2 & C4 & C4\\\\\n",
       "\\end{tabular}\n"
      ],
      "text/markdown": [
       "\n",
       "A tibble: 2 × 24\n",
       "\n",
       "| patient &lt;chr&gt; | Tumor.Type &lt;chr&gt; | Included_in_previous_marker_papers &lt;chr&gt; | vital_status &lt;chr&gt; | days_to_birth &lt;chr&gt; | days_to_death &lt;chr&gt; | days_to_last_followup &lt;chr&gt; | age_at_initial_pathologic_diagnosis &lt;dbl&gt; | pathologic_stage &lt;chr&gt; | Tumor_Grade &lt;chr&gt; | ⋯ ⋯ | tobacco_smoking_history &lt;chr&gt; | CNV Clusters &lt;chr&gt; | Mutation Clusters &lt;chr&gt; | DNA.Methylation Clusters &lt;chr&gt; | mRNA Clusters &lt;chr&gt; | miRNA Clusters &lt;chr&gt; | lncRNA Clusters &lt;chr&gt; | Protein Clusters &lt;chr&gt; | PARADIGM Clusters &lt;chr&gt; | Pan-Gyn Clusters &lt;chr&gt; |\n",
       "|---|---|---|---|---|---|---|---|---|---|---|---|---|---|---|---|---|---|---|---|---|\n",
       "| TCGA-3C-AAAU | BRCA | NO | Alive | -20211 | NA | 4047 | 55 | NA       | NA | ⋯ | NA | C6 | C7 | C1 | C1 | C3 | NA | NA | C5 | NA |\n",
       "| TCGA-3C-AALI | BRCA | NO | Alive | -18538 | NA | 4005 | 50 | Stage_II | NA | ⋯ | NA | C6 | C9 | C2 | C2 | C3 | NA | C2 | C4 | C4 |\n",
       "\n"
      ],
      "text/plain": [
       "  patient      Tumor.Type Included_in_previous_marker_papers vital_status\n",
       "1 TCGA-3C-AAAU BRCA       NO                                 Alive       \n",
       "2 TCGA-3C-AALI BRCA       NO                                 Alive       \n",
       "  days_to_birth days_to_death days_to_last_followup\n",
       "1 -20211        NA            4047                 \n",
       "2 -18538        NA            4005                 \n",
       "  age_at_initial_pathologic_diagnosis pathologic_stage Tumor_Grade ⋯\n",
       "1 55                                  NA               NA          ⋯\n",
       "2 50                                  Stage_II         NA          ⋯\n",
       "  tobacco_smoking_history CNV Clusters Mutation Clusters\n",
       "1 NA                      C6           C7               \n",
       "2 NA                      C6           C9               \n",
       "  DNA.Methylation Clusters mRNA Clusters miRNA Clusters lncRNA Clusters\n",
       "1 C1                       C1            C3             NA             \n",
       "2 C2                       C2            C3             NA             \n",
       "  Protein Clusters PARADIGM Clusters Pan-Gyn Clusters\n",
       "1 NA               C5                NA              \n",
       "2 C2               C4                C4              "
      ]
     },
     "metadata": {},
     "output_type": "display_data"
    },
    {
     "data": {
      "text/html": [
       "<style>\n",
       ".list-inline {list-style: none; margin:0; padding: 0}\n",
       ".list-inline>li {display: inline-block}\n",
       ".list-inline>li:not(:last-child)::after {content: \"\\00b7\"; padding: 0 .5ex}\n",
       "</style>\n",
       "<ol class=list-inline><li>1087</li><li>24</li></ol>\n"
      ],
      "text/latex": [
       "\\begin{enumerate*}\n",
       "\\item 1087\n",
       "\\item 24\n",
       "\\end{enumerate*}\n"
      ],
      "text/markdown": [
       "1. 1087\n",
       "2. 24\n",
       "\n",
       "\n"
      ],
      "text/plain": [
       "[1] 1087   24"
      ]
     },
     "metadata": {},
     "output_type": "display_data"
    }
   ],
   "source": [
    "head(infomation.subtype,2)\n",
    "dim(infomation.subtype)"
   ]
  },
  {
   "cell_type": "code",
   "execution_count": 30,
   "id": "7548f0c4-cfa4-4a99-8c88-c090874b54ef",
   "metadata": {},
   "outputs": [],
   "source": [
    "write.csv(infomation.subtype, '/home/shiyu/data/BRCA/infomation_subtype.csv')"
   ]
  },
  {
   "cell_type": "code",
   "execution_count": 28,
   "id": "6923f150-193f-4060-a37b-f876d8f0db22",
   "metadata": {},
   "outputs": [],
   "source": [
    "# get clinical data\n",
    "information.clinical <- GDCquery_clinic(project = \"TCGA-BRCA\",type = \"clinical\") "
   ]
  },
  {
   "cell_type": "code",
   "execution_count": 29,
   "id": "de2b9072-59c7-4270-a07f-5ec8e044864c",
   "metadata": {},
   "outputs": [
    {
     "data": {
      "text/html": [
       "<table class=\"dataframe\">\n",
       "<caption>A data.frame: 2 × 70</caption>\n",
       "<thead>\n",
       "\t<tr><th></th><th scope=col>project</th><th scope=col>submitter_id</th><th scope=col>synchronous_malignancy</th><th scope=col>ajcc_pathologic_stage</th><th scope=col>days_to_diagnosis</th><th scope=col>created_datetime</th><th scope=col>last_known_disease_status</th><th scope=col>tissue_or_organ_of_origin</th><th scope=col>days_to_last_follow_up</th><th scope=col>age_at_diagnosis</th><th scope=col>⋯</th><th scope=col>treatments_radiation_treatment_type</th><th scope=col>treatments_radiation_regimen_or_line_of_therapy</th><th scope=col>treatments_radiation_treatment_effect</th><th scope=col>treatments_radiation_therapeutic_agents</th><th scope=col>treatments_radiation_treatment_or_therapy</th><th scope=col>treatments_radiation_initial_disease_status</th><th scope=col>treatments_radiation_treatment_intent_type</th><th scope=col>treatments_radiation_treatment_anatomic_site</th><th scope=col>treatments_radiation_treatment_outcome</th><th scope=col>bcr_patient_barcode</th></tr>\n",
       "\t<tr><th></th><th scope=col>&lt;chr&gt;</th><th scope=col>&lt;chr&gt;</th><th scope=col>&lt;chr&gt;</th><th scope=col>&lt;chr&gt;</th><th scope=col>&lt;int&gt;</th><th scope=col>&lt;lgl&gt;</th><th scope=col>&lt;chr&gt;</th><th scope=col>&lt;chr&gt;</th><th scope=col>&lt;int&gt;</th><th scope=col>&lt;int&gt;</th><th scope=col>⋯</th><th scope=col>&lt;chr&gt;</th><th scope=col>&lt;lgl&gt;</th><th scope=col>&lt;lgl&gt;</th><th scope=col>&lt;lgl&gt;</th><th scope=col>&lt;chr&gt;</th><th scope=col>&lt;lgl&gt;</th><th scope=col>&lt;lgl&gt;</th><th scope=col>&lt;lgl&gt;</th><th scope=col>&lt;lgl&gt;</th><th scope=col>&lt;chr&gt;</th></tr>\n",
       "</thead>\n",
       "<tbody>\n",
       "\t<tr><th scope=row>1</th><td>TCGA-BRCA</td><td>TCGA-A7-A0DA</td><td>No</td><td>Stage IIA</td><td>0</td><td>NA</td><td>not reported</td><td>Breast, NOS</td><td>1085</td><td>22708</td><td>⋯</td><td>Radiation Therapy, NOS</td><td>NA</td><td>NA</td><td>NA</td><td>yes</td><td>NA</td><td>NA</td><td>NA</td><td>NA</td><td>TCGA-A7-A0DA</td></tr>\n",
       "\t<tr><th scope=row>2</th><td>TCGA-BRCA</td><td>TCGA-BH-A0BD</td><td>No</td><td>Stage IIA</td><td>0</td><td>NA</td><td>not reported</td><td>Breast, NOS</td><td> 554</td><td>17275</td><td>⋯</td><td>Radiation Therapy, NOS</td><td>NA</td><td>NA</td><td>NA</td><td>yes</td><td>NA</td><td>NA</td><td>NA</td><td>NA</td><td>TCGA-BH-A0BD</td></tr>\n",
       "</tbody>\n",
       "</table>\n"
      ],
      "text/latex": [
       "A data.frame: 2 × 70\n",
       "\\begin{tabular}{r|lllllllllllllllllllll}\n",
       "  & project & submitter\\_id & synchronous\\_malignancy & ajcc\\_pathologic\\_stage & days\\_to\\_diagnosis & created\\_datetime & last\\_known\\_disease\\_status & tissue\\_or\\_organ\\_of\\_origin & days\\_to\\_last\\_follow\\_up & age\\_at\\_diagnosis & ⋯ & treatments\\_radiation\\_treatment\\_type & treatments\\_radiation\\_regimen\\_or\\_line\\_of\\_therapy & treatments\\_radiation\\_treatment\\_effect & treatments\\_radiation\\_therapeutic\\_agents & treatments\\_radiation\\_treatment\\_or\\_therapy & treatments\\_radiation\\_initial\\_disease\\_status & treatments\\_radiation\\_treatment\\_intent\\_type & treatments\\_radiation\\_treatment\\_anatomic\\_site & treatments\\_radiation\\_treatment\\_outcome & bcr\\_patient\\_barcode\\\\\n",
       "  & <chr> & <chr> & <chr> & <chr> & <int> & <lgl> & <chr> & <chr> & <int> & <int> & ⋯ & <chr> & <lgl> & <lgl> & <lgl> & <chr> & <lgl> & <lgl> & <lgl> & <lgl> & <chr>\\\\\n",
       "\\hline\n",
       "\t1 & TCGA-BRCA & TCGA-A7-A0DA & No & Stage IIA & 0 & NA & not reported & Breast, NOS & 1085 & 22708 & ⋯ & Radiation Therapy, NOS & NA & NA & NA & yes & NA & NA & NA & NA & TCGA-A7-A0DA\\\\\n",
       "\t2 & TCGA-BRCA & TCGA-BH-A0BD & No & Stage IIA & 0 & NA & not reported & Breast, NOS &  554 & 17275 & ⋯ & Radiation Therapy, NOS & NA & NA & NA & yes & NA & NA & NA & NA & TCGA-BH-A0BD\\\\\n",
       "\\end{tabular}\n"
      ],
      "text/markdown": [
       "\n",
       "A data.frame: 2 × 70\n",
       "\n",
       "| <!--/--> | project &lt;chr&gt; | submitter_id &lt;chr&gt; | synchronous_malignancy &lt;chr&gt; | ajcc_pathologic_stage &lt;chr&gt; | days_to_diagnosis &lt;int&gt; | created_datetime &lt;lgl&gt; | last_known_disease_status &lt;chr&gt; | tissue_or_organ_of_origin &lt;chr&gt; | days_to_last_follow_up &lt;int&gt; | age_at_diagnosis &lt;int&gt; | ⋯ ⋯ | treatments_radiation_treatment_type &lt;chr&gt; | treatments_radiation_regimen_or_line_of_therapy &lt;lgl&gt; | treatments_radiation_treatment_effect &lt;lgl&gt; | treatments_radiation_therapeutic_agents &lt;lgl&gt; | treatments_radiation_treatment_or_therapy &lt;chr&gt; | treatments_radiation_initial_disease_status &lt;lgl&gt; | treatments_radiation_treatment_intent_type &lt;lgl&gt; | treatments_radiation_treatment_anatomic_site &lt;lgl&gt; | treatments_radiation_treatment_outcome &lt;lgl&gt; | bcr_patient_barcode &lt;chr&gt; |\n",
       "|---|---|---|---|---|---|---|---|---|---|---|---|---|---|---|---|---|---|---|---|---|---|\n",
       "| 1 | TCGA-BRCA | TCGA-A7-A0DA | No | Stage IIA | 0 | NA | not reported | Breast, NOS | 1085 | 22708 | ⋯ | Radiation Therapy, NOS | NA | NA | NA | yes | NA | NA | NA | NA | TCGA-A7-A0DA |\n",
       "| 2 | TCGA-BRCA | TCGA-BH-A0BD | No | Stage IIA | 0 | NA | not reported | Breast, NOS |  554 | 17275 | ⋯ | Radiation Therapy, NOS | NA | NA | NA | yes | NA | NA | NA | NA | TCGA-BH-A0BD |\n",
       "\n"
      ],
      "text/plain": [
       "  project   submitter_id synchronous_malignancy ajcc_pathologic_stage\n",
       "1 TCGA-BRCA TCGA-A7-A0DA No                     Stage IIA            \n",
       "2 TCGA-BRCA TCGA-BH-A0BD No                     Stage IIA            \n",
       "  days_to_diagnosis created_datetime last_known_disease_status\n",
       "1 0                 NA               not reported             \n",
       "2 0                 NA               not reported             \n",
       "  tissue_or_organ_of_origin days_to_last_follow_up age_at_diagnosis ⋯\n",
       "1 Breast, NOS               1085                   22708            ⋯\n",
       "2 Breast, NOS                554                   17275            ⋯\n",
       "  treatments_radiation_treatment_type\n",
       "1 Radiation Therapy, NOS             \n",
       "2 Radiation Therapy, NOS             \n",
       "  treatments_radiation_regimen_or_line_of_therapy\n",
       "1 NA                                             \n",
       "2 NA                                             \n",
       "  treatments_radiation_treatment_effect treatments_radiation_therapeutic_agents\n",
       "1 NA                                    NA                                     \n",
       "2 NA                                    NA                                     \n",
       "  treatments_radiation_treatment_or_therapy\n",
       "1 yes                                      \n",
       "2 yes                                      \n",
       "  treatments_radiation_initial_disease_status\n",
       "1 NA                                         \n",
       "2 NA                                         \n",
       "  treatments_radiation_treatment_intent_type\n",
       "1 NA                                        \n",
       "2 NA                                        \n",
       "  treatments_radiation_treatment_anatomic_site\n",
       "1 NA                                          \n",
       "2 NA                                          \n",
       "  treatments_radiation_treatment_outcome bcr_patient_barcode\n",
       "1 NA                                     TCGA-A7-A0DA       \n",
       "2 NA                                     TCGA-BH-A0BD       "
      ]
     },
     "metadata": {},
     "output_type": "display_data"
    },
    {
     "data": {
      "text/html": [
       "<style>\n",
       ".list-inline {list-style: none; margin:0; padding: 0}\n",
       ".list-inline>li {display: inline-block}\n",
       ".list-inline>li:not(:last-child)::after {content: \"\\00b7\"; padding: 0 .5ex}\n",
       "</style>\n",
       "<ol class=list-inline><li>1098</li><li>70</li></ol>\n"
      ],
      "text/latex": [
       "\\begin{enumerate*}\n",
       "\\item 1098\n",
       "\\item 70\n",
       "\\end{enumerate*}\n"
      ],
      "text/markdown": [
       "1. 1098\n",
       "2. 70\n",
       "\n",
       "\n"
      ],
      "text/plain": [
       "[1] 1098   70"
      ]
     },
     "metadata": {},
     "output_type": "display_data"
    }
   ],
   "source": [
    "head(information.clinical,2)\n",
    "dim(information.clinical)"
   ]
  },
  {
   "cell_type": "code",
   "execution_count": 31,
   "id": "ca1b075e-2ce8-439d-b953-af22ad3f31e6",
   "metadata": {},
   "outputs": [],
   "source": [
    "write.csv(information.clinical, '/home/shiyu/data/BRCA/information_clinical.csv')"
   ]
  },
  {
   "cell_type": "code",
   "execution_count": 32,
   "id": "7953c2fd-6776-4619-925a-d7e4b3c6feaf",
   "metadata": {},
   "outputs": [],
   "source": [
    "# Which samples are Primary Tumor\n",
    "samples.primary.tumour <- brca.exp$barcode[brca.exp$shortLetterCode == \"TP\"]"
   ]
  },
  {
   "cell_type": "code",
   "execution_count": 34,
   "id": "46b1752f-2473-40d6-8728-9f686a0f32f8",
   "metadata": {},
   "outputs": [
    {
     "data": {
      "text/html": [
       "<style>\n",
       ".list-inline {list-style: none; margin:0; padding: 0}\n",
       ".list-inline>li {display: inline-block}\n",
       ".list-inline>li:not(:last-child)::after {content: \"\\00b7\"; padding: 0 .5ex}\n",
       "</style>\n",
       "<ol class=list-inline><li>'TCGA-E2-A1L7-01A-11R-A144-07'</li><li>'TCGA-AR-A0U0-01A-11R-A109-07'</li><li>'TCGA-BH-A28O-01A-11R-A22K-07'</li><li>'TCGA-A2-A0D4-01A-11R-A00Z-07'</li><li>'TCGA-E9-A1R4-01A-21R-A14D-07'</li><li>'TCGA-AO-A1KQ-01A-11R-A13Q-07'</li></ol>\n"
      ],
      "text/latex": [
       "\\begin{enumerate*}\n",
       "\\item 'TCGA-E2-A1L7-01A-11R-A144-07'\n",
       "\\item 'TCGA-AR-A0U0-01A-11R-A109-07'\n",
       "\\item 'TCGA-BH-A28O-01A-11R-A22K-07'\n",
       "\\item 'TCGA-A2-A0D4-01A-11R-A00Z-07'\n",
       "\\item 'TCGA-E9-A1R4-01A-21R-A14D-07'\n",
       "\\item 'TCGA-AO-A1KQ-01A-11R-A13Q-07'\n",
       "\\end{enumerate*}\n"
      ],
      "text/markdown": [
       "1. 'TCGA-E2-A1L7-01A-11R-A144-07'\n",
       "2. 'TCGA-AR-A0U0-01A-11R-A109-07'\n",
       "3. 'TCGA-BH-A28O-01A-11R-A22K-07'\n",
       "4. 'TCGA-A2-A0D4-01A-11R-A00Z-07'\n",
       "5. 'TCGA-E9-A1R4-01A-21R-A14D-07'\n",
       "6. 'TCGA-AO-A1KQ-01A-11R-A13Q-07'\n",
       "\n",
       "\n"
      ],
      "text/plain": [
       "[1] \"TCGA-E2-A1L7-01A-11R-A144-07\" \"TCGA-AR-A0U0-01A-11R-A109-07\"\n",
       "[3] \"TCGA-BH-A28O-01A-11R-A22K-07\" \"TCGA-A2-A0D4-01A-11R-A00Z-07\"\n",
       "[5] \"TCGA-E9-A1R4-01A-21R-A14D-07\" \"TCGA-AO-A1KQ-01A-11R-A13Q-07\""
      ]
     },
     "metadata": {},
     "output_type": "display_data"
    },
    {
     "data": {
      "text/html": [
       "1106"
      ],
      "text/latex": [
       "1106"
      ],
      "text/markdown": [
       "1106"
      ],
      "text/plain": [
       "[1] 1106"
      ]
     },
     "metadata": {},
     "output_type": "display_data"
    }
   ],
   "source": [
    "head(samples.primary.tumour)\n",
    "length(samples.primary.tumour)"
   ]
  },
  {
   "cell_type": "code",
   "execution_count": 35,
   "id": "23549fc8-e052-44f6-8e13-0d2a0740749b",
   "metadata": {},
   "outputs": [],
   "source": [
    "write.csv(samples.primary.tumour, '/home/shiyu/data/BRCA/tumor_id.txt')"
   ]
  },
  {
   "cell_type": "code",
   "execution_count": 36,
   "id": "361e5722-7bd4-41a3-8d44-38397aec46d9",
   "metadata": {},
   "outputs": [],
   "source": [
    "# which samples are solid tissue normal\n",
    "samples.solid.tissue.normal <- brca.exp$barcode[brca.exp$shortLetterCode == \"NT\"]"
   ]
  },
  {
   "cell_type": "code",
   "execution_count": 37,
   "id": "7b7f84a2-b153-4de4-a1a4-1d7d67a7a8c2",
   "metadata": {},
   "outputs": [
    {
     "data": {
      "text/html": [
       "<style>\n",
       ".list-inline {list-style: none; margin:0; padding: 0}\n",
       ".list-inline>li {display: inline-block}\n",
       ".list-inline>li:not(:last-child)::after {content: \"\\00b7\"; padding: 0 .5ex}\n",
       "</style>\n",
       "<ol class=list-inline><li>'TCGA-E2-A1L7-11A-33R-A144-07'</li><li>'TCGA-E2-A1IG-11A-22R-A144-07'</li><li>'TCGA-BH-A0BS-11A-11R-A12P-07'</li><li>'TCGA-E9-A1NA-11A-33R-A144-07'</li><li>'TCGA-BH-A0H9-11A-22R-A466-07'</li><li>'TCGA-BH-A0BQ-11A-33R-A115-07'</li></ol>\n"
      ],
      "text/latex": [
       "\\begin{enumerate*}\n",
       "\\item 'TCGA-E2-A1L7-11A-33R-A144-07'\n",
       "\\item 'TCGA-E2-A1IG-11A-22R-A144-07'\n",
       "\\item 'TCGA-BH-A0BS-11A-11R-A12P-07'\n",
       "\\item 'TCGA-E9-A1NA-11A-33R-A144-07'\n",
       "\\item 'TCGA-BH-A0H9-11A-22R-A466-07'\n",
       "\\item 'TCGA-BH-A0BQ-11A-33R-A115-07'\n",
       "\\end{enumerate*}\n"
      ],
      "text/markdown": [
       "1. 'TCGA-E2-A1L7-11A-33R-A144-07'\n",
       "2. 'TCGA-E2-A1IG-11A-22R-A144-07'\n",
       "3. 'TCGA-BH-A0BS-11A-11R-A12P-07'\n",
       "4. 'TCGA-E9-A1NA-11A-33R-A144-07'\n",
       "5. 'TCGA-BH-A0H9-11A-22R-A466-07'\n",
       "6. 'TCGA-BH-A0BQ-11A-33R-A115-07'\n",
       "\n",
       "\n"
      ],
      "text/plain": [
       "[1] \"TCGA-E2-A1L7-11A-33R-A144-07\" \"TCGA-E2-A1IG-11A-22R-A144-07\"\n",
       "[3] \"TCGA-BH-A0BS-11A-11R-A12P-07\" \"TCGA-E9-A1NA-11A-33R-A144-07\"\n",
       "[5] \"TCGA-BH-A0H9-11A-22R-A466-07\" \"TCGA-BH-A0BQ-11A-33R-A115-07\""
      ]
     },
     "metadata": {},
     "output_type": "display_data"
    },
    {
     "data": {
      "text/html": [
       "113"
      ],
      "text/latex": [
       "113"
      ],
      "text/markdown": [
       "113"
      ],
      "text/plain": [
       "[1] 113"
      ]
     },
     "metadata": {},
     "output_type": "display_data"
    }
   ],
   "source": [
    "head(samples.solid.tissue.normal)\n",
    "length(samples.solid.tissue.normal)"
   ]
  },
  {
   "cell_type": "code",
   "execution_count": 38,
   "id": "8f1267d9-bb17-47c2-99f3-2d5f0941d88f",
   "metadata": {},
   "outputs": [],
   "source": [
    "write.csv(samples.solid.tissue.normal, '/home/shiyu/data/BRCA/normal_id.txt')"
   ]
  },
  {
   "cell_type": "code",
   "execution_count": 39,
   "id": "7f507fb4-63a1-4146-b455-4f8de1cc4069",
   "metadata": {},
   "outputs": [],
   "source": [
    "full_data = assay(exp)"
   ]
  },
  {
   "cell_type": "markdown",
   "id": "b21759e1-f3fd-407a-b1fc-6f8a2d6c3231",
   "metadata": {},
   "source": [
    "### divide tumor and normal"
   ]
  },
  {
   "cell_type": "code",
   "execution_count": 40,
   "id": "09219a4e-e44e-43a7-9ca3-bd7ddf683ebc",
   "metadata": {},
   "outputs": [],
   "source": [
    "normal = full_data[,samples.solid.tissue.normal]"
   ]
  },
  {
   "cell_type": "code",
   "execution_count": 46,
   "id": "e65021fd-ff40-4296-97d2-60f8f7657fae",
   "metadata": {},
   "outputs": [
    {
     "data": {
      "text/html": [
       "<table class=\"dataframe\">\n",
       "<caption>A matrix: 2 × 113 of type int</caption>\n",
       "<thead>\n",
       "\t<tr><th></th><th scope=col>TCGA-E2-A1L7-11A-33R-A144-07</th><th scope=col>TCGA-E2-A1IG-11A-22R-A144-07</th><th scope=col>TCGA-BH-A0BS-11A-11R-A12P-07</th><th scope=col>TCGA-E9-A1NA-11A-33R-A144-07</th><th scope=col>TCGA-BH-A0H9-11A-22R-A466-07</th><th scope=col>TCGA-BH-A0BQ-11A-33R-A115-07</th><th scope=col>TCGA-BH-A0E0-11A-13R-A089-07</th><th scope=col>TCGA-BH-A1FH-11B-42R-A13Q-07</th><th scope=col>TCGA-E9-A1NG-11A-52R-A14M-07</th><th scope=col>TCGA-BH-A0DO-11A-22R-A12D-07</th><th scope=col>⋯</th><th scope=col>TCGA-AC-A2FM-11B-32R-A19W-07</th><th scope=col>TCGA-BH-A1FJ-11B-42R-A13Q-07</th><th scope=col>TCGA-E9-A1ND-11A-43R-A144-07</th><th scope=col>TCGA-BH-A1FU-11A-23R-A14D-07</th><th scope=col>TCGA-E9-A1RF-11A-32R-A157-07</th><th scope=col>TCGA-A7-A0DC-11A-41R-A089-07</th><th scope=col>TCGA-BH-A18J-11A-31R-A12D-07</th><th scope=col>TCGA-BH-A18R-11A-42R-A12D-07</th><th scope=col>TCGA-BH-A0DK-11A-13R-A089-07</th><th scope=col>TCGA-E2-A158-11A-22R-A12D-07</th></tr>\n",
       "</thead>\n",
       "<tbody>\n",
       "\t<tr><th scope=row>ENSG00000000003.15</th><td>4209</td><td>2761</td><td>6679</td><td>3541</td><td>2746</td><td>4158</td><td>3745</td><td>3021</td><td>3418</td><td>5384</td><td>⋯</td><td>4027</td><td>9160</td><td>2423</td><td>2483</td><td>4527</td><td>3931</td><td>3381</td><td>7830</td><td>5175</td><td>1816</td></tr>\n",
       "\t<tr><th scope=row>ENSG00000000005.6</th><td>  71</td><td> 658</td><td> 569</td><td>1073</td><td>1184</td><td>  75</td><td> 254</td><td> 343</td><td>1291</td><td> 712</td><td>⋯</td><td> 413</td><td> 879</td><td> 875</td><td> 121</td><td>1879</td><td> 685</td><td> 285</td><td> 581</td><td>  85</td><td> 682</td></tr>\n",
       "</tbody>\n",
       "</table>\n"
      ],
      "text/latex": [
       "A matrix: 2 × 113 of type int\n",
       "\\begin{tabular}{r|lllllllllllllllllllll}\n",
       "  & TCGA-E2-A1L7-11A-33R-A144-07 & TCGA-E2-A1IG-11A-22R-A144-07 & TCGA-BH-A0BS-11A-11R-A12P-07 & TCGA-E9-A1NA-11A-33R-A144-07 & TCGA-BH-A0H9-11A-22R-A466-07 & TCGA-BH-A0BQ-11A-33R-A115-07 & TCGA-BH-A0E0-11A-13R-A089-07 & TCGA-BH-A1FH-11B-42R-A13Q-07 & TCGA-E9-A1NG-11A-52R-A14M-07 & TCGA-BH-A0DO-11A-22R-A12D-07 & ⋯ & TCGA-AC-A2FM-11B-32R-A19W-07 & TCGA-BH-A1FJ-11B-42R-A13Q-07 & TCGA-E9-A1ND-11A-43R-A144-07 & TCGA-BH-A1FU-11A-23R-A14D-07 & TCGA-E9-A1RF-11A-32R-A157-07 & TCGA-A7-A0DC-11A-41R-A089-07 & TCGA-BH-A18J-11A-31R-A12D-07 & TCGA-BH-A18R-11A-42R-A12D-07 & TCGA-BH-A0DK-11A-13R-A089-07 & TCGA-E2-A158-11A-22R-A12D-07\\\\\n",
       "\\hline\n",
       "\tENSG00000000003.15 & 4209 & 2761 & 6679 & 3541 & 2746 & 4158 & 3745 & 3021 & 3418 & 5384 & ⋯ & 4027 & 9160 & 2423 & 2483 & 4527 & 3931 & 3381 & 7830 & 5175 & 1816\\\\\n",
       "\tENSG00000000005.6 &   71 &  658 &  569 & 1073 & 1184 &   75 &  254 &  343 & 1291 &  712 & ⋯ &  413 &  879 &  875 &  121 & 1879 &  685 &  285 &  581 &   85 &  682\\\\\n",
       "\\end{tabular}\n"
      ],
      "text/markdown": [
       "\n",
       "A matrix: 2 × 113 of type int\n",
       "\n",
       "| <!--/--> | TCGA-E2-A1L7-11A-33R-A144-07 | TCGA-E2-A1IG-11A-22R-A144-07 | TCGA-BH-A0BS-11A-11R-A12P-07 | TCGA-E9-A1NA-11A-33R-A144-07 | TCGA-BH-A0H9-11A-22R-A466-07 | TCGA-BH-A0BQ-11A-33R-A115-07 | TCGA-BH-A0E0-11A-13R-A089-07 | TCGA-BH-A1FH-11B-42R-A13Q-07 | TCGA-E9-A1NG-11A-52R-A14M-07 | TCGA-BH-A0DO-11A-22R-A12D-07 | ⋯ | TCGA-AC-A2FM-11B-32R-A19W-07 | TCGA-BH-A1FJ-11B-42R-A13Q-07 | TCGA-E9-A1ND-11A-43R-A144-07 | TCGA-BH-A1FU-11A-23R-A14D-07 | TCGA-E9-A1RF-11A-32R-A157-07 | TCGA-A7-A0DC-11A-41R-A089-07 | TCGA-BH-A18J-11A-31R-A12D-07 | TCGA-BH-A18R-11A-42R-A12D-07 | TCGA-BH-A0DK-11A-13R-A089-07 | TCGA-E2-A158-11A-22R-A12D-07 |\n",
       "|---|---|---|---|---|---|---|---|---|---|---|---|---|---|---|---|---|---|---|---|---|---|\n",
       "| ENSG00000000003.15 | 4209 | 2761 | 6679 | 3541 | 2746 | 4158 | 3745 | 3021 | 3418 | 5384 | ⋯ | 4027 | 9160 | 2423 | 2483 | 4527 | 3931 | 3381 | 7830 | 5175 | 1816 |\n",
       "| ENSG00000000005.6 |   71 |  658 |  569 | 1073 | 1184 |   75 |  254 |  343 | 1291 |  712 | ⋯ |  413 |  879 |  875 |  121 | 1879 |  685 |  285 |  581 |   85 |  682 |\n",
       "\n"
      ],
      "text/plain": [
       "                   TCGA-E2-A1L7-11A-33R-A144-07 TCGA-E2-A1IG-11A-22R-A144-07\n",
       "ENSG00000000003.15 4209                         2761                        \n",
       "ENSG00000000005.6    71                          658                        \n",
       "                   TCGA-BH-A0BS-11A-11R-A12P-07 TCGA-E9-A1NA-11A-33R-A144-07\n",
       "ENSG00000000003.15 6679                         3541                        \n",
       "ENSG00000000005.6   569                         1073                        \n",
       "                   TCGA-BH-A0H9-11A-22R-A466-07 TCGA-BH-A0BQ-11A-33R-A115-07\n",
       "ENSG00000000003.15 2746                         4158                        \n",
       "ENSG00000000005.6  1184                           75                        \n",
       "                   TCGA-BH-A0E0-11A-13R-A089-07 TCGA-BH-A1FH-11B-42R-A13Q-07\n",
       "ENSG00000000003.15 3745                         3021                        \n",
       "ENSG00000000005.6   254                          343                        \n",
       "                   TCGA-E9-A1NG-11A-52R-A14M-07 TCGA-BH-A0DO-11A-22R-A12D-07 ⋯\n",
       "ENSG00000000003.15 3418                         5384                         ⋯\n",
       "ENSG00000000005.6  1291                          712                         ⋯\n",
       "                   TCGA-AC-A2FM-11B-32R-A19W-07 TCGA-BH-A1FJ-11B-42R-A13Q-07\n",
       "ENSG00000000003.15 4027                         9160                        \n",
       "ENSG00000000005.6   413                          879                        \n",
       "                   TCGA-E9-A1ND-11A-43R-A144-07 TCGA-BH-A1FU-11A-23R-A14D-07\n",
       "ENSG00000000003.15 2423                         2483                        \n",
       "ENSG00000000005.6   875                          121                        \n",
       "                   TCGA-E9-A1RF-11A-32R-A157-07 TCGA-A7-A0DC-11A-41R-A089-07\n",
       "ENSG00000000003.15 4527                         3931                        \n",
       "ENSG00000000005.6  1879                          685                        \n",
       "                   TCGA-BH-A18J-11A-31R-A12D-07 TCGA-BH-A18R-11A-42R-A12D-07\n",
       "ENSG00000000003.15 3381                         7830                        \n",
       "ENSG00000000005.6   285                          581                        \n",
       "                   TCGA-BH-A0DK-11A-13R-A089-07 TCGA-E2-A158-11A-22R-A12D-07\n",
       "ENSG00000000003.15 5175                         1816                        \n",
       "ENSG00000000005.6    85                          682                        "
      ]
     },
     "metadata": {},
     "output_type": "display_data"
    },
    {
     "data": {
      "text/html": [
       "<style>\n",
       ".list-inline {list-style: none; margin:0; padding: 0}\n",
       ".list-inline>li {display: inline-block}\n",
       ".list-inline>li:not(:last-child)::after {content: \"\\00b7\"; padding: 0 .5ex}\n",
       "</style>\n",
       "<ol class=list-inline><li>60660</li><li>113</li></ol>\n"
      ],
      "text/latex": [
       "\\begin{enumerate*}\n",
       "\\item 60660\n",
       "\\item 113\n",
       "\\end{enumerate*}\n"
      ],
      "text/markdown": [
       "1. 60660\n",
       "2. 113\n",
       "\n",
       "\n"
      ],
      "text/plain": [
       "[1] 60660   113"
      ]
     },
     "metadata": {},
     "output_type": "display_data"
    }
   ],
   "source": [
    "head(normal,2)\n",
    "dim(normal)"
   ]
  },
  {
   "cell_type": "code",
   "execution_count": 49,
   "id": "d969d564-9f11-45f9-8260-19351f5f124c",
   "metadata": {},
   "outputs": [],
   "source": [
    "write.csv(normal, '/home/shiyu/data/BRCA/normal.txt')"
   ]
  },
  {
   "cell_type": "code",
   "execution_count": 44,
   "id": "fc449edb-7e5d-46f4-94ab-c66cfb5853c9",
   "metadata": {},
   "outputs": [],
   "source": [
    "tumor = full_data[,samples.primary.tumour]"
   ]
  },
  {
   "cell_type": "code",
   "execution_count": 47,
   "id": "0e2b11e8-985a-4360-870a-dbf13bde6ecb",
   "metadata": {},
   "outputs": [
    {
     "data": {
      "text/html": [
       "<table class=\"dataframe\">\n",
       "<caption>A matrix: 2 × 1106 of type int</caption>\n",
       "<thead>\n",
       "\t<tr><th></th><th scope=col>TCGA-E2-A1L7-01A-11R-A144-07</th><th scope=col>TCGA-AR-A0U0-01A-11R-A109-07</th><th scope=col>TCGA-BH-A28O-01A-11R-A22K-07</th><th scope=col>TCGA-A2-A0D4-01A-11R-A00Z-07</th><th scope=col>TCGA-E9-A1R4-01A-21R-A14D-07</th><th scope=col>TCGA-AO-A1KQ-01A-11R-A13Q-07</th><th scope=col>TCGA-AC-A62V-01A-11R-A31O-07</th><th scope=col>TCGA-D8-A143-01A-11R-A115-07</th><th scope=col>TCGA-A2-A0SV-01A-11R-A084-07</th><th scope=col>TCGA-AN-A0XW-01A-11R-A109-07</th><th scope=col>⋯</th><th scope=col>TCGA-A1-A0SD-01A-11R-A115-07</th><th scope=col>TCGA-A2-A0SU-01A-11R-A084-07</th><th scope=col>TCGA-E9-A1NI-01A-11R-A14D-07</th><th scope=col>TCGA-B6-A0RQ-01A-11R-A115-07</th><th scope=col>TCGA-E9-A1RF-01A-11R-A157-07</th><th scope=col>TCGA-A2-A0CX-01A-21R-A00Z-07</th><th scope=col>TCGA-A2-A25F-01A-11R-A169-07</th><th scope=col>TCGA-AC-A23G-01A-11R-A213-07</th><th scope=col>TCGA-E2-A15D-01A-11R-A115-07</th><th scope=col>TCGA-OL-A5D7-01A-11R-A27Q-07</th></tr>\n",
       "</thead>\n",
       "<tbody>\n",
       "\t<tr><th scope=row>ENSG00000000003.15</th><td>1689</td><td>1590</td><td>4583</td><td>1550</td><td>711</td><td>825</td><td>783</td><td>6142</td><td>1275</td><td>1355</td><td>⋯</td><td>2477</td><td>8928</td><td>441</td><td>6821</td><td>674</td><td>3226</td><td>2509</td><td>1356</td><td>4243</td><td>2006</td></tr>\n",
       "\t<tr><th scope=row>ENSG00000000005.6</th><td>  16</td><td>   0</td><td> 135</td><td>  45</td><td> 15</td><td>  3</td><td> 16</td><td>   1</td><td>   4</td><td>   1</td><td>⋯</td><td>  50</td><td>   7</td><td>  0</td><td>  63</td><td> 41</td><td>   1</td><td> 370</td><td>   7</td><td>  85</td><td>   5</td></tr>\n",
       "</tbody>\n",
       "</table>\n"
      ],
      "text/latex": [
       "A matrix: 2 × 1106 of type int\n",
       "\\begin{tabular}{r|lllllllllllllllllllll}\n",
       "  & TCGA-E2-A1L7-01A-11R-A144-07 & TCGA-AR-A0U0-01A-11R-A109-07 & TCGA-BH-A28O-01A-11R-A22K-07 & TCGA-A2-A0D4-01A-11R-A00Z-07 & TCGA-E9-A1R4-01A-21R-A14D-07 & TCGA-AO-A1KQ-01A-11R-A13Q-07 & TCGA-AC-A62V-01A-11R-A31O-07 & TCGA-D8-A143-01A-11R-A115-07 & TCGA-A2-A0SV-01A-11R-A084-07 & TCGA-AN-A0XW-01A-11R-A109-07 & ⋯ & TCGA-A1-A0SD-01A-11R-A115-07 & TCGA-A2-A0SU-01A-11R-A084-07 & TCGA-E9-A1NI-01A-11R-A14D-07 & TCGA-B6-A0RQ-01A-11R-A115-07 & TCGA-E9-A1RF-01A-11R-A157-07 & TCGA-A2-A0CX-01A-21R-A00Z-07 & TCGA-A2-A25F-01A-11R-A169-07 & TCGA-AC-A23G-01A-11R-A213-07 & TCGA-E2-A15D-01A-11R-A115-07 & TCGA-OL-A5D7-01A-11R-A27Q-07\\\\\n",
       "\\hline\n",
       "\tENSG00000000003.15 & 1689 & 1590 & 4583 & 1550 & 711 & 825 & 783 & 6142 & 1275 & 1355 & ⋯ & 2477 & 8928 & 441 & 6821 & 674 & 3226 & 2509 & 1356 & 4243 & 2006\\\\\n",
       "\tENSG00000000005.6 &   16 &    0 &  135 &   45 &  15 &   3 &  16 &    1 &    4 &    1 & ⋯ &   50 &    7 &   0 &   63 &  41 &    1 &  370 &    7 &   85 &    5\\\\\n",
       "\\end{tabular}\n"
      ],
      "text/markdown": [
       "\n",
       "A matrix: 2 × 1106 of type int\n",
       "\n",
       "| <!--/--> | TCGA-E2-A1L7-01A-11R-A144-07 | TCGA-AR-A0U0-01A-11R-A109-07 | TCGA-BH-A28O-01A-11R-A22K-07 | TCGA-A2-A0D4-01A-11R-A00Z-07 | TCGA-E9-A1R4-01A-21R-A14D-07 | TCGA-AO-A1KQ-01A-11R-A13Q-07 | TCGA-AC-A62V-01A-11R-A31O-07 | TCGA-D8-A143-01A-11R-A115-07 | TCGA-A2-A0SV-01A-11R-A084-07 | TCGA-AN-A0XW-01A-11R-A109-07 | ⋯ | TCGA-A1-A0SD-01A-11R-A115-07 | TCGA-A2-A0SU-01A-11R-A084-07 | TCGA-E9-A1NI-01A-11R-A14D-07 | TCGA-B6-A0RQ-01A-11R-A115-07 | TCGA-E9-A1RF-01A-11R-A157-07 | TCGA-A2-A0CX-01A-21R-A00Z-07 | TCGA-A2-A25F-01A-11R-A169-07 | TCGA-AC-A23G-01A-11R-A213-07 | TCGA-E2-A15D-01A-11R-A115-07 | TCGA-OL-A5D7-01A-11R-A27Q-07 |\n",
       "|---|---|---|---|---|---|---|---|---|---|---|---|---|---|---|---|---|---|---|---|---|---|\n",
       "| ENSG00000000003.15 | 1689 | 1590 | 4583 | 1550 | 711 | 825 | 783 | 6142 | 1275 | 1355 | ⋯ | 2477 | 8928 | 441 | 6821 | 674 | 3226 | 2509 | 1356 | 4243 | 2006 |\n",
       "| ENSG00000000005.6 |   16 |    0 |  135 |   45 |  15 |   3 |  16 |    1 |    4 |    1 | ⋯ |   50 |    7 |   0 |   63 |  41 |    1 |  370 |    7 |   85 |    5 |\n",
       "\n"
      ],
      "text/plain": [
       "                   TCGA-E2-A1L7-01A-11R-A144-07 TCGA-AR-A0U0-01A-11R-A109-07\n",
       "ENSG00000000003.15 1689                         1590                        \n",
       "ENSG00000000005.6    16                            0                        \n",
       "                   TCGA-BH-A28O-01A-11R-A22K-07 TCGA-A2-A0D4-01A-11R-A00Z-07\n",
       "ENSG00000000003.15 4583                         1550                        \n",
       "ENSG00000000005.6   135                           45                        \n",
       "                   TCGA-E9-A1R4-01A-21R-A14D-07 TCGA-AO-A1KQ-01A-11R-A13Q-07\n",
       "ENSG00000000003.15 711                          825                         \n",
       "ENSG00000000005.6   15                            3                         \n",
       "                   TCGA-AC-A62V-01A-11R-A31O-07 TCGA-D8-A143-01A-11R-A115-07\n",
       "ENSG00000000003.15 783                          6142                        \n",
       "ENSG00000000005.6   16                             1                        \n",
       "                   TCGA-A2-A0SV-01A-11R-A084-07 TCGA-AN-A0XW-01A-11R-A109-07 ⋯\n",
       "ENSG00000000003.15 1275                         1355                         ⋯\n",
       "ENSG00000000005.6     4                            1                         ⋯\n",
       "                   TCGA-A1-A0SD-01A-11R-A115-07 TCGA-A2-A0SU-01A-11R-A084-07\n",
       "ENSG00000000003.15 2477                         8928                        \n",
       "ENSG00000000005.6    50                            7                        \n",
       "                   TCGA-E9-A1NI-01A-11R-A14D-07 TCGA-B6-A0RQ-01A-11R-A115-07\n",
       "ENSG00000000003.15 441                          6821                        \n",
       "ENSG00000000005.6    0                            63                        \n",
       "                   TCGA-E9-A1RF-01A-11R-A157-07 TCGA-A2-A0CX-01A-21R-A00Z-07\n",
       "ENSG00000000003.15 674                          3226                        \n",
       "ENSG00000000005.6   41                             1                        \n",
       "                   TCGA-A2-A25F-01A-11R-A169-07 TCGA-AC-A23G-01A-11R-A213-07\n",
       "ENSG00000000003.15 2509                         1356                        \n",
       "ENSG00000000005.6   370                            7                        \n",
       "                   TCGA-E2-A15D-01A-11R-A115-07 TCGA-OL-A5D7-01A-11R-A27Q-07\n",
       "ENSG00000000003.15 4243                         2006                        \n",
       "ENSG00000000005.6    85                            5                        "
      ]
     },
     "metadata": {},
     "output_type": "display_data"
    },
    {
     "data": {
      "text/html": [
       "<style>\n",
       ".list-inline {list-style: none; margin:0; padding: 0}\n",
       ".list-inline>li {display: inline-block}\n",
       ".list-inline>li:not(:last-child)::after {content: \"\\00b7\"; padding: 0 .5ex}\n",
       "</style>\n",
       "<ol class=list-inline><li>60660</li><li>1106</li></ol>\n"
      ],
      "text/latex": [
       "\\begin{enumerate*}\n",
       "\\item 60660\n",
       "\\item 1106\n",
       "\\end{enumerate*}\n"
      ],
      "text/markdown": [
       "1. 60660\n",
       "2. 1106\n",
       "\n",
       "\n"
      ],
      "text/plain": [
       "[1] 60660  1106"
      ]
     },
     "metadata": {},
     "output_type": "display_data"
    }
   ],
   "source": [
    "head(tumor,2)\n",
    "dim(tumor)"
   ]
  },
  {
   "cell_type": "code",
   "execution_count": 50,
   "id": "7a2f69a1-0e5c-4d4d-9e97-cab00bd2c336",
   "metadata": {},
   "outputs": [],
   "source": [
    "write.csv(tumor, '/home/shiyu/data/BRCA/tumor.txt')"
   ]
  }
 ],
 "metadata": {
  "kernelspec": {
   "display_name": "R",
   "language": "R",
   "name": "ir"
  },
  "language_info": {
   "codemirror_mode": "r",
   "file_extension": ".r",
   "mimetype": "text/x-r-source",
   "name": "R",
   "pygments_lexer": "r",
   "version": "4.2.0"
  }
 },
 "nbformat": 4,
 "nbformat_minor": 5
}
