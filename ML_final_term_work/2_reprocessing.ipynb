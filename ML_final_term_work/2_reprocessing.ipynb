{
 "cells": [
  {
   "cell_type": "markdown",
   "id": "99ef7712-2781-4477-832c-7ee0b7a4e304",
   "metadata": {},
   "source": [
    "### 数据预处理"
   ]
  },
  {
   "cell_type": "markdown",
   "id": "e76b2502-f26c-4c26-ae31-85170b20e7ac",
   "metadata": {},
   "source": [
    "### normal"
   ]
  },
  {
   "cell_type": "code",
   "execution_count": 97,
   "id": "54132224-c3d9-462e-9c0a-89414e46cd5b",
   "metadata": {},
   "outputs": [],
   "source": [
    "normal <- read.csv('/home/shiyu/data/BRCA/normal.txt')"
   ]
  },
  {
   "cell_type": "code",
   "execution_count": 109,
   "id": "3974d988-c798-4a5c-873c-00ddaf771b75",
   "metadata": {},
   "outputs": [
    {
     "data": {
      "text/html": [
       "<table class=\"dataframe\">\n",
       "<caption>A data.frame: 2 × 113</caption>\n",
       "<thead>\n",
       "\t<tr><th></th><th scope=col>TCGA.E2.A1L7.11A.33R.A144.07</th><th scope=col>TCGA.E2.A1IG.11A.22R.A144.07</th><th scope=col>TCGA.BH.A0BS.11A.11R.A12P.07</th><th scope=col>TCGA.E9.A1NA.11A.33R.A144.07</th><th scope=col>TCGA.BH.A0H9.11A.22R.A466.07</th><th scope=col>TCGA.BH.A0BQ.11A.33R.A115.07</th><th scope=col>TCGA.BH.A0E0.11A.13R.A089.07</th><th scope=col>TCGA.BH.A1FH.11B.42R.A13Q.07</th><th scope=col>TCGA.E9.A1NG.11A.52R.A14M.07</th><th scope=col>TCGA.BH.A0DO.11A.22R.A12D.07</th><th scope=col>⋯</th><th scope=col>TCGA.AC.A2FM.11B.32R.A19W.07</th><th scope=col>TCGA.BH.A1FJ.11B.42R.A13Q.07</th><th scope=col>TCGA.E9.A1ND.11A.43R.A144.07</th><th scope=col>TCGA.BH.A1FU.11A.23R.A14D.07</th><th scope=col>TCGA.E9.A1RF.11A.32R.A157.07</th><th scope=col>TCGA.A7.A0DC.11A.41R.A089.07</th><th scope=col>TCGA.BH.A18J.11A.31R.A12D.07</th><th scope=col>TCGA.BH.A18R.11A.42R.A12D.07</th><th scope=col>TCGA.BH.A0DK.11A.13R.A089.07</th><th scope=col>TCGA.E2.A158.11A.22R.A12D.07</th></tr>\n",
       "\t<tr><th></th><th scope=col>&lt;int&gt;</th><th scope=col>&lt;int&gt;</th><th scope=col>&lt;int&gt;</th><th scope=col>&lt;int&gt;</th><th scope=col>&lt;int&gt;</th><th scope=col>&lt;int&gt;</th><th scope=col>&lt;int&gt;</th><th scope=col>&lt;int&gt;</th><th scope=col>&lt;int&gt;</th><th scope=col>&lt;int&gt;</th><th scope=col>⋯</th><th scope=col>&lt;int&gt;</th><th scope=col>&lt;int&gt;</th><th scope=col>&lt;int&gt;</th><th scope=col>&lt;int&gt;</th><th scope=col>&lt;int&gt;</th><th scope=col>&lt;int&gt;</th><th scope=col>&lt;int&gt;</th><th scope=col>&lt;int&gt;</th><th scope=col>&lt;int&gt;</th><th scope=col>&lt;int&gt;</th></tr>\n",
       "</thead>\n",
       "<tbody>\n",
       "\t<tr><th scope=row>ENSG00000000003</th><td>4209</td><td>2761</td><td>6679</td><td>3541</td><td>2746</td><td>4158</td><td>3745</td><td>3021</td><td>3418</td><td>5384</td><td>⋯</td><td>4027</td><td>9160</td><td>2423</td><td>2483</td><td>4527</td><td>3931</td><td>3381</td><td>7830</td><td>5175</td><td>1816</td></tr>\n",
       "\t<tr><th scope=row>ENSG00000000005</th><td>  71</td><td> 658</td><td> 569</td><td>1073</td><td>1184</td><td>  75</td><td> 254</td><td> 343</td><td>1291</td><td> 712</td><td>⋯</td><td> 413</td><td> 879</td><td> 875</td><td> 121</td><td>1879</td><td> 685</td><td> 285</td><td> 581</td><td>  85</td><td> 682</td></tr>\n",
       "</tbody>\n",
       "</table>\n"
      ],
      "text/latex": [
       "A data.frame: 2 × 113\n",
       "\\begin{tabular}{r|lllllllllllllllllllll}\n",
       "  & TCGA.E2.A1L7.11A.33R.A144.07 & TCGA.E2.A1IG.11A.22R.A144.07 & TCGA.BH.A0BS.11A.11R.A12P.07 & TCGA.E9.A1NA.11A.33R.A144.07 & TCGA.BH.A0H9.11A.22R.A466.07 & TCGA.BH.A0BQ.11A.33R.A115.07 & TCGA.BH.A0E0.11A.13R.A089.07 & TCGA.BH.A1FH.11B.42R.A13Q.07 & TCGA.E9.A1NG.11A.52R.A14M.07 & TCGA.BH.A0DO.11A.22R.A12D.07 & ⋯ & TCGA.AC.A2FM.11B.32R.A19W.07 & TCGA.BH.A1FJ.11B.42R.A13Q.07 & TCGA.E9.A1ND.11A.43R.A144.07 & TCGA.BH.A1FU.11A.23R.A14D.07 & TCGA.E9.A1RF.11A.32R.A157.07 & TCGA.A7.A0DC.11A.41R.A089.07 & TCGA.BH.A18J.11A.31R.A12D.07 & TCGA.BH.A18R.11A.42R.A12D.07 & TCGA.BH.A0DK.11A.13R.A089.07 & TCGA.E2.A158.11A.22R.A12D.07\\\\\n",
       "  & <int> & <int> & <int> & <int> & <int> & <int> & <int> & <int> & <int> & <int> & ⋯ & <int> & <int> & <int> & <int> & <int> & <int> & <int> & <int> & <int> & <int>\\\\\n",
       "\\hline\n",
       "\tENSG00000000003 & 4209 & 2761 & 6679 & 3541 & 2746 & 4158 & 3745 & 3021 & 3418 & 5384 & ⋯ & 4027 & 9160 & 2423 & 2483 & 4527 & 3931 & 3381 & 7830 & 5175 & 1816\\\\\n",
       "\tENSG00000000005 &   71 &  658 &  569 & 1073 & 1184 &   75 &  254 &  343 & 1291 &  712 & ⋯ &  413 &  879 &  875 &  121 & 1879 &  685 &  285 &  581 &   85 &  682\\\\\n",
       "\\end{tabular}\n"
      ],
      "text/markdown": [
       "\n",
       "A data.frame: 2 × 113\n",
       "\n",
       "| <!--/--> | TCGA.E2.A1L7.11A.33R.A144.07 &lt;int&gt; | TCGA.E2.A1IG.11A.22R.A144.07 &lt;int&gt; | TCGA.BH.A0BS.11A.11R.A12P.07 &lt;int&gt; | TCGA.E9.A1NA.11A.33R.A144.07 &lt;int&gt; | TCGA.BH.A0H9.11A.22R.A466.07 &lt;int&gt; | TCGA.BH.A0BQ.11A.33R.A115.07 &lt;int&gt; | TCGA.BH.A0E0.11A.13R.A089.07 &lt;int&gt; | TCGA.BH.A1FH.11B.42R.A13Q.07 &lt;int&gt; | TCGA.E9.A1NG.11A.52R.A14M.07 &lt;int&gt; | TCGA.BH.A0DO.11A.22R.A12D.07 &lt;int&gt; | ⋯ ⋯ | TCGA.AC.A2FM.11B.32R.A19W.07 &lt;int&gt; | TCGA.BH.A1FJ.11B.42R.A13Q.07 &lt;int&gt; | TCGA.E9.A1ND.11A.43R.A144.07 &lt;int&gt; | TCGA.BH.A1FU.11A.23R.A14D.07 &lt;int&gt; | TCGA.E9.A1RF.11A.32R.A157.07 &lt;int&gt; | TCGA.A7.A0DC.11A.41R.A089.07 &lt;int&gt; | TCGA.BH.A18J.11A.31R.A12D.07 &lt;int&gt; | TCGA.BH.A18R.11A.42R.A12D.07 &lt;int&gt; | TCGA.BH.A0DK.11A.13R.A089.07 &lt;int&gt; | TCGA.E2.A158.11A.22R.A12D.07 &lt;int&gt; |\n",
       "|---|---|---|---|---|---|---|---|---|---|---|---|---|---|---|---|---|---|---|---|---|---|\n",
       "| ENSG00000000003 | 4209 | 2761 | 6679 | 3541 | 2746 | 4158 | 3745 | 3021 | 3418 | 5384 | ⋯ | 4027 | 9160 | 2423 | 2483 | 4527 | 3931 | 3381 | 7830 | 5175 | 1816 |\n",
       "| ENSG00000000005 |   71 |  658 |  569 | 1073 | 1184 |   75 |  254 |  343 | 1291 |  712 | ⋯ |  413 |  879 |  875 |  121 | 1879 |  685 |  285 |  581 |   85 |  682 |\n",
       "\n"
      ],
      "text/plain": [
       "                TCGA.E2.A1L7.11A.33R.A144.07 TCGA.E2.A1IG.11A.22R.A144.07\n",
       "ENSG00000000003 4209                         2761                        \n",
       "ENSG00000000005   71                          658                        \n",
       "                TCGA.BH.A0BS.11A.11R.A12P.07 TCGA.E9.A1NA.11A.33R.A144.07\n",
       "ENSG00000000003 6679                         3541                        \n",
       "ENSG00000000005  569                         1073                        \n",
       "                TCGA.BH.A0H9.11A.22R.A466.07 TCGA.BH.A0BQ.11A.33R.A115.07\n",
       "ENSG00000000003 2746                         4158                        \n",
       "ENSG00000000005 1184                           75                        \n",
       "                TCGA.BH.A0E0.11A.13R.A089.07 TCGA.BH.A1FH.11B.42R.A13Q.07\n",
       "ENSG00000000003 3745                         3021                        \n",
       "ENSG00000000005  254                          343                        \n",
       "                TCGA.E9.A1NG.11A.52R.A14M.07 TCGA.BH.A0DO.11A.22R.A12D.07 ⋯\n",
       "ENSG00000000003 3418                         5384                         ⋯\n",
       "ENSG00000000005 1291                          712                         ⋯\n",
       "                TCGA.AC.A2FM.11B.32R.A19W.07 TCGA.BH.A1FJ.11B.42R.A13Q.07\n",
       "ENSG00000000003 4027                         9160                        \n",
       "ENSG00000000005  413                          879                        \n",
       "                TCGA.E9.A1ND.11A.43R.A144.07 TCGA.BH.A1FU.11A.23R.A14D.07\n",
       "ENSG00000000003 2423                         2483                        \n",
       "ENSG00000000005  875                          121                        \n",
       "                TCGA.E9.A1RF.11A.32R.A157.07 TCGA.A7.A0DC.11A.41R.A089.07\n",
       "ENSG00000000003 4527                         3931                        \n",
       "ENSG00000000005 1879                          685                        \n",
       "                TCGA.BH.A18J.11A.31R.A12D.07 TCGA.BH.A18R.11A.42R.A12D.07\n",
       "ENSG00000000003 3381                         7830                        \n",
       "ENSG00000000005  285                          581                        \n",
       "                TCGA.BH.A0DK.11A.13R.A089.07 TCGA.E2.A158.11A.22R.A12D.07\n",
       "ENSG00000000003 5175                         1816                        \n",
       "ENSG00000000005   85                          682                        "
      ]
     },
     "metadata": {},
     "output_type": "display_data"
    },
    {
     "data": {
      "text/html": [
       "<style>\n",
       ".list-inline {list-style: none; margin:0; padding: 0}\n",
       ".list-inline>li {display: inline-block}\n",
       ".list-inline>li:not(:last-child)::after {content: \"\\00b7\"; padding: 0 .5ex}\n",
       "</style>\n",
       "<ol class=list-inline><li>60616</li><li>113</li></ol>\n"
      ],
      "text/latex": [
       "\\begin{enumerate*}\n",
       "\\item 60616\n",
       "\\item 113\n",
       "\\end{enumerate*}\n"
      ],
      "text/markdown": [
       "1. 60616\n",
       "2. 113\n",
       "\n",
       "\n"
      ],
      "text/plain": [
       "[1] 60616   113"
      ]
     },
     "metadata": {},
     "output_type": "display_data"
    }
   ],
   "source": [
    "head(normal,2)\n",
    "dim(normal)"
   ]
  },
  {
   "cell_type": "code",
   "execution_count": 99,
   "id": "63f75f2f-1b52-4b7d-9b7f-9170938f0d89",
   "metadata": {
    "tags": []
   },
   "outputs": [],
   "source": [
    "# Remove the version numbers in Ensembl ID.\n",
    "normal$X <- substring(normal$X, 1, 15)"
   ]
  },
  {
   "cell_type": "markdown",
   "id": "73a5c3eb-ea61-4a26-b46f-e6f83a11a582",
   "metadata": {},
   "source": [
    "对基因去重"
   ]
  },
  {
   "cell_type": "code",
   "execution_count": 100,
   "id": "22b619fb-806b-441a-b756-bbff347c3a8f",
   "metadata": {},
   "outputs": [],
   "source": [
    "normal <- normal[!duplicated(normal$X),]"
   ]
  },
  {
   "cell_type": "code",
   "execution_count": 102,
   "id": "954158cd-f68c-472d-bf1c-f9e4f81ff56a",
   "metadata": {},
   "outputs": [],
   "source": [
    "rownames(normal)<-NULL"
   ]
  },
  {
   "cell_type": "code",
   "execution_count": 104,
   "id": "9d1fd876-531f-4eee-9db9-553db87707e4",
   "metadata": {},
   "outputs": [],
   "source": [
    "#将第一列变成列名\n",
    "normal <- column_to_rownames(normal, var = \"X\")"
   ]
  },
  {
   "cell_type": "code",
   "execution_count": 113,
   "id": "e6beb4da-68f2-447d-b758-c582e744db12",
   "metadata": {
    "collapsed": true,
    "jupyter": {
     "outputs_hidden": true
    },
    "tags": []
   },
   "outputs": [
    {
     "name": "stderr",
     "output_type": "stream",
     "text": [
      "Warning message:\n",
      "“Ensembl will soon enforce the use of https.\n",
      "Ensure the 'host' argument includes \"https://\"”\n",
      "Ensembl site unresponsive, trying asia mirror\n",
      "\n",
      "Ensembl site unresponsive, trying useast mirror\n",
      "\n",
      "Warning message in count2tpm(countMat = normal, idType = \"Ensembl\", org = \"hsa\"):\n",
      "“Omit 83 genes of which length is not available !”\n"
     ]
    }
   ],
   "source": [
    "#将counts转化为TPM\n",
    "normal2 <- count2tpm(countMat = normal, idType = \"Ensembl\", org=\"hsa\")"
   ]
  },
  {
   "cell_type": "code",
   "execution_count": 114,
   "id": "cf68b903-3d13-4425-bbbb-38ba4a239c75",
   "metadata": {
    "tags": []
   },
   "outputs": [
    {
     "data": {
      "text/html": [
       "<table class=\"dataframe\">\n",
       "<caption>A matrix: 6 × 113 of type dbl</caption>\n",
       "<thead>\n",
       "\t<tr><th></th><th scope=col>TCGA.E2.A1L7.11A.33R.A144.07</th><th scope=col>TCGA.E2.A1IG.11A.22R.A144.07</th><th scope=col>TCGA.BH.A0BS.11A.11R.A12P.07</th><th scope=col>TCGA.E9.A1NA.11A.33R.A144.07</th><th scope=col>TCGA.BH.A0H9.11A.22R.A466.07</th><th scope=col>TCGA.BH.A0BQ.11A.33R.A115.07</th><th scope=col>TCGA.BH.A0E0.11A.13R.A089.07</th><th scope=col>TCGA.BH.A1FH.11B.42R.A13Q.07</th><th scope=col>TCGA.E9.A1NG.11A.52R.A14M.07</th><th scope=col>TCGA.BH.A0DO.11A.22R.A12D.07</th><th scope=col>⋯</th><th scope=col>TCGA.AC.A2FM.11B.32R.A19W.07</th><th scope=col>TCGA.BH.A1FJ.11B.42R.A13Q.07</th><th scope=col>TCGA.E9.A1ND.11A.43R.A144.07</th><th scope=col>TCGA.BH.A1FU.11A.23R.A14D.07</th><th scope=col>TCGA.E9.A1RF.11A.32R.A157.07</th><th scope=col>TCGA.A7.A0DC.11A.41R.A089.07</th><th scope=col>TCGA.BH.A18J.11A.31R.A12D.07</th><th scope=col>TCGA.BH.A18R.11A.42R.A12D.07</th><th scope=col>TCGA.BH.A0DK.11A.13R.A089.07</th><th scope=col>TCGA.E2.A158.11A.22R.A12D.07</th></tr>\n",
       "</thead>\n",
       "<tbody>\n",
       "\t<tr><th scope=row>MT-CO3</th><td>34456.43</td><td>45802.14</td><td>40792.82</td><td>47720.98</td><td>54346.61</td><td>60060.62</td><td>56380.96</td><td>47869.80</td><td>58207.63</td><td>50600.08</td><td>⋯</td><td>35023.86</td><td>63570.27</td><td>54583.62</td><td>45925.45</td><td>63863.59</td><td>51241.93</td><td>57424.10</td><td>56122.94</td><td>50574.07</td><td>61826.02</td></tr>\n",
       "\t<tr><th scope=row>MT-ND4</th><td>29705.07</td><td>74238.67</td><td>30958.63</td><td>58551.12</td><td>47964.09</td><td>55195.35</td><td>45929.72</td><td>37763.14</td><td>61651.61</td><td>34446.62</td><td>⋯</td><td>22139.97</td><td>41345.61</td><td>43288.65</td><td>47376.26</td><td>86432.27</td><td>66828.33</td><td>42646.67</td><td>58689.28</td><td>54750.21</td><td>76165.95</td></tr>\n",
       "\t<tr><th scope=row>MT-CO1</th><td>27792.14</td><td>50213.53</td><td>28729.01</td><td>41918.51</td><td>39550.10</td><td>45966.09</td><td>42081.68</td><td>41109.34</td><td>49567.05</td><td>39686.90</td><td>⋯</td><td>22049.59</td><td>55068.14</td><td>47298.12</td><td>44810.41</td><td>58792.17</td><td>52862.81</td><td>54488.92</td><td>47930.68</td><td>43350.16</td><td>59683.98</td></tr>\n",
       "\t<tr><th scope=row>MT-CO2</th><td>27053.22</td><td>48241.74</td><td>28716.90</td><td>42473.43</td><td>55465.54</td><td>39091.48</td><td>51286.67</td><td>35267.24</td><td>51614.13</td><td>31722.81</td><td>⋯</td><td>27696.02</td><td>41338.92</td><td>48331.41</td><td>32554.05</td><td>52991.13</td><td>42655.13</td><td>42573.02</td><td>46309.78</td><td>46197.08</td><td>56042.89</td></tr>\n",
       "\t<tr><th scope=row>MT-CYB</th><td>20553.39</td><td>46122.32</td><td>26654.51</td><td>43167.47</td><td>46413.37</td><td>35144.59</td><td>33701.31</td><td>28701.54</td><td>52397.96</td><td>22411.29</td><td>⋯</td><td>17530.54</td><td>33671.88</td><td>31656.61</td><td>33998.03</td><td>61346.66</td><td>41475.29</td><td>34193.50</td><td>42156.05</td><td>32930.85</td><td>56409.79</td></tr>\n",
       "\t<tr><th scope=row>MT-ND1</th><td>18964.95</td><td>54662.57</td><td>21589.79</td><td>41972.89</td><td>35672.14</td><td>31672.53</td><td>31589.09</td><td>31235.95</td><td>48546.38</td><td>28114.16</td><td>⋯</td><td>16584.89</td><td>33286.95</td><td>37575.85</td><td>35807.56</td><td>59502.42</td><td>49428.35</td><td>32393.27</td><td>46247.39</td><td>19241.63</td><td>45831.63</td></tr>\n",
       "</tbody>\n",
       "</table>\n"
      ],
      "text/latex": [
       "A matrix: 6 × 113 of type dbl\n",
       "\\begin{tabular}{r|lllllllllllllllllllll}\n",
       "  & TCGA.E2.A1L7.11A.33R.A144.07 & TCGA.E2.A1IG.11A.22R.A144.07 & TCGA.BH.A0BS.11A.11R.A12P.07 & TCGA.E9.A1NA.11A.33R.A144.07 & TCGA.BH.A0H9.11A.22R.A466.07 & TCGA.BH.A0BQ.11A.33R.A115.07 & TCGA.BH.A0E0.11A.13R.A089.07 & TCGA.BH.A1FH.11B.42R.A13Q.07 & TCGA.E9.A1NG.11A.52R.A14M.07 & TCGA.BH.A0DO.11A.22R.A12D.07 & ⋯ & TCGA.AC.A2FM.11B.32R.A19W.07 & TCGA.BH.A1FJ.11B.42R.A13Q.07 & TCGA.E9.A1ND.11A.43R.A144.07 & TCGA.BH.A1FU.11A.23R.A14D.07 & TCGA.E9.A1RF.11A.32R.A157.07 & TCGA.A7.A0DC.11A.41R.A089.07 & TCGA.BH.A18J.11A.31R.A12D.07 & TCGA.BH.A18R.11A.42R.A12D.07 & TCGA.BH.A0DK.11A.13R.A089.07 & TCGA.E2.A158.11A.22R.A12D.07\\\\\n",
       "\\hline\n",
       "\tMT-CO3 & 34456.43 & 45802.14 & 40792.82 & 47720.98 & 54346.61 & 60060.62 & 56380.96 & 47869.80 & 58207.63 & 50600.08 & ⋯ & 35023.86 & 63570.27 & 54583.62 & 45925.45 & 63863.59 & 51241.93 & 57424.10 & 56122.94 & 50574.07 & 61826.02\\\\\n",
       "\tMT-ND4 & 29705.07 & 74238.67 & 30958.63 & 58551.12 & 47964.09 & 55195.35 & 45929.72 & 37763.14 & 61651.61 & 34446.62 & ⋯ & 22139.97 & 41345.61 & 43288.65 & 47376.26 & 86432.27 & 66828.33 & 42646.67 & 58689.28 & 54750.21 & 76165.95\\\\\n",
       "\tMT-CO1 & 27792.14 & 50213.53 & 28729.01 & 41918.51 & 39550.10 & 45966.09 & 42081.68 & 41109.34 & 49567.05 & 39686.90 & ⋯ & 22049.59 & 55068.14 & 47298.12 & 44810.41 & 58792.17 & 52862.81 & 54488.92 & 47930.68 & 43350.16 & 59683.98\\\\\n",
       "\tMT-CO2 & 27053.22 & 48241.74 & 28716.90 & 42473.43 & 55465.54 & 39091.48 & 51286.67 & 35267.24 & 51614.13 & 31722.81 & ⋯ & 27696.02 & 41338.92 & 48331.41 & 32554.05 & 52991.13 & 42655.13 & 42573.02 & 46309.78 & 46197.08 & 56042.89\\\\\n",
       "\tMT-CYB & 20553.39 & 46122.32 & 26654.51 & 43167.47 & 46413.37 & 35144.59 & 33701.31 & 28701.54 & 52397.96 & 22411.29 & ⋯ & 17530.54 & 33671.88 & 31656.61 & 33998.03 & 61346.66 & 41475.29 & 34193.50 & 42156.05 & 32930.85 & 56409.79\\\\\n",
       "\tMT-ND1 & 18964.95 & 54662.57 & 21589.79 & 41972.89 & 35672.14 & 31672.53 & 31589.09 & 31235.95 & 48546.38 & 28114.16 & ⋯ & 16584.89 & 33286.95 & 37575.85 & 35807.56 & 59502.42 & 49428.35 & 32393.27 & 46247.39 & 19241.63 & 45831.63\\\\\n",
       "\\end{tabular}\n"
      ],
      "text/markdown": [
       "\n",
       "A matrix: 6 × 113 of type dbl\n",
       "\n",
       "| <!--/--> | TCGA.E2.A1L7.11A.33R.A144.07 | TCGA.E2.A1IG.11A.22R.A144.07 | TCGA.BH.A0BS.11A.11R.A12P.07 | TCGA.E9.A1NA.11A.33R.A144.07 | TCGA.BH.A0H9.11A.22R.A466.07 | TCGA.BH.A0BQ.11A.33R.A115.07 | TCGA.BH.A0E0.11A.13R.A089.07 | TCGA.BH.A1FH.11B.42R.A13Q.07 | TCGA.E9.A1NG.11A.52R.A14M.07 | TCGA.BH.A0DO.11A.22R.A12D.07 | ⋯ | TCGA.AC.A2FM.11B.32R.A19W.07 | TCGA.BH.A1FJ.11B.42R.A13Q.07 | TCGA.E9.A1ND.11A.43R.A144.07 | TCGA.BH.A1FU.11A.23R.A14D.07 | TCGA.E9.A1RF.11A.32R.A157.07 | TCGA.A7.A0DC.11A.41R.A089.07 | TCGA.BH.A18J.11A.31R.A12D.07 | TCGA.BH.A18R.11A.42R.A12D.07 | TCGA.BH.A0DK.11A.13R.A089.07 | TCGA.E2.A158.11A.22R.A12D.07 |\n",
       "|---|---|---|---|---|---|---|---|---|---|---|---|---|---|---|---|---|---|---|---|---|---|\n",
       "| MT-CO3 | 34456.43 | 45802.14 | 40792.82 | 47720.98 | 54346.61 | 60060.62 | 56380.96 | 47869.80 | 58207.63 | 50600.08 | ⋯ | 35023.86 | 63570.27 | 54583.62 | 45925.45 | 63863.59 | 51241.93 | 57424.10 | 56122.94 | 50574.07 | 61826.02 |\n",
       "| MT-ND4 | 29705.07 | 74238.67 | 30958.63 | 58551.12 | 47964.09 | 55195.35 | 45929.72 | 37763.14 | 61651.61 | 34446.62 | ⋯ | 22139.97 | 41345.61 | 43288.65 | 47376.26 | 86432.27 | 66828.33 | 42646.67 | 58689.28 | 54750.21 | 76165.95 |\n",
       "| MT-CO1 | 27792.14 | 50213.53 | 28729.01 | 41918.51 | 39550.10 | 45966.09 | 42081.68 | 41109.34 | 49567.05 | 39686.90 | ⋯ | 22049.59 | 55068.14 | 47298.12 | 44810.41 | 58792.17 | 52862.81 | 54488.92 | 47930.68 | 43350.16 | 59683.98 |\n",
       "| MT-CO2 | 27053.22 | 48241.74 | 28716.90 | 42473.43 | 55465.54 | 39091.48 | 51286.67 | 35267.24 | 51614.13 | 31722.81 | ⋯ | 27696.02 | 41338.92 | 48331.41 | 32554.05 | 52991.13 | 42655.13 | 42573.02 | 46309.78 | 46197.08 | 56042.89 |\n",
       "| MT-CYB | 20553.39 | 46122.32 | 26654.51 | 43167.47 | 46413.37 | 35144.59 | 33701.31 | 28701.54 | 52397.96 | 22411.29 | ⋯ | 17530.54 | 33671.88 | 31656.61 | 33998.03 | 61346.66 | 41475.29 | 34193.50 | 42156.05 | 32930.85 | 56409.79 |\n",
       "| MT-ND1 | 18964.95 | 54662.57 | 21589.79 | 41972.89 | 35672.14 | 31672.53 | 31589.09 | 31235.95 | 48546.38 | 28114.16 | ⋯ | 16584.89 | 33286.95 | 37575.85 | 35807.56 | 59502.42 | 49428.35 | 32393.27 | 46247.39 | 19241.63 | 45831.63 |\n",
       "\n"
      ],
      "text/plain": [
       "       TCGA.E2.A1L7.11A.33R.A144.07 TCGA.E2.A1IG.11A.22R.A144.07\n",
       "MT-CO3 34456.43                     45802.14                    \n",
       "MT-ND4 29705.07                     74238.67                    \n",
       "MT-CO1 27792.14                     50213.53                    \n",
       "MT-CO2 27053.22                     48241.74                    \n",
       "MT-CYB 20553.39                     46122.32                    \n",
       "MT-ND1 18964.95                     54662.57                    \n",
       "       TCGA.BH.A0BS.11A.11R.A12P.07 TCGA.E9.A1NA.11A.33R.A144.07\n",
       "MT-CO3 40792.82                     47720.98                    \n",
       "MT-ND4 30958.63                     58551.12                    \n",
       "MT-CO1 28729.01                     41918.51                    \n",
       "MT-CO2 28716.90                     42473.43                    \n",
       "MT-CYB 26654.51                     43167.47                    \n",
       "MT-ND1 21589.79                     41972.89                    \n",
       "       TCGA.BH.A0H9.11A.22R.A466.07 TCGA.BH.A0BQ.11A.33R.A115.07\n",
       "MT-CO3 54346.61                     60060.62                    \n",
       "MT-ND4 47964.09                     55195.35                    \n",
       "MT-CO1 39550.10                     45966.09                    \n",
       "MT-CO2 55465.54                     39091.48                    \n",
       "MT-CYB 46413.37                     35144.59                    \n",
       "MT-ND1 35672.14                     31672.53                    \n",
       "       TCGA.BH.A0E0.11A.13R.A089.07 TCGA.BH.A1FH.11B.42R.A13Q.07\n",
       "MT-CO3 56380.96                     47869.80                    \n",
       "MT-ND4 45929.72                     37763.14                    \n",
       "MT-CO1 42081.68                     41109.34                    \n",
       "MT-CO2 51286.67                     35267.24                    \n",
       "MT-CYB 33701.31                     28701.54                    \n",
       "MT-ND1 31589.09                     31235.95                    \n",
       "       TCGA.E9.A1NG.11A.52R.A14M.07 TCGA.BH.A0DO.11A.22R.A12D.07 ⋯\n",
       "MT-CO3 58207.63                     50600.08                     ⋯\n",
       "MT-ND4 61651.61                     34446.62                     ⋯\n",
       "MT-CO1 49567.05                     39686.90                     ⋯\n",
       "MT-CO2 51614.13                     31722.81                     ⋯\n",
       "MT-CYB 52397.96                     22411.29                     ⋯\n",
       "MT-ND1 48546.38                     28114.16                     ⋯\n",
       "       TCGA.AC.A2FM.11B.32R.A19W.07 TCGA.BH.A1FJ.11B.42R.A13Q.07\n",
       "MT-CO3 35023.86                     63570.27                    \n",
       "MT-ND4 22139.97                     41345.61                    \n",
       "MT-CO1 22049.59                     55068.14                    \n",
       "MT-CO2 27696.02                     41338.92                    \n",
       "MT-CYB 17530.54                     33671.88                    \n",
       "MT-ND1 16584.89                     33286.95                    \n",
       "       TCGA.E9.A1ND.11A.43R.A144.07 TCGA.BH.A1FU.11A.23R.A14D.07\n",
       "MT-CO3 54583.62                     45925.45                    \n",
       "MT-ND4 43288.65                     47376.26                    \n",
       "MT-CO1 47298.12                     44810.41                    \n",
       "MT-CO2 48331.41                     32554.05                    \n",
       "MT-CYB 31656.61                     33998.03                    \n",
       "MT-ND1 37575.85                     35807.56                    \n",
       "       TCGA.E9.A1RF.11A.32R.A157.07 TCGA.A7.A0DC.11A.41R.A089.07\n",
       "MT-CO3 63863.59                     51241.93                    \n",
       "MT-ND4 86432.27                     66828.33                    \n",
       "MT-CO1 58792.17                     52862.81                    \n",
       "MT-CO2 52991.13                     42655.13                    \n",
       "MT-CYB 61346.66                     41475.29                    \n",
       "MT-ND1 59502.42                     49428.35                    \n",
       "       TCGA.BH.A18J.11A.31R.A12D.07 TCGA.BH.A18R.11A.42R.A12D.07\n",
       "MT-CO3 57424.10                     56122.94                    \n",
       "MT-ND4 42646.67                     58689.28                    \n",
       "MT-CO1 54488.92                     47930.68                    \n",
       "MT-CO2 42573.02                     46309.78                    \n",
       "MT-CYB 34193.50                     42156.05                    \n",
       "MT-ND1 32393.27                     46247.39                    \n",
       "       TCGA.BH.A0DK.11A.13R.A089.07 TCGA.E2.A158.11A.22R.A12D.07\n",
       "MT-CO3 50574.07                     61826.02                    \n",
       "MT-ND4 54750.21                     76165.95                    \n",
       "MT-CO1 43350.16                     59683.98                    \n",
       "MT-CO2 46197.08                     56042.89                    \n",
       "MT-CYB 32930.85                     56409.79                    \n",
       "MT-ND1 19241.63                     45831.63                    "
      ]
     },
     "metadata": {},
     "output_type": "display_data"
    },
    {
     "data": {
      "text/html": [
       "<style>\n",
       ".list-inline {list-style: none; margin:0; padding: 0}\n",
       ".list-inline>li {display: inline-block}\n",
       ".list-inline>li:not(:last-child)::after {content: \"\\00b7\"; padding: 0 .5ex}\n",
       "</style>\n",
       "<ol class=list-inline><li>36824</li><li>113</li></ol>\n"
      ],
      "text/latex": [
       "\\begin{enumerate*}\n",
       "\\item 36824\n",
       "\\item 113\n",
       "\\end{enumerate*}\n"
      ],
      "text/markdown": [
       "1. 36824\n",
       "2. 113\n",
       "\n",
       "\n"
      ],
      "text/plain": [
       "[1] 36824   113"
      ]
     },
     "metadata": {},
     "output_type": "display_data"
    }
   ],
   "source": [
    "head(normal2)\n",
    "dim(normal2)"
   ]
  },
  {
   "cell_type": "markdown",
   "id": "f9b707ea-b507-46cd-91a6-4c1ec5d46b06",
   "metadata": {},
   "source": [
    "### tumor"
   ]
  },
  {
   "cell_type": "code",
   "execution_count": 116,
   "id": "03c97bb9-d102-4702-a05c-3bef81bd2a6a",
   "metadata": {},
   "outputs": [],
   "source": [
    "tumor <- read.csv('/home/shiyu/data/BRCA/tumor.txt')"
   ]
  },
  {
   "cell_type": "code",
   "execution_count": 117,
   "id": "0535a6f9-256d-4059-ab44-159248aedb67",
   "metadata": {},
   "outputs": [
    {
     "data": {
      "text/html": [
       "<table class=\"dataframe\">\n",
       "<caption>A data.frame: 2 × 1107</caption>\n",
       "<thead>\n",
       "\t<tr><th></th><th scope=col>X</th><th scope=col>TCGA.E2.A1L7.01A.11R.A144.07</th><th scope=col>TCGA.AR.A0U0.01A.11R.A109.07</th><th scope=col>TCGA.BH.A28O.01A.11R.A22K.07</th><th scope=col>TCGA.A2.A0D4.01A.11R.A00Z.07</th><th scope=col>TCGA.E9.A1R4.01A.21R.A14D.07</th><th scope=col>TCGA.AO.A1KQ.01A.11R.A13Q.07</th><th scope=col>TCGA.AC.A62V.01A.11R.A31O.07</th><th scope=col>TCGA.D8.A143.01A.11R.A115.07</th><th scope=col>TCGA.A2.A0SV.01A.11R.A084.07</th><th scope=col>⋯</th><th scope=col>TCGA.A1.A0SD.01A.11R.A115.07</th><th scope=col>TCGA.A2.A0SU.01A.11R.A084.07</th><th scope=col>TCGA.E9.A1NI.01A.11R.A14D.07</th><th scope=col>TCGA.B6.A0RQ.01A.11R.A115.07</th><th scope=col>TCGA.E9.A1RF.01A.11R.A157.07</th><th scope=col>TCGA.A2.A0CX.01A.21R.A00Z.07</th><th scope=col>TCGA.A2.A25F.01A.11R.A169.07</th><th scope=col>TCGA.AC.A23G.01A.11R.A213.07</th><th scope=col>TCGA.E2.A15D.01A.11R.A115.07</th><th scope=col>TCGA.OL.A5D7.01A.11R.A27Q.07</th></tr>\n",
       "\t<tr><th></th><th scope=col>&lt;chr&gt;</th><th scope=col>&lt;int&gt;</th><th scope=col>&lt;int&gt;</th><th scope=col>&lt;int&gt;</th><th scope=col>&lt;int&gt;</th><th scope=col>&lt;int&gt;</th><th scope=col>&lt;int&gt;</th><th scope=col>&lt;int&gt;</th><th scope=col>&lt;int&gt;</th><th scope=col>&lt;int&gt;</th><th scope=col>⋯</th><th scope=col>&lt;int&gt;</th><th scope=col>&lt;int&gt;</th><th scope=col>&lt;int&gt;</th><th scope=col>&lt;int&gt;</th><th scope=col>&lt;int&gt;</th><th scope=col>&lt;int&gt;</th><th scope=col>&lt;int&gt;</th><th scope=col>&lt;int&gt;</th><th scope=col>&lt;int&gt;</th><th scope=col>&lt;int&gt;</th></tr>\n",
       "</thead>\n",
       "<tbody>\n",
       "\t<tr><th scope=row>1</th><td>ENSG00000000003.15</td><td>1689</td><td>1590</td><td>4583</td><td>1550</td><td>711</td><td>825</td><td>783</td><td>6142</td><td>1275</td><td>⋯</td><td>2477</td><td>8928</td><td>441</td><td>6821</td><td>674</td><td>3226</td><td>2509</td><td>1356</td><td>4243</td><td>2006</td></tr>\n",
       "\t<tr><th scope=row>2</th><td>ENSG00000000005.6 </td><td>  16</td><td>   0</td><td> 135</td><td>  45</td><td> 15</td><td>  3</td><td> 16</td><td>   1</td><td>   4</td><td>⋯</td><td>  50</td><td>   7</td><td>  0</td><td>  63</td><td> 41</td><td>   1</td><td> 370</td><td>   7</td><td>  85</td><td>   5</td></tr>\n",
       "</tbody>\n",
       "</table>\n"
      ],
      "text/latex": [
       "A data.frame: 2 × 1107\n",
       "\\begin{tabular}{r|lllllllllllllllllllll}\n",
       "  & X & TCGA.E2.A1L7.01A.11R.A144.07 & TCGA.AR.A0U0.01A.11R.A109.07 & TCGA.BH.A28O.01A.11R.A22K.07 & TCGA.A2.A0D4.01A.11R.A00Z.07 & TCGA.E9.A1R4.01A.21R.A14D.07 & TCGA.AO.A1KQ.01A.11R.A13Q.07 & TCGA.AC.A62V.01A.11R.A31O.07 & TCGA.D8.A143.01A.11R.A115.07 & TCGA.A2.A0SV.01A.11R.A084.07 & ⋯ & TCGA.A1.A0SD.01A.11R.A115.07 & TCGA.A2.A0SU.01A.11R.A084.07 & TCGA.E9.A1NI.01A.11R.A14D.07 & TCGA.B6.A0RQ.01A.11R.A115.07 & TCGA.E9.A1RF.01A.11R.A157.07 & TCGA.A2.A0CX.01A.21R.A00Z.07 & TCGA.A2.A25F.01A.11R.A169.07 & TCGA.AC.A23G.01A.11R.A213.07 & TCGA.E2.A15D.01A.11R.A115.07 & TCGA.OL.A5D7.01A.11R.A27Q.07\\\\\n",
       "  & <chr> & <int> & <int> & <int> & <int> & <int> & <int> & <int> & <int> & <int> & ⋯ & <int> & <int> & <int> & <int> & <int> & <int> & <int> & <int> & <int> & <int>\\\\\n",
       "\\hline\n",
       "\t1 & ENSG00000000003.15 & 1689 & 1590 & 4583 & 1550 & 711 & 825 & 783 & 6142 & 1275 & ⋯ & 2477 & 8928 & 441 & 6821 & 674 & 3226 & 2509 & 1356 & 4243 & 2006\\\\\n",
       "\t2 & ENSG00000000005.6  &   16 &    0 &  135 &   45 &  15 &   3 &  16 &    1 &    4 & ⋯ &   50 &    7 &   0 &   63 &  41 &    1 &  370 &    7 &   85 &    5\\\\\n",
       "\\end{tabular}\n"
      ],
      "text/markdown": [
       "\n",
       "A data.frame: 2 × 1107\n",
       "\n",
       "| <!--/--> | X &lt;chr&gt; | TCGA.E2.A1L7.01A.11R.A144.07 &lt;int&gt; | TCGA.AR.A0U0.01A.11R.A109.07 &lt;int&gt; | TCGA.BH.A28O.01A.11R.A22K.07 &lt;int&gt; | TCGA.A2.A0D4.01A.11R.A00Z.07 &lt;int&gt; | TCGA.E9.A1R4.01A.21R.A14D.07 &lt;int&gt; | TCGA.AO.A1KQ.01A.11R.A13Q.07 &lt;int&gt; | TCGA.AC.A62V.01A.11R.A31O.07 &lt;int&gt; | TCGA.D8.A143.01A.11R.A115.07 &lt;int&gt; | TCGA.A2.A0SV.01A.11R.A084.07 &lt;int&gt; | ⋯ ⋯ | TCGA.A1.A0SD.01A.11R.A115.07 &lt;int&gt; | TCGA.A2.A0SU.01A.11R.A084.07 &lt;int&gt; | TCGA.E9.A1NI.01A.11R.A14D.07 &lt;int&gt; | TCGA.B6.A0RQ.01A.11R.A115.07 &lt;int&gt; | TCGA.E9.A1RF.01A.11R.A157.07 &lt;int&gt; | TCGA.A2.A0CX.01A.21R.A00Z.07 &lt;int&gt; | TCGA.A2.A25F.01A.11R.A169.07 &lt;int&gt; | TCGA.AC.A23G.01A.11R.A213.07 &lt;int&gt; | TCGA.E2.A15D.01A.11R.A115.07 &lt;int&gt; | TCGA.OL.A5D7.01A.11R.A27Q.07 &lt;int&gt; |\n",
       "|---|---|---|---|---|---|---|---|---|---|---|---|---|---|---|---|---|---|---|---|---|---|\n",
       "| 1 | ENSG00000000003.15 | 1689 | 1590 | 4583 | 1550 | 711 | 825 | 783 | 6142 | 1275 | ⋯ | 2477 | 8928 | 441 | 6821 | 674 | 3226 | 2509 | 1356 | 4243 | 2006 |\n",
       "| 2 | ENSG00000000005.6  |   16 |    0 |  135 |   45 |  15 |   3 |  16 |    1 |    4 | ⋯ |   50 |    7 |   0 |   63 |  41 |    1 |  370 |    7 |   85 |    5 |\n",
       "\n"
      ],
      "text/plain": [
       "  X                  TCGA.E2.A1L7.01A.11R.A144.07 TCGA.AR.A0U0.01A.11R.A109.07\n",
       "1 ENSG00000000003.15 1689                         1590                        \n",
       "2 ENSG00000000005.6    16                            0                        \n",
       "  TCGA.BH.A28O.01A.11R.A22K.07 TCGA.A2.A0D4.01A.11R.A00Z.07\n",
       "1 4583                         1550                        \n",
       "2  135                           45                        \n",
       "  TCGA.E9.A1R4.01A.21R.A14D.07 TCGA.AO.A1KQ.01A.11R.A13Q.07\n",
       "1 711                          825                         \n",
       "2  15                            3                         \n",
       "  TCGA.AC.A62V.01A.11R.A31O.07 TCGA.D8.A143.01A.11R.A115.07\n",
       "1 783                          6142                        \n",
       "2  16                             1                        \n",
       "  TCGA.A2.A0SV.01A.11R.A084.07 ⋯ TCGA.A1.A0SD.01A.11R.A115.07\n",
       "1 1275                         ⋯ 2477                        \n",
       "2    4                         ⋯   50                        \n",
       "  TCGA.A2.A0SU.01A.11R.A084.07 TCGA.E9.A1NI.01A.11R.A14D.07\n",
       "1 8928                         441                         \n",
       "2    7                           0                         \n",
       "  TCGA.B6.A0RQ.01A.11R.A115.07 TCGA.E9.A1RF.01A.11R.A157.07\n",
       "1 6821                         674                         \n",
       "2   63                          41                         \n",
       "  TCGA.A2.A0CX.01A.21R.A00Z.07 TCGA.A2.A25F.01A.11R.A169.07\n",
       "1 3226                         2509                        \n",
       "2    1                          370                        \n",
       "  TCGA.AC.A23G.01A.11R.A213.07 TCGA.E2.A15D.01A.11R.A115.07\n",
       "1 1356                         4243                        \n",
       "2    7                           85                        \n",
       "  TCGA.OL.A5D7.01A.11R.A27Q.07\n",
       "1 2006                        \n",
       "2    5                        "
      ]
     },
     "metadata": {},
     "output_type": "display_data"
    },
    {
     "data": {
      "text/html": [
       "<style>\n",
       ".list-inline {list-style: none; margin:0; padding: 0}\n",
       ".list-inline>li {display: inline-block}\n",
       ".list-inline>li:not(:last-child)::after {content: \"\\00b7\"; padding: 0 .5ex}\n",
       "</style>\n",
       "<ol class=list-inline><li>60660</li><li>1107</li></ol>\n"
      ],
      "text/latex": [
       "\\begin{enumerate*}\n",
       "\\item 60660\n",
       "\\item 1107\n",
       "\\end{enumerate*}\n"
      ],
      "text/markdown": [
       "1. 60660\n",
       "2. 1107\n",
       "\n",
       "\n"
      ],
      "text/plain": [
       "[1] 60660  1107"
      ]
     },
     "metadata": {},
     "output_type": "display_data"
    }
   ],
   "source": [
    "head(tumor,2)\n",
    "dim(tumor)"
   ]
  },
  {
   "cell_type": "code",
   "execution_count": 118,
   "id": "a6213d65-072b-41fd-8eba-56dc6a5c05d2",
   "metadata": {},
   "outputs": [],
   "source": [
    "# Remove the version numbers in Ensembl ID.\n",
    "tumor$X <- substring(tumor$X, 1, 15)\n",
    "tumor <- tumor[!duplicated(tumor$X),]\n",
    "rownames(tumor)<-NULL\n",
    "#将第一列变成列名\n",
    "tumor <- column_to_rownames(tumor, var = \"X\")"
   ]
  },
  {
   "cell_type": "code",
   "execution_count": 119,
   "id": "dbb79417-a5f3-4f88-b26a-a533b1c4067d",
   "metadata": {
    "collapsed": true,
    "jupyter": {
     "outputs_hidden": true
    },
    "tags": []
   },
   "outputs": [
    {
     "name": "stderr",
     "output_type": "stream",
     "text": [
      "Warning message:\n",
      "“Ensembl will soon enforce the use of https.\n",
      "Ensure the 'host' argument includes \"https://\"”\n",
      "Ensembl site unresponsive, trying asia mirror\n",
      "\n",
      "Ensembl site unresponsive, trying useast mirror\n",
      "\n",
      "Ensembl site unresponsive, trying uswest mirror\n",
      "\n",
      "Warning message in count2tpm(countMat = tumor, idType = \"Ensembl\", org = \"hsa\"):\n",
      "“Omit 85 genes of which length is not available !”\n"
     ]
    }
   ],
   "source": [
    "#将counts转化为TPM\n",
    "tumor2 <- count2tpm(countMat = tumor, idType = \"Ensembl\", org=\"hsa\")"
   ]
  },
  {
   "cell_type": "code",
   "execution_count": 123,
   "id": "303eb51e-c0fc-4e66-978f-f018570ac090",
   "metadata": {},
   "outputs": [
    {
     "data": {
      "text/html": [
       "<table class=\"dataframe\">\n",
       "<caption>A matrix: 6 × 1106 of type dbl</caption>\n",
       "<thead>\n",
       "\t<tr><th></th><th scope=col>TCGA.E2.A1L7.01A.11R.A144.07</th><th scope=col>TCGA.AR.A0U0.01A.11R.A109.07</th><th scope=col>TCGA.BH.A28O.01A.11R.A22K.07</th><th scope=col>TCGA.A2.A0D4.01A.11R.A00Z.07</th><th scope=col>TCGA.E9.A1R4.01A.21R.A14D.07</th><th scope=col>TCGA.AO.A1KQ.01A.11R.A13Q.07</th><th scope=col>TCGA.AC.A62V.01A.11R.A31O.07</th><th scope=col>TCGA.D8.A143.01A.11R.A115.07</th><th scope=col>TCGA.A2.A0SV.01A.11R.A084.07</th><th scope=col>TCGA.AN.A0XW.01A.11R.A109.07</th><th scope=col>⋯</th><th scope=col>TCGA.A1.A0SD.01A.11R.A115.07</th><th scope=col>TCGA.A2.A0SU.01A.11R.A084.07</th><th scope=col>TCGA.E9.A1NI.01A.11R.A14D.07</th><th scope=col>TCGA.B6.A0RQ.01A.11R.A115.07</th><th scope=col>TCGA.E9.A1RF.01A.11R.A157.07</th><th scope=col>TCGA.A2.A0CX.01A.21R.A00Z.07</th><th scope=col>TCGA.A2.A25F.01A.11R.A169.07</th><th scope=col>TCGA.AC.A23G.01A.11R.A213.07</th><th scope=col>TCGA.E2.A15D.01A.11R.A115.07</th><th scope=col>TCGA.OL.A5D7.01A.11R.A27Q.07</th></tr>\n",
       "</thead>\n",
       "<tbody>\n",
       "\t<tr><th scope=row>MT-CO3</th><td>60859.48</td><td> 13635.21</td><td>45131.34</td><td>44445.570</td><td>58733.921</td><td>50169.14</td><td>29106.823</td><td> 14023.49</td><td>41179.5247</td><td>40394.62</td><td>⋯</td><td>53670.47</td><td>36840.019</td><td>38192.2837</td><td>49247.691</td><td>58648.42</td><td>60492.38</td><td> 27152.81</td><td>43641.784</td><td>43380.90</td><td>53751.18</td></tr>\n",
       "\t<tr><th scope=row>MT-CO2</th><td>53032.74</td><td> 15590.23</td><td>32871.44</td><td>63374.142</td><td>44583.731</td><td>56750.21</td><td>53759.692</td><td> 17781.93</td><td>58022.5066</td><td>30415.51</td><td>⋯</td><td>45032.19</td><td>39041.641</td><td>64153.9579</td><td>36566.893</td><td>63246.87</td><td>60335.37</td><td> 23692.58</td><td>28531.813</td><td>40341.66</td><td>49299.03</td></tr>\n",
       "\t<tr><th scope=row>MT-CO1</th><td>33852.43</td><td> 15105.99</td><td>38909.71</td><td>49614.121</td><td>53294.181</td><td>45717.67</td><td>17847.843</td><td> 17297.38</td><td>55659.4796</td><td>47633.40</td><td>⋯</td><td>70913.76</td><td>45303.540</td><td>51048.4314</td><td>50355.549</td><td>49827.80</td><td>72084.15</td><td> 30588.65</td><td>34633.938</td><td>43207.97</td><td>31565.02</td></tr>\n",
       "\t<tr><th scope=row>MT-ND4</th><td>42662.62</td><td> 12388.25</td><td>36893.53</td><td>77884.836</td><td>48342.142</td><td>34546.51</td><td>11543.087</td><td> 19703.72</td><td>35901.1463</td><td>36750.08</td><td>⋯</td><td>34768.18</td><td>40128.366</td><td>54074.9778</td><td>46561.680</td><td>62289.82</td><td>67872.90</td><td> 25404.43</td><td>26844.256</td><td>44216.64</td><td>38781.42</td></tr>\n",
       "\t<tr><th scope=row>MT-RNR2</th><td>19280.28</td><td> 29424.16</td><td>24950.45</td><td>15625.544</td><td>68905.140</td><td>24455.76</td><td>38959.025</td><td> 11998.30</td><td>35971.6979</td><td>28772.00</td><td>⋯</td><td>32211.04</td><td>20777.718</td><td>24129.2633</td><td>33163.991</td><td>42539.51</td><td>29891.06</td><td> 19386.18</td><td>19367.565</td><td>34765.24</td><td>18728.11</td></tr>\n",
       "\t<tr><th scope=row>IGKC</th><td>27978.00</td><td>134967.00</td><td>38607.44</td><td> 1549.905</td><td> 6220.099</td><td>22519.66</td><td> 1058.613</td><td>108678.44</td><td>  763.8947</td><td>31026.46</td><td>⋯</td><td>18212.57</td><td> 3779.433</td><td>  136.0436</td><td> 5433.202</td><td>10624.92</td><td>10358.80</td><td>104055.50</td><td> 4606.725</td><td>11874.39</td><td>36347.66</td></tr>\n",
       "</tbody>\n",
       "</table>\n"
      ],
      "text/latex": [
       "A matrix: 6 × 1106 of type dbl\n",
       "\\begin{tabular}{r|lllllllllllllllllllll}\n",
       "  & TCGA.E2.A1L7.01A.11R.A144.07 & TCGA.AR.A0U0.01A.11R.A109.07 & TCGA.BH.A28O.01A.11R.A22K.07 & TCGA.A2.A0D4.01A.11R.A00Z.07 & TCGA.E9.A1R4.01A.21R.A14D.07 & TCGA.AO.A1KQ.01A.11R.A13Q.07 & TCGA.AC.A62V.01A.11R.A31O.07 & TCGA.D8.A143.01A.11R.A115.07 & TCGA.A2.A0SV.01A.11R.A084.07 & TCGA.AN.A0XW.01A.11R.A109.07 & ⋯ & TCGA.A1.A0SD.01A.11R.A115.07 & TCGA.A2.A0SU.01A.11R.A084.07 & TCGA.E9.A1NI.01A.11R.A14D.07 & TCGA.B6.A0RQ.01A.11R.A115.07 & TCGA.E9.A1RF.01A.11R.A157.07 & TCGA.A2.A0CX.01A.21R.A00Z.07 & TCGA.A2.A25F.01A.11R.A169.07 & TCGA.AC.A23G.01A.11R.A213.07 & TCGA.E2.A15D.01A.11R.A115.07 & TCGA.OL.A5D7.01A.11R.A27Q.07\\\\\n",
       "\\hline\n",
       "\tMT-CO3 & 60859.48 &  13635.21 & 45131.34 & 44445.570 & 58733.921 & 50169.14 & 29106.823 &  14023.49 & 41179.5247 & 40394.62 & ⋯ & 53670.47 & 36840.019 & 38192.2837 & 49247.691 & 58648.42 & 60492.38 &  27152.81 & 43641.784 & 43380.90 & 53751.18\\\\\n",
       "\tMT-CO2 & 53032.74 &  15590.23 & 32871.44 & 63374.142 & 44583.731 & 56750.21 & 53759.692 &  17781.93 & 58022.5066 & 30415.51 & ⋯ & 45032.19 & 39041.641 & 64153.9579 & 36566.893 & 63246.87 & 60335.37 &  23692.58 & 28531.813 & 40341.66 & 49299.03\\\\\n",
       "\tMT-CO1 & 33852.43 &  15105.99 & 38909.71 & 49614.121 & 53294.181 & 45717.67 & 17847.843 &  17297.38 & 55659.4796 & 47633.40 & ⋯ & 70913.76 & 45303.540 & 51048.4314 & 50355.549 & 49827.80 & 72084.15 &  30588.65 & 34633.938 & 43207.97 & 31565.02\\\\\n",
       "\tMT-ND4 & 42662.62 &  12388.25 & 36893.53 & 77884.836 & 48342.142 & 34546.51 & 11543.087 &  19703.72 & 35901.1463 & 36750.08 & ⋯ & 34768.18 & 40128.366 & 54074.9778 & 46561.680 & 62289.82 & 67872.90 &  25404.43 & 26844.256 & 44216.64 & 38781.42\\\\\n",
       "\tMT-RNR2 & 19280.28 &  29424.16 & 24950.45 & 15625.544 & 68905.140 & 24455.76 & 38959.025 &  11998.30 & 35971.6979 & 28772.00 & ⋯ & 32211.04 & 20777.718 & 24129.2633 & 33163.991 & 42539.51 & 29891.06 &  19386.18 & 19367.565 & 34765.24 & 18728.11\\\\\n",
       "\tIGKC & 27978.00 & 134967.00 & 38607.44 &  1549.905 &  6220.099 & 22519.66 &  1058.613 & 108678.44 &   763.8947 & 31026.46 & ⋯ & 18212.57 &  3779.433 &   136.0436 &  5433.202 & 10624.92 & 10358.80 & 104055.50 &  4606.725 & 11874.39 & 36347.66\\\\\n",
       "\\end{tabular}\n"
      ],
      "text/markdown": [
       "\n",
       "A matrix: 6 × 1106 of type dbl\n",
       "\n",
       "| <!--/--> | TCGA.E2.A1L7.01A.11R.A144.07 | TCGA.AR.A0U0.01A.11R.A109.07 | TCGA.BH.A28O.01A.11R.A22K.07 | TCGA.A2.A0D4.01A.11R.A00Z.07 | TCGA.E9.A1R4.01A.21R.A14D.07 | TCGA.AO.A1KQ.01A.11R.A13Q.07 | TCGA.AC.A62V.01A.11R.A31O.07 | TCGA.D8.A143.01A.11R.A115.07 | TCGA.A2.A0SV.01A.11R.A084.07 | TCGA.AN.A0XW.01A.11R.A109.07 | ⋯ | TCGA.A1.A0SD.01A.11R.A115.07 | TCGA.A2.A0SU.01A.11R.A084.07 | TCGA.E9.A1NI.01A.11R.A14D.07 | TCGA.B6.A0RQ.01A.11R.A115.07 | TCGA.E9.A1RF.01A.11R.A157.07 | TCGA.A2.A0CX.01A.21R.A00Z.07 | TCGA.A2.A25F.01A.11R.A169.07 | TCGA.AC.A23G.01A.11R.A213.07 | TCGA.E2.A15D.01A.11R.A115.07 | TCGA.OL.A5D7.01A.11R.A27Q.07 |\n",
       "|---|---|---|---|---|---|---|---|---|---|---|---|---|---|---|---|---|---|---|---|---|---|\n",
       "| MT-CO3 | 60859.48 |  13635.21 | 45131.34 | 44445.570 | 58733.921 | 50169.14 | 29106.823 |  14023.49 | 41179.5247 | 40394.62 | ⋯ | 53670.47 | 36840.019 | 38192.2837 | 49247.691 | 58648.42 | 60492.38 |  27152.81 | 43641.784 | 43380.90 | 53751.18 |\n",
       "| MT-CO2 | 53032.74 |  15590.23 | 32871.44 | 63374.142 | 44583.731 | 56750.21 | 53759.692 |  17781.93 | 58022.5066 | 30415.51 | ⋯ | 45032.19 | 39041.641 | 64153.9579 | 36566.893 | 63246.87 | 60335.37 |  23692.58 | 28531.813 | 40341.66 | 49299.03 |\n",
       "| MT-CO1 | 33852.43 |  15105.99 | 38909.71 | 49614.121 | 53294.181 | 45717.67 | 17847.843 |  17297.38 | 55659.4796 | 47633.40 | ⋯ | 70913.76 | 45303.540 | 51048.4314 | 50355.549 | 49827.80 | 72084.15 |  30588.65 | 34633.938 | 43207.97 | 31565.02 |\n",
       "| MT-ND4 | 42662.62 |  12388.25 | 36893.53 | 77884.836 | 48342.142 | 34546.51 | 11543.087 |  19703.72 | 35901.1463 | 36750.08 | ⋯ | 34768.18 | 40128.366 | 54074.9778 | 46561.680 | 62289.82 | 67872.90 |  25404.43 | 26844.256 | 44216.64 | 38781.42 |\n",
       "| MT-RNR2 | 19280.28 |  29424.16 | 24950.45 | 15625.544 | 68905.140 | 24455.76 | 38959.025 |  11998.30 | 35971.6979 | 28772.00 | ⋯ | 32211.04 | 20777.718 | 24129.2633 | 33163.991 | 42539.51 | 29891.06 |  19386.18 | 19367.565 | 34765.24 | 18728.11 |\n",
       "| IGKC | 27978.00 | 134967.00 | 38607.44 |  1549.905 |  6220.099 | 22519.66 |  1058.613 | 108678.44 |   763.8947 | 31026.46 | ⋯ | 18212.57 |  3779.433 |   136.0436 |  5433.202 | 10624.92 | 10358.80 | 104055.50 |  4606.725 | 11874.39 | 36347.66 |\n",
       "\n"
      ],
      "text/plain": [
       "        TCGA.E2.A1L7.01A.11R.A144.07 TCGA.AR.A0U0.01A.11R.A109.07\n",
       "MT-CO3  60859.48                      13635.21                   \n",
       "MT-CO2  53032.74                      15590.23                   \n",
       "MT-CO1  33852.43                      15105.99                   \n",
       "MT-ND4  42662.62                      12388.25                   \n",
       "MT-RNR2 19280.28                      29424.16                   \n",
       "IGKC    27978.00                     134967.00                   \n",
       "        TCGA.BH.A28O.01A.11R.A22K.07 TCGA.A2.A0D4.01A.11R.A00Z.07\n",
       "MT-CO3  45131.34                     44445.570                   \n",
       "MT-CO2  32871.44                     63374.142                   \n",
       "MT-CO1  38909.71                     49614.121                   \n",
       "MT-ND4  36893.53                     77884.836                   \n",
       "MT-RNR2 24950.45                     15625.544                   \n",
       "IGKC    38607.44                      1549.905                   \n",
       "        TCGA.E9.A1R4.01A.21R.A14D.07 TCGA.AO.A1KQ.01A.11R.A13Q.07\n",
       "MT-CO3  58733.921                    50169.14                    \n",
       "MT-CO2  44583.731                    56750.21                    \n",
       "MT-CO1  53294.181                    45717.67                    \n",
       "MT-ND4  48342.142                    34546.51                    \n",
       "MT-RNR2 68905.140                    24455.76                    \n",
       "IGKC     6220.099                    22519.66                    \n",
       "        TCGA.AC.A62V.01A.11R.A31O.07 TCGA.D8.A143.01A.11R.A115.07\n",
       "MT-CO3  29106.823                     14023.49                   \n",
       "MT-CO2  53759.692                     17781.93                   \n",
       "MT-CO1  17847.843                     17297.38                   \n",
       "MT-ND4  11543.087                     19703.72                   \n",
       "MT-RNR2 38959.025                     11998.30                   \n",
       "IGKC     1058.613                    108678.44                   \n",
       "        TCGA.A2.A0SV.01A.11R.A084.07 TCGA.AN.A0XW.01A.11R.A109.07 ⋯\n",
       "MT-CO3  41179.5247                   40394.62                     ⋯\n",
       "MT-CO2  58022.5066                   30415.51                     ⋯\n",
       "MT-CO1  55659.4796                   47633.40                     ⋯\n",
       "MT-ND4  35901.1463                   36750.08                     ⋯\n",
       "MT-RNR2 35971.6979                   28772.00                     ⋯\n",
       "IGKC      763.8947                   31026.46                     ⋯\n",
       "        TCGA.A1.A0SD.01A.11R.A115.07 TCGA.A2.A0SU.01A.11R.A084.07\n",
       "MT-CO3  53670.47                     36840.019                   \n",
       "MT-CO2  45032.19                     39041.641                   \n",
       "MT-CO1  70913.76                     45303.540                   \n",
       "MT-ND4  34768.18                     40128.366                   \n",
       "MT-RNR2 32211.04                     20777.718                   \n",
       "IGKC    18212.57                      3779.433                   \n",
       "        TCGA.E9.A1NI.01A.11R.A14D.07 TCGA.B6.A0RQ.01A.11R.A115.07\n",
       "MT-CO3  38192.2837                   49247.691                   \n",
       "MT-CO2  64153.9579                   36566.893                   \n",
       "MT-CO1  51048.4314                   50355.549                   \n",
       "MT-ND4  54074.9778                   46561.680                   \n",
       "MT-RNR2 24129.2633                   33163.991                   \n",
       "IGKC      136.0436                    5433.202                   \n",
       "        TCGA.E9.A1RF.01A.11R.A157.07 TCGA.A2.A0CX.01A.21R.A00Z.07\n",
       "MT-CO3  58648.42                     60492.38                    \n",
       "MT-CO2  63246.87                     60335.37                    \n",
       "MT-CO1  49827.80                     72084.15                    \n",
       "MT-ND4  62289.82                     67872.90                    \n",
       "MT-RNR2 42539.51                     29891.06                    \n",
       "IGKC    10624.92                     10358.80                    \n",
       "        TCGA.A2.A25F.01A.11R.A169.07 TCGA.AC.A23G.01A.11R.A213.07\n",
       "MT-CO3   27152.81                    43641.784                   \n",
       "MT-CO2   23692.58                    28531.813                   \n",
       "MT-CO1   30588.65                    34633.938                   \n",
       "MT-ND4   25404.43                    26844.256                   \n",
       "MT-RNR2  19386.18                    19367.565                   \n",
       "IGKC    104055.50                     4606.725                   \n",
       "        TCGA.E2.A15D.01A.11R.A115.07 TCGA.OL.A5D7.01A.11R.A27Q.07\n",
       "MT-CO3  43380.90                     53751.18                    \n",
       "MT-CO2  40341.66                     49299.03                    \n",
       "MT-CO1  43207.97                     31565.02                    \n",
       "MT-ND4  44216.64                     38781.42                    \n",
       "MT-RNR2 34765.24                     18728.11                    \n",
       "IGKC    11874.39                     36347.66                    "
      ]
     },
     "metadata": {},
     "output_type": "display_data"
    },
    {
     "data": {
      "text/html": [
       "<style>\n",
       ".list-inline {list-style: none; margin:0; padding: 0}\n",
       ".list-inline>li {display: inline-block}\n",
       ".list-inline>li:not(:last-child)::after {content: \"\\00b7\"; padding: 0 .5ex}\n",
       "</style>\n",
       "<ol class=list-inline><li>38489</li><li>1106</li></ol>\n"
      ],
      "text/latex": [
       "\\begin{enumerate*}\n",
       "\\item 38489\n",
       "\\item 1106\n",
       "\\end{enumerate*}\n"
      ],
      "text/markdown": [
       "1. 38489\n",
       "2. 1106\n",
       "\n",
       "\n"
      ],
      "text/plain": [
       "[1] 38489  1106"
      ]
     },
     "metadata": {},
     "output_type": "display_data"
    }
   ],
   "source": [
    "head(tumor2)\n",
    "dim(tumor2)"
   ]
  },
  {
   "cell_type": "code",
   "execution_count": 130,
   "id": "2f572364-adfb-4b05-ac17-1bff86b7ebea",
   "metadata": {},
   "outputs": [],
   "source": [
    "common_genes <- intersect(rownames(normal2),rownames(tumor2))"
   ]
  },
  {
   "cell_type": "code",
   "execution_count": 133,
   "id": "98ab9373-57ba-4ee3-8dd8-994eb8cc47c6",
   "metadata": {},
   "outputs": [
    {
     "data": {
      "text/html": [
       "<style>\n",
       ".list-inline {list-style: none; margin:0; padding: 0}\n",
       ".list-inline>li {display: inline-block}\n",
       ".list-inline>li:not(:last-child)::after {content: \"\\00b7\"; padding: 0 .5ex}\n",
       "</style>\n",
       "<ol class=list-inline><li>'MT-CO3'</li><li>'MT-ND4'</li><li>'MT-CO1'</li><li>'MT-CO2'</li><li>'MT-CYB'</li><li>'MT-ND1'</li></ol>\n"
      ],
      "text/latex": [
       "\\begin{enumerate*}\n",
       "\\item 'MT-CO3'\n",
       "\\item 'MT-ND4'\n",
       "\\item 'MT-CO1'\n",
       "\\item 'MT-CO2'\n",
       "\\item 'MT-CYB'\n",
       "\\item 'MT-ND1'\n",
       "\\end{enumerate*}\n"
      ],
      "text/markdown": [
       "1. 'MT-CO3'\n",
       "2. 'MT-ND4'\n",
       "3. 'MT-CO1'\n",
       "4. 'MT-CO2'\n",
       "5. 'MT-CYB'\n",
       "6. 'MT-ND1'\n",
       "\n",
       "\n"
      ],
      "text/plain": [
       "[1] \"MT-CO3\" \"MT-ND4\" \"MT-CO1\" \"MT-CO2\" \"MT-CYB\" \"MT-ND1\""
      ]
     },
     "metadata": {},
     "output_type": "display_data"
    },
    {
     "data": {
      "text/html": [
       "36809"
      ],
      "text/latex": [
       "36809"
      ],
      "text/markdown": [
       "36809"
      ],
      "text/plain": [
       "[1] 36809"
      ]
     },
     "metadata": {},
     "output_type": "display_data"
    }
   ],
   "source": [
    "head(common_genes)\n",
    "length(common_genes)"
   ]
  },
  {
   "cell_type": "code",
   "execution_count": 175,
   "id": "223b2c11-fc49-4f9e-962d-441205a8b401",
   "metadata": {},
   "outputs": [],
   "source": [
    "normal3 <- normal2[rownames(normal2) %in% common_genes, ]  # Extract rows from data"
   ]
  },
  {
   "cell_type": "code",
   "execution_count": 178,
   "id": "bbaa7e59-324a-4aba-b0d1-2cf0034cf883",
   "metadata": {},
   "outputs": [
    {
     "data": {
      "text/html": [
       "<table class=\"dataframe\">\n",
       "<caption>A matrix: 2 × 113 of type dbl</caption>\n",
       "<thead>\n",
       "\t<tr><th></th><th scope=col>TCGA.E2.A1L7.11A.33R.A144.07</th><th scope=col>TCGA.E2.A1IG.11A.22R.A144.07</th><th scope=col>TCGA.BH.A0BS.11A.11R.A12P.07</th><th scope=col>TCGA.E9.A1NA.11A.33R.A144.07</th><th scope=col>TCGA.BH.A0H9.11A.22R.A466.07</th><th scope=col>TCGA.BH.A0BQ.11A.33R.A115.07</th><th scope=col>TCGA.BH.A0E0.11A.13R.A089.07</th><th scope=col>TCGA.BH.A1FH.11B.42R.A13Q.07</th><th scope=col>TCGA.E9.A1NG.11A.52R.A14M.07</th><th scope=col>TCGA.BH.A0DO.11A.22R.A12D.07</th><th scope=col>⋯</th><th scope=col>TCGA.AC.A2FM.11B.32R.A19W.07</th><th scope=col>TCGA.BH.A1FJ.11B.42R.A13Q.07</th><th scope=col>TCGA.E9.A1ND.11A.43R.A144.07</th><th scope=col>TCGA.BH.A1FU.11A.23R.A14D.07</th><th scope=col>TCGA.E9.A1RF.11A.32R.A157.07</th><th scope=col>TCGA.A7.A0DC.11A.41R.A089.07</th><th scope=col>TCGA.BH.A18J.11A.31R.A12D.07</th><th scope=col>TCGA.BH.A18R.11A.42R.A12D.07</th><th scope=col>TCGA.BH.A0DK.11A.13R.A089.07</th><th scope=col>TCGA.E2.A158.11A.22R.A12D.07</th></tr>\n",
       "</thead>\n",
       "<tbody>\n",
       "\t<tr><th scope=row>MT-CO3</th><td>34456.43</td><td>45802.14</td><td>40792.82</td><td>47720.98</td><td>54346.61</td><td>60060.62</td><td>56380.96</td><td>47869.80</td><td>58207.63</td><td>50600.08</td><td>⋯</td><td>35023.86</td><td>63570.27</td><td>54583.62</td><td>45925.45</td><td>63863.59</td><td>51241.93</td><td>57424.10</td><td>56122.94</td><td>50574.07</td><td>61826.02</td></tr>\n",
       "\t<tr><th scope=row>MT-ND4</th><td>29705.07</td><td>74238.67</td><td>30958.63</td><td>58551.12</td><td>47964.09</td><td>55195.35</td><td>45929.72</td><td>37763.14</td><td>61651.61</td><td>34446.62</td><td>⋯</td><td>22139.97</td><td>41345.61</td><td>43288.65</td><td>47376.26</td><td>86432.27</td><td>66828.33</td><td>42646.67</td><td>58689.28</td><td>54750.21</td><td>76165.95</td></tr>\n",
       "</tbody>\n",
       "</table>\n"
      ],
      "text/latex": [
       "A matrix: 2 × 113 of type dbl\n",
       "\\begin{tabular}{r|lllllllllllllllllllll}\n",
       "  & TCGA.E2.A1L7.11A.33R.A144.07 & TCGA.E2.A1IG.11A.22R.A144.07 & TCGA.BH.A0BS.11A.11R.A12P.07 & TCGA.E9.A1NA.11A.33R.A144.07 & TCGA.BH.A0H9.11A.22R.A466.07 & TCGA.BH.A0BQ.11A.33R.A115.07 & TCGA.BH.A0E0.11A.13R.A089.07 & TCGA.BH.A1FH.11B.42R.A13Q.07 & TCGA.E9.A1NG.11A.52R.A14M.07 & TCGA.BH.A0DO.11A.22R.A12D.07 & ⋯ & TCGA.AC.A2FM.11B.32R.A19W.07 & TCGA.BH.A1FJ.11B.42R.A13Q.07 & TCGA.E9.A1ND.11A.43R.A144.07 & TCGA.BH.A1FU.11A.23R.A14D.07 & TCGA.E9.A1RF.11A.32R.A157.07 & TCGA.A7.A0DC.11A.41R.A089.07 & TCGA.BH.A18J.11A.31R.A12D.07 & TCGA.BH.A18R.11A.42R.A12D.07 & TCGA.BH.A0DK.11A.13R.A089.07 & TCGA.E2.A158.11A.22R.A12D.07\\\\\n",
       "\\hline\n",
       "\tMT-CO3 & 34456.43 & 45802.14 & 40792.82 & 47720.98 & 54346.61 & 60060.62 & 56380.96 & 47869.80 & 58207.63 & 50600.08 & ⋯ & 35023.86 & 63570.27 & 54583.62 & 45925.45 & 63863.59 & 51241.93 & 57424.10 & 56122.94 & 50574.07 & 61826.02\\\\\n",
       "\tMT-ND4 & 29705.07 & 74238.67 & 30958.63 & 58551.12 & 47964.09 & 55195.35 & 45929.72 & 37763.14 & 61651.61 & 34446.62 & ⋯ & 22139.97 & 41345.61 & 43288.65 & 47376.26 & 86432.27 & 66828.33 & 42646.67 & 58689.28 & 54750.21 & 76165.95\\\\\n",
       "\\end{tabular}\n"
      ],
      "text/markdown": [
       "\n",
       "A matrix: 2 × 113 of type dbl\n",
       "\n",
       "| <!--/--> | TCGA.E2.A1L7.11A.33R.A144.07 | TCGA.E2.A1IG.11A.22R.A144.07 | TCGA.BH.A0BS.11A.11R.A12P.07 | TCGA.E9.A1NA.11A.33R.A144.07 | TCGA.BH.A0H9.11A.22R.A466.07 | TCGA.BH.A0BQ.11A.33R.A115.07 | TCGA.BH.A0E0.11A.13R.A089.07 | TCGA.BH.A1FH.11B.42R.A13Q.07 | TCGA.E9.A1NG.11A.52R.A14M.07 | TCGA.BH.A0DO.11A.22R.A12D.07 | ⋯ | TCGA.AC.A2FM.11B.32R.A19W.07 | TCGA.BH.A1FJ.11B.42R.A13Q.07 | TCGA.E9.A1ND.11A.43R.A144.07 | TCGA.BH.A1FU.11A.23R.A14D.07 | TCGA.E9.A1RF.11A.32R.A157.07 | TCGA.A7.A0DC.11A.41R.A089.07 | TCGA.BH.A18J.11A.31R.A12D.07 | TCGA.BH.A18R.11A.42R.A12D.07 | TCGA.BH.A0DK.11A.13R.A089.07 | TCGA.E2.A158.11A.22R.A12D.07 |\n",
       "|---|---|---|---|---|---|---|---|---|---|---|---|---|---|---|---|---|---|---|---|---|---|\n",
       "| MT-CO3 | 34456.43 | 45802.14 | 40792.82 | 47720.98 | 54346.61 | 60060.62 | 56380.96 | 47869.80 | 58207.63 | 50600.08 | ⋯ | 35023.86 | 63570.27 | 54583.62 | 45925.45 | 63863.59 | 51241.93 | 57424.10 | 56122.94 | 50574.07 | 61826.02 |\n",
       "| MT-ND4 | 29705.07 | 74238.67 | 30958.63 | 58551.12 | 47964.09 | 55195.35 | 45929.72 | 37763.14 | 61651.61 | 34446.62 | ⋯ | 22139.97 | 41345.61 | 43288.65 | 47376.26 | 86432.27 | 66828.33 | 42646.67 | 58689.28 | 54750.21 | 76165.95 |\n",
       "\n"
      ],
      "text/plain": [
       "       TCGA.E2.A1L7.11A.33R.A144.07 TCGA.E2.A1IG.11A.22R.A144.07\n",
       "MT-CO3 34456.43                     45802.14                    \n",
       "MT-ND4 29705.07                     74238.67                    \n",
       "       TCGA.BH.A0BS.11A.11R.A12P.07 TCGA.E9.A1NA.11A.33R.A144.07\n",
       "MT-CO3 40792.82                     47720.98                    \n",
       "MT-ND4 30958.63                     58551.12                    \n",
       "       TCGA.BH.A0H9.11A.22R.A466.07 TCGA.BH.A0BQ.11A.33R.A115.07\n",
       "MT-CO3 54346.61                     60060.62                    \n",
       "MT-ND4 47964.09                     55195.35                    \n",
       "       TCGA.BH.A0E0.11A.13R.A089.07 TCGA.BH.A1FH.11B.42R.A13Q.07\n",
       "MT-CO3 56380.96                     47869.80                    \n",
       "MT-ND4 45929.72                     37763.14                    \n",
       "       TCGA.E9.A1NG.11A.52R.A14M.07 TCGA.BH.A0DO.11A.22R.A12D.07 ⋯\n",
       "MT-CO3 58207.63                     50600.08                     ⋯\n",
       "MT-ND4 61651.61                     34446.62                     ⋯\n",
       "       TCGA.AC.A2FM.11B.32R.A19W.07 TCGA.BH.A1FJ.11B.42R.A13Q.07\n",
       "MT-CO3 35023.86                     63570.27                    \n",
       "MT-ND4 22139.97                     41345.61                    \n",
       "       TCGA.E9.A1ND.11A.43R.A144.07 TCGA.BH.A1FU.11A.23R.A14D.07\n",
       "MT-CO3 54583.62                     45925.45                    \n",
       "MT-ND4 43288.65                     47376.26                    \n",
       "       TCGA.E9.A1RF.11A.32R.A157.07 TCGA.A7.A0DC.11A.41R.A089.07\n",
       "MT-CO3 63863.59                     51241.93                    \n",
       "MT-ND4 86432.27                     66828.33                    \n",
       "       TCGA.BH.A18J.11A.31R.A12D.07 TCGA.BH.A18R.11A.42R.A12D.07\n",
       "MT-CO3 57424.10                     56122.94                    \n",
       "MT-ND4 42646.67                     58689.28                    \n",
       "       TCGA.BH.A0DK.11A.13R.A089.07 TCGA.E2.A158.11A.22R.A12D.07\n",
       "MT-CO3 50574.07                     61826.02                    \n",
       "MT-ND4 54750.21                     76165.95                    "
      ]
     },
     "metadata": {},
     "output_type": "display_data"
    },
    {
     "data": {
      "text/html": [
       "<style>\n",
       ".list-inline {list-style: none; margin:0; padding: 0}\n",
       ".list-inline>li {display: inline-block}\n",
       ".list-inline>li:not(:last-child)::after {content: \"\\00b7\"; padding: 0 .5ex}\n",
       "</style>\n",
       "<ol class=list-inline><li>36809</li><li>113</li></ol>\n"
      ],
      "text/latex": [
       "\\begin{enumerate*}\n",
       "\\item 36809\n",
       "\\item 113\n",
       "\\end{enumerate*}\n"
      ],
      "text/markdown": [
       "1. 36809\n",
       "2. 113\n",
       "\n",
       "\n"
      ],
      "text/plain": [
       "[1] 36809   113"
      ]
     },
     "metadata": {},
     "output_type": "display_data"
    }
   ],
   "source": [
    "head(normal3,2)\n",
    "dim(normal3)"
   ]
  },
  {
   "cell_type": "code",
   "execution_count": 179,
   "id": "ade1dc7a-6ab8-4088-be8f-f8732ea4e480",
   "metadata": {},
   "outputs": [],
   "source": [
    "tumor3 <- tumor2[rownames(tumor2) %in% common_genes, ]  # Extract rows from data"
   ]
  },
  {
   "cell_type": "code",
   "execution_count": 180,
   "id": "4d8765d7-9e8a-443c-8401-3ddea5795206",
   "metadata": {},
   "outputs": [
    {
     "data": {
      "text/html": [
       "<table class=\"dataframe\">\n",
       "<caption>A matrix: 6 × 1106 of type dbl</caption>\n",
       "<thead>\n",
       "\t<tr><th></th><th scope=col>TCGA.E2.A1L7.01A.11R.A144.07</th><th scope=col>TCGA.AR.A0U0.01A.11R.A109.07</th><th scope=col>TCGA.BH.A28O.01A.11R.A22K.07</th><th scope=col>TCGA.A2.A0D4.01A.11R.A00Z.07</th><th scope=col>TCGA.E9.A1R4.01A.21R.A14D.07</th><th scope=col>TCGA.AO.A1KQ.01A.11R.A13Q.07</th><th scope=col>TCGA.AC.A62V.01A.11R.A31O.07</th><th scope=col>TCGA.D8.A143.01A.11R.A115.07</th><th scope=col>TCGA.A2.A0SV.01A.11R.A084.07</th><th scope=col>TCGA.AN.A0XW.01A.11R.A109.07</th><th scope=col>⋯</th><th scope=col>TCGA.A1.A0SD.01A.11R.A115.07</th><th scope=col>TCGA.A2.A0SU.01A.11R.A084.07</th><th scope=col>TCGA.E9.A1NI.01A.11R.A14D.07</th><th scope=col>TCGA.B6.A0RQ.01A.11R.A115.07</th><th scope=col>TCGA.E9.A1RF.01A.11R.A157.07</th><th scope=col>TCGA.A2.A0CX.01A.21R.A00Z.07</th><th scope=col>TCGA.A2.A25F.01A.11R.A169.07</th><th scope=col>TCGA.AC.A23G.01A.11R.A213.07</th><th scope=col>TCGA.E2.A15D.01A.11R.A115.07</th><th scope=col>TCGA.OL.A5D7.01A.11R.A27Q.07</th></tr>\n",
       "</thead>\n",
       "<tbody>\n",
       "\t<tr><th scope=row>MT-CO3</th><td>60859.48</td><td> 13635.21</td><td>45131.34</td><td>44445.570</td><td>58733.921</td><td>50169.14</td><td>29106.823</td><td> 14023.49</td><td>41179.5247</td><td>40394.62</td><td>⋯</td><td>53670.47</td><td>36840.019</td><td>38192.2837</td><td>49247.691</td><td>58648.42</td><td>60492.38</td><td> 27152.81</td><td>43641.784</td><td>43380.90</td><td>53751.18</td></tr>\n",
       "\t<tr><th scope=row>MT-CO2</th><td>53032.74</td><td> 15590.23</td><td>32871.44</td><td>63374.142</td><td>44583.731</td><td>56750.21</td><td>53759.692</td><td> 17781.93</td><td>58022.5066</td><td>30415.51</td><td>⋯</td><td>45032.19</td><td>39041.641</td><td>64153.9579</td><td>36566.893</td><td>63246.87</td><td>60335.37</td><td> 23692.58</td><td>28531.813</td><td>40341.66</td><td>49299.03</td></tr>\n",
       "\t<tr><th scope=row>MT-CO1</th><td>33852.43</td><td> 15105.99</td><td>38909.71</td><td>49614.121</td><td>53294.181</td><td>45717.67</td><td>17847.843</td><td> 17297.38</td><td>55659.4796</td><td>47633.40</td><td>⋯</td><td>70913.76</td><td>45303.540</td><td>51048.4314</td><td>50355.549</td><td>49827.80</td><td>72084.15</td><td> 30588.65</td><td>34633.938</td><td>43207.97</td><td>31565.02</td></tr>\n",
       "\t<tr><th scope=row>MT-ND4</th><td>42662.62</td><td> 12388.25</td><td>36893.53</td><td>77884.836</td><td>48342.142</td><td>34546.51</td><td>11543.087</td><td> 19703.72</td><td>35901.1463</td><td>36750.08</td><td>⋯</td><td>34768.18</td><td>40128.366</td><td>54074.9778</td><td>46561.680</td><td>62289.82</td><td>67872.90</td><td> 25404.43</td><td>26844.256</td><td>44216.64</td><td>38781.42</td></tr>\n",
       "\t<tr><th scope=row>MT-RNR2</th><td>19280.28</td><td> 29424.16</td><td>24950.45</td><td>15625.544</td><td>68905.140</td><td>24455.76</td><td>38959.025</td><td> 11998.30</td><td>35971.6979</td><td>28772.00</td><td>⋯</td><td>32211.04</td><td>20777.718</td><td>24129.2633</td><td>33163.991</td><td>42539.51</td><td>29891.06</td><td> 19386.18</td><td>19367.565</td><td>34765.24</td><td>18728.11</td></tr>\n",
       "\t<tr><th scope=row>IGKC</th><td>27978.00</td><td>134967.00</td><td>38607.44</td><td> 1549.905</td><td> 6220.099</td><td>22519.66</td><td> 1058.613</td><td>108678.44</td><td>  763.8947</td><td>31026.46</td><td>⋯</td><td>18212.57</td><td> 3779.433</td><td>  136.0436</td><td> 5433.202</td><td>10624.92</td><td>10358.80</td><td>104055.50</td><td> 4606.725</td><td>11874.39</td><td>36347.66</td></tr>\n",
       "</tbody>\n",
       "</table>\n"
      ],
      "text/latex": [
       "A matrix: 6 × 1106 of type dbl\n",
       "\\begin{tabular}{r|lllllllllllllllllllll}\n",
       "  & TCGA.E2.A1L7.01A.11R.A144.07 & TCGA.AR.A0U0.01A.11R.A109.07 & TCGA.BH.A28O.01A.11R.A22K.07 & TCGA.A2.A0D4.01A.11R.A00Z.07 & TCGA.E9.A1R4.01A.21R.A14D.07 & TCGA.AO.A1KQ.01A.11R.A13Q.07 & TCGA.AC.A62V.01A.11R.A31O.07 & TCGA.D8.A143.01A.11R.A115.07 & TCGA.A2.A0SV.01A.11R.A084.07 & TCGA.AN.A0XW.01A.11R.A109.07 & ⋯ & TCGA.A1.A0SD.01A.11R.A115.07 & TCGA.A2.A0SU.01A.11R.A084.07 & TCGA.E9.A1NI.01A.11R.A14D.07 & TCGA.B6.A0RQ.01A.11R.A115.07 & TCGA.E9.A1RF.01A.11R.A157.07 & TCGA.A2.A0CX.01A.21R.A00Z.07 & TCGA.A2.A25F.01A.11R.A169.07 & TCGA.AC.A23G.01A.11R.A213.07 & TCGA.E2.A15D.01A.11R.A115.07 & TCGA.OL.A5D7.01A.11R.A27Q.07\\\\\n",
       "\\hline\n",
       "\tMT-CO3 & 60859.48 &  13635.21 & 45131.34 & 44445.570 & 58733.921 & 50169.14 & 29106.823 &  14023.49 & 41179.5247 & 40394.62 & ⋯ & 53670.47 & 36840.019 & 38192.2837 & 49247.691 & 58648.42 & 60492.38 &  27152.81 & 43641.784 & 43380.90 & 53751.18\\\\\n",
       "\tMT-CO2 & 53032.74 &  15590.23 & 32871.44 & 63374.142 & 44583.731 & 56750.21 & 53759.692 &  17781.93 & 58022.5066 & 30415.51 & ⋯ & 45032.19 & 39041.641 & 64153.9579 & 36566.893 & 63246.87 & 60335.37 &  23692.58 & 28531.813 & 40341.66 & 49299.03\\\\\n",
       "\tMT-CO1 & 33852.43 &  15105.99 & 38909.71 & 49614.121 & 53294.181 & 45717.67 & 17847.843 &  17297.38 & 55659.4796 & 47633.40 & ⋯ & 70913.76 & 45303.540 & 51048.4314 & 50355.549 & 49827.80 & 72084.15 &  30588.65 & 34633.938 & 43207.97 & 31565.02\\\\\n",
       "\tMT-ND4 & 42662.62 &  12388.25 & 36893.53 & 77884.836 & 48342.142 & 34546.51 & 11543.087 &  19703.72 & 35901.1463 & 36750.08 & ⋯ & 34768.18 & 40128.366 & 54074.9778 & 46561.680 & 62289.82 & 67872.90 &  25404.43 & 26844.256 & 44216.64 & 38781.42\\\\\n",
       "\tMT-RNR2 & 19280.28 &  29424.16 & 24950.45 & 15625.544 & 68905.140 & 24455.76 & 38959.025 &  11998.30 & 35971.6979 & 28772.00 & ⋯ & 32211.04 & 20777.718 & 24129.2633 & 33163.991 & 42539.51 & 29891.06 &  19386.18 & 19367.565 & 34765.24 & 18728.11\\\\\n",
       "\tIGKC & 27978.00 & 134967.00 & 38607.44 &  1549.905 &  6220.099 & 22519.66 &  1058.613 & 108678.44 &   763.8947 & 31026.46 & ⋯ & 18212.57 &  3779.433 &   136.0436 &  5433.202 & 10624.92 & 10358.80 & 104055.50 &  4606.725 & 11874.39 & 36347.66\\\\\n",
       "\\end{tabular}\n"
      ],
      "text/markdown": [
       "\n",
       "A matrix: 6 × 1106 of type dbl\n",
       "\n",
       "| <!--/--> | TCGA.E2.A1L7.01A.11R.A144.07 | TCGA.AR.A0U0.01A.11R.A109.07 | TCGA.BH.A28O.01A.11R.A22K.07 | TCGA.A2.A0D4.01A.11R.A00Z.07 | TCGA.E9.A1R4.01A.21R.A14D.07 | TCGA.AO.A1KQ.01A.11R.A13Q.07 | TCGA.AC.A62V.01A.11R.A31O.07 | TCGA.D8.A143.01A.11R.A115.07 | TCGA.A2.A0SV.01A.11R.A084.07 | TCGA.AN.A0XW.01A.11R.A109.07 | ⋯ | TCGA.A1.A0SD.01A.11R.A115.07 | TCGA.A2.A0SU.01A.11R.A084.07 | TCGA.E9.A1NI.01A.11R.A14D.07 | TCGA.B6.A0RQ.01A.11R.A115.07 | TCGA.E9.A1RF.01A.11R.A157.07 | TCGA.A2.A0CX.01A.21R.A00Z.07 | TCGA.A2.A25F.01A.11R.A169.07 | TCGA.AC.A23G.01A.11R.A213.07 | TCGA.E2.A15D.01A.11R.A115.07 | TCGA.OL.A5D7.01A.11R.A27Q.07 |\n",
       "|---|---|---|---|---|---|---|---|---|---|---|---|---|---|---|---|---|---|---|---|---|---|\n",
       "| MT-CO3 | 60859.48 |  13635.21 | 45131.34 | 44445.570 | 58733.921 | 50169.14 | 29106.823 |  14023.49 | 41179.5247 | 40394.62 | ⋯ | 53670.47 | 36840.019 | 38192.2837 | 49247.691 | 58648.42 | 60492.38 |  27152.81 | 43641.784 | 43380.90 | 53751.18 |\n",
       "| MT-CO2 | 53032.74 |  15590.23 | 32871.44 | 63374.142 | 44583.731 | 56750.21 | 53759.692 |  17781.93 | 58022.5066 | 30415.51 | ⋯ | 45032.19 | 39041.641 | 64153.9579 | 36566.893 | 63246.87 | 60335.37 |  23692.58 | 28531.813 | 40341.66 | 49299.03 |\n",
       "| MT-CO1 | 33852.43 |  15105.99 | 38909.71 | 49614.121 | 53294.181 | 45717.67 | 17847.843 |  17297.38 | 55659.4796 | 47633.40 | ⋯ | 70913.76 | 45303.540 | 51048.4314 | 50355.549 | 49827.80 | 72084.15 |  30588.65 | 34633.938 | 43207.97 | 31565.02 |\n",
       "| MT-ND4 | 42662.62 |  12388.25 | 36893.53 | 77884.836 | 48342.142 | 34546.51 | 11543.087 |  19703.72 | 35901.1463 | 36750.08 | ⋯ | 34768.18 | 40128.366 | 54074.9778 | 46561.680 | 62289.82 | 67872.90 |  25404.43 | 26844.256 | 44216.64 | 38781.42 |\n",
       "| MT-RNR2 | 19280.28 |  29424.16 | 24950.45 | 15625.544 | 68905.140 | 24455.76 | 38959.025 |  11998.30 | 35971.6979 | 28772.00 | ⋯ | 32211.04 | 20777.718 | 24129.2633 | 33163.991 | 42539.51 | 29891.06 |  19386.18 | 19367.565 | 34765.24 | 18728.11 |\n",
       "| IGKC | 27978.00 | 134967.00 | 38607.44 |  1549.905 |  6220.099 | 22519.66 |  1058.613 | 108678.44 |   763.8947 | 31026.46 | ⋯ | 18212.57 |  3779.433 |   136.0436 |  5433.202 | 10624.92 | 10358.80 | 104055.50 |  4606.725 | 11874.39 | 36347.66 |\n",
       "\n"
      ],
      "text/plain": [
       "        TCGA.E2.A1L7.01A.11R.A144.07 TCGA.AR.A0U0.01A.11R.A109.07\n",
       "MT-CO3  60859.48                      13635.21                   \n",
       "MT-CO2  53032.74                      15590.23                   \n",
       "MT-CO1  33852.43                      15105.99                   \n",
       "MT-ND4  42662.62                      12388.25                   \n",
       "MT-RNR2 19280.28                      29424.16                   \n",
       "IGKC    27978.00                     134967.00                   \n",
       "        TCGA.BH.A28O.01A.11R.A22K.07 TCGA.A2.A0D4.01A.11R.A00Z.07\n",
       "MT-CO3  45131.34                     44445.570                   \n",
       "MT-CO2  32871.44                     63374.142                   \n",
       "MT-CO1  38909.71                     49614.121                   \n",
       "MT-ND4  36893.53                     77884.836                   \n",
       "MT-RNR2 24950.45                     15625.544                   \n",
       "IGKC    38607.44                      1549.905                   \n",
       "        TCGA.E9.A1R4.01A.21R.A14D.07 TCGA.AO.A1KQ.01A.11R.A13Q.07\n",
       "MT-CO3  58733.921                    50169.14                    \n",
       "MT-CO2  44583.731                    56750.21                    \n",
       "MT-CO1  53294.181                    45717.67                    \n",
       "MT-ND4  48342.142                    34546.51                    \n",
       "MT-RNR2 68905.140                    24455.76                    \n",
       "IGKC     6220.099                    22519.66                    \n",
       "        TCGA.AC.A62V.01A.11R.A31O.07 TCGA.D8.A143.01A.11R.A115.07\n",
       "MT-CO3  29106.823                     14023.49                   \n",
       "MT-CO2  53759.692                     17781.93                   \n",
       "MT-CO1  17847.843                     17297.38                   \n",
       "MT-ND4  11543.087                     19703.72                   \n",
       "MT-RNR2 38959.025                     11998.30                   \n",
       "IGKC     1058.613                    108678.44                   \n",
       "        TCGA.A2.A0SV.01A.11R.A084.07 TCGA.AN.A0XW.01A.11R.A109.07 ⋯\n",
       "MT-CO3  41179.5247                   40394.62                     ⋯\n",
       "MT-CO2  58022.5066                   30415.51                     ⋯\n",
       "MT-CO1  55659.4796                   47633.40                     ⋯\n",
       "MT-ND4  35901.1463                   36750.08                     ⋯\n",
       "MT-RNR2 35971.6979                   28772.00                     ⋯\n",
       "IGKC      763.8947                   31026.46                     ⋯\n",
       "        TCGA.A1.A0SD.01A.11R.A115.07 TCGA.A2.A0SU.01A.11R.A084.07\n",
       "MT-CO3  53670.47                     36840.019                   \n",
       "MT-CO2  45032.19                     39041.641                   \n",
       "MT-CO1  70913.76                     45303.540                   \n",
       "MT-ND4  34768.18                     40128.366                   \n",
       "MT-RNR2 32211.04                     20777.718                   \n",
       "IGKC    18212.57                      3779.433                   \n",
       "        TCGA.E9.A1NI.01A.11R.A14D.07 TCGA.B6.A0RQ.01A.11R.A115.07\n",
       "MT-CO3  38192.2837                   49247.691                   \n",
       "MT-CO2  64153.9579                   36566.893                   \n",
       "MT-CO1  51048.4314                   50355.549                   \n",
       "MT-ND4  54074.9778                   46561.680                   \n",
       "MT-RNR2 24129.2633                   33163.991                   \n",
       "IGKC      136.0436                    5433.202                   \n",
       "        TCGA.E9.A1RF.01A.11R.A157.07 TCGA.A2.A0CX.01A.21R.A00Z.07\n",
       "MT-CO3  58648.42                     60492.38                    \n",
       "MT-CO2  63246.87                     60335.37                    \n",
       "MT-CO1  49827.80                     72084.15                    \n",
       "MT-ND4  62289.82                     67872.90                    \n",
       "MT-RNR2 42539.51                     29891.06                    \n",
       "IGKC    10624.92                     10358.80                    \n",
       "        TCGA.A2.A25F.01A.11R.A169.07 TCGA.AC.A23G.01A.11R.A213.07\n",
       "MT-CO3   27152.81                    43641.784                   \n",
       "MT-CO2   23692.58                    28531.813                   \n",
       "MT-CO1   30588.65                    34633.938                   \n",
       "MT-ND4   25404.43                    26844.256                   \n",
       "MT-RNR2  19386.18                    19367.565                   \n",
       "IGKC    104055.50                     4606.725                   \n",
       "        TCGA.E2.A15D.01A.11R.A115.07 TCGA.OL.A5D7.01A.11R.A27Q.07\n",
       "MT-CO3  43380.90                     53751.18                    \n",
       "MT-CO2  40341.66                     49299.03                    \n",
       "MT-CO1  43207.97                     31565.02                    \n",
       "MT-ND4  44216.64                     38781.42                    \n",
       "MT-RNR2 34765.24                     18728.11                    \n",
       "IGKC    11874.39                     36347.66                    "
      ]
     },
     "metadata": {},
     "output_type": "display_data"
    },
    {
     "data": {
      "text/html": [
       "<style>\n",
       ".list-inline {list-style: none; margin:0; padding: 0}\n",
       ".list-inline>li {display: inline-block}\n",
       ".list-inline>li:not(:last-child)::after {content: \"\\00b7\"; padding: 0 .5ex}\n",
       "</style>\n",
       "<ol class=list-inline><li>36809</li><li>1106</li></ol>\n"
      ],
      "text/latex": [
       "\\begin{enumerate*}\n",
       "\\item 36809\n",
       "\\item 1106\n",
       "\\end{enumerate*}\n"
      ],
      "text/markdown": [
       "1. 36809\n",
       "2. 1106\n",
       "\n",
       "\n"
      ],
      "text/plain": [
       "[1] 36809  1106"
      ]
     },
     "metadata": {},
     "output_type": "display_data"
    }
   ],
   "source": [
    "head(tumor3)\n",
    "dim(tumor3)"
   ]
  },
  {
   "cell_type": "code",
   "execution_count": 182,
   "id": "9eb9474d-2d15-4e0b-afde-420994f63e28",
   "metadata": {},
   "outputs": [],
   "source": [
    "write.csv(normal3, '/home/shiyu/data/BRCA/normal_processed.txt')"
   ]
  },
  {
   "cell_type": "code",
   "execution_count": 181,
   "id": "d5e6f230-af80-4081-a5b4-3a710c0563b3",
   "metadata": {},
   "outputs": [],
   "source": [
    "write.csv(tumor3, '/home/shiyu/data/BRCA/tumor_processed.txt')"
   ]
  }
 ],
 "metadata": {
  "kernelspec": {
   "display_name": "R",
   "language": "R",
   "name": "ir"
  },
  "language_info": {
   "codemirror_mode": "r",
   "file_extension": ".r",
   "mimetype": "text/x-r-source",
   "name": "R",
   "pygments_lexer": "r",
   "version": "4.2.0"
  }
 },
 "nbformat": 4,
 "nbformat_minor": 5
}
