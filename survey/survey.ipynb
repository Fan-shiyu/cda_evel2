{
 "cells": [
  {
   "cell_type": "code",
   "execution_count": 27,
   "metadata": {},
   "outputs": [],
   "source": [
    "#加载所有常用模块\n",
    "from pyforest import *\n",
    "import warnings\n",
    "warnings.filterwarnings('ignore')"
   ]
  },
  {
   "cell_type": "code",
   "execution_count": 2,
   "metadata": {},
   "outputs": [
    {
     "data": {
      "application/javascript": [
       "\n",
       "        if (window._pyforest_update_imports_cell) { window._pyforest_update_imports_cell('import pandas as pd'); }\n",
       "    "
      ],
      "text/plain": [
       "<IPython.core.display.Javascript object>"
      ]
     },
     "metadata": {},
     "output_type": "display_data"
    }
   ],
   "source": [
    "data=pd.read_csv(\"F:/data/survey.csv\")"
   ]
  },
  {
   "cell_type": "code",
   "execution_count": 3,
   "metadata": {
    "scrolled": true
   },
   "outputs": [
    {
     "data": {
      "text/html": [
       "<div>\n",
       "<style scoped>\n",
       "    .dataframe tbody tr th:only-of-type {\n",
       "        vertical-align: middle;\n",
       "    }\n",
       "\n",
       "    .dataframe tbody tr th {\n",
       "        vertical-align: top;\n",
       "    }\n",
       "\n",
       "    .dataframe thead th {\n",
       "        text-align: right;\n",
       "    }\n",
       "</style>\n",
       "<table border=\"1\" class=\"dataframe\">\n",
       "  <thead>\n",
       "    <tr style=\"text-align: right;\">\n",
       "      <th></th>\n",
       "      <th>num</th>\n",
       "      <th>1A</th>\n",
       "      <th>2B_1</th>\n",
       "      <th>2B_2</th>\n",
       "      <th>2B_3</th>\n",
       "      <th>2B_4</th>\n",
       "      <th>3C_1</th>\n",
       "      <th>3C_2</th>\n",
       "      <th>3C_3</th>\n",
       "      <th>3C_4</th>\n",
       "      <th>...</th>\n",
       "      <th>14N_2</th>\n",
       "      <th>15O</th>\n",
       "      <th>16P_1</th>\n",
       "      <th>16P_2</th>\n",
       "      <th>16P_3</th>\n",
       "      <th>16P_4</th>\n",
       "      <th>16P_5</th>\n",
       "      <th>16P_6</th>\n",
       "      <th>16P_7</th>\n",
       "      <th>17Q</th>\n",
       "    </tr>\n",
       "  </thead>\n",
       "  <tbody>\n",
       "    <tr>\n",
       "      <th>0</th>\n",
       "      <td>1</td>\n",
       "      <td>1</td>\n",
       "      <td>0</td>\n",
       "      <td>0</td>\n",
       "      <td>0</td>\n",
       "      <td>1</td>\n",
       "      <td>0</td>\n",
       "      <td>0</td>\n",
       "      <td>0</td>\n",
       "      <td>0</td>\n",
       "      <td>...</td>\n",
       "      <td>0</td>\n",
       "      <td>1</td>\n",
       "      <td>0</td>\n",
       "      <td>1</td>\n",
       "      <td>0</td>\n",
       "      <td>0</td>\n",
       "      <td>0</td>\n",
       "      <td>0</td>\n",
       "      <td>0</td>\n",
       "      <td>4</td>\n",
       "    </tr>\n",
       "    <tr>\n",
       "      <th>1</th>\n",
       "      <td>2</td>\n",
       "      <td>3</td>\n",
       "      <td>0</td>\n",
       "      <td>0</td>\n",
       "      <td>1</td>\n",
       "      <td>0</td>\n",
       "      <td>1</td>\n",
       "      <td>0</td>\n",
       "      <td>0</td>\n",
       "      <td>0</td>\n",
       "      <td>...</td>\n",
       "      <td>1</td>\n",
       "      <td>1</td>\n",
       "      <td>1</td>\n",
       "      <td>0</td>\n",
       "      <td>0</td>\n",
       "      <td>0</td>\n",
       "      <td>0</td>\n",
       "      <td>0</td>\n",
       "      <td>0</td>\n",
       "      <td>1</td>\n",
       "    </tr>\n",
       "    <tr>\n",
       "      <th>2</th>\n",
       "      <td>3</td>\n",
       "      <td>2</td>\n",
       "      <td>0</td>\n",
       "      <td>1</td>\n",
       "      <td>0</td>\n",
       "      <td>0</td>\n",
       "      <td>1</td>\n",
       "      <td>0</td>\n",
       "      <td>0</td>\n",
       "      <td>0</td>\n",
       "      <td>...</td>\n",
       "      <td>0</td>\n",
       "      <td>4</td>\n",
       "      <td>1</td>\n",
       "      <td>1</td>\n",
       "      <td>0</td>\n",
       "      <td>1</td>\n",
       "      <td>0</td>\n",
       "      <td>0</td>\n",
       "      <td>1</td>\n",
       "      <td>4</td>\n",
       "    </tr>\n",
       "    <tr>\n",
       "      <th>3</th>\n",
       "      <td>4</td>\n",
       "      <td>1</td>\n",
       "      <td>0</td>\n",
       "      <td>1</td>\n",
       "      <td>0</td>\n",
       "      <td>0</td>\n",
       "      <td>1</td>\n",
       "      <td>0</td>\n",
       "      <td>0</td>\n",
       "      <td>0</td>\n",
       "      <td>...</td>\n",
       "      <td>1</td>\n",
       "      <td>3</td>\n",
       "      <td>1</td>\n",
       "      <td>1</td>\n",
       "      <td>0</td>\n",
       "      <td>1</td>\n",
       "      <td>1</td>\n",
       "      <td>0</td>\n",
       "      <td>0</td>\n",
       "      <td>3</td>\n",
       "    </tr>\n",
       "    <tr>\n",
       "      <th>4</th>\n",
       "      <td>5</td>\n",
       "      <td>3</td>\n",
       "      <td>0</td>\n",
       "      <td>0</td>\n",
       "      <td>0</td>\n",
       "      <td>1</td>\n",
       "      <td>0</td>\n",
       "      <td>0</td>\n",
       "      <td>0</td>\n",
       "      <td>1</td>\n",
       "      <td>...</td>\n",
       "      <td>1</td>\n",
       "      <td>3</td>\n",
       "      <td>1</td>\n",
       "      <td>0</td>\n",
       "      <td>0</td>\n",
       "      <td>0</td>\n",
       "      <td>1</td>\n",
       "      <td>0</td>\n",
       "      <td>1</td>\n",
       "      <td>2</td>\n",
       "    </tr>\n",
       "  </tbody>\n",
       "</table>\n",
       "<p>5 rows × 48 columns</p>\n",
       "</div>"
      ],
      "text/plain": [
       "   num  1A  2B_1  2B_2  2B_3  2B_4  3C_1  3C_2  3C_3  3C_4  ...  14N_2  15O  \\\n",
       "0    1   1     0     0     0     1     0     0     0     0  ...      0    1   \n",
       "1    2   3     0     0     1     0     1     0     0     0  ...      1    1   \n",
       "2    3   2     0     1     0     0     1     0     0     0  ...      0    4   \n",
       "3    4   1     0     1     0     0     1     0     0     0  ...      1    3   \n",
       "4    5   3     0     0     0     1     0     0     0     1  ...      1    3   \n",
       "\n",
       "   16P_1  16P_2  16P_3  16P_4  16P_5  16P_6  16P_7  17Q  \n",
       "0      0      1      0      0      0      0      0    4  \n",
       "1      1      0      0      0      0      0      0    1  \n",
       "2      1      1      0      1      0      0      1    4  \n",
       "3      1      1      0      1      1      0      0    3  \n",
       "4      1      0      0      0      1      0      1    2  \n",
       "\n",
       "[5 rows x 48 columns]"
      ]
     },
     "execution_count": 3,
     "metadata": {},
     "output_type": "execute_result"
    }
   ],
   "source": [
    "data.head()"
   ]
  },
  {
   "cell_type": "code",
   "execution_count": 4,
   "metadata": {},
   "outputs": [
    {
     "data": {
      "text/plain": [
       "1    115\n",
       "2     88\n",
       "4     35\n",
       "3     33\n",
       "Name: 4D, dtype: int64"
      ]
     },
     "execution_count": 4,
     "metadata": {},
     "output_type": "execute_result"
    }
   ],
   "source": [
    "data['4D'].value_counts() #对分类变量的类别进行计数"
   ]
  },
  {
   "cell_type": "markdown",
   "metadata": {},
   "source": [
    "## 归一化"
   ]
  },
  {
   "cell_type": "code",
   "execution_count": 19,
   "metadata": {},
   "outputs": [
    {
     "data": {
      "application/javascript": [
       "\n",
       "        if (window._pyforest_update_imports_cell) { window._pyforest_update_imports_cell('import pandas as pd\\nfrom sklearn.model_selection import train_test_split'); }\n",
       "    "
      ],
      "text/plain": [
       "<IPython.core.display.Javascript object>"
      ]
     },
     "metadata": {},
     "output_type": "display_data"
    }
   ],
   "source": [
    "data=pd.read_csv(\"F:/data/survey.csv\")"
   ]
  },
  {
   "cell_type": "code",
   "execution_count": 20,
   "metadata": {},
   "outputs": [
    {
     "data": {
      "application/javascript": [
       "\n",
       "        if (window._pyforest_update_imports_cell) { window._pyforest_update_imports_cell('import pandas as pd\\nfrom sklearn.model_selection import train_test_split'); }\n",
       "    "
      ],
      "text/plain": [
       "<IPython.core.display.Javascript object>"
      ]
     },
     "metadata": {},
     "output_type": "display_data"
    },
    {
     "data": {
      "text/html": [
       "<div>\n",
       "<style scoped>\n",
       "    .dataframe tbody tr th:only-of-type {\n",
       "        vertical-align: middle;\n",
       "    }\n",
       "\n",
       "    .dataframe tbody tr th {\n",
       "        vertical-align: top;\n",
       "    }\n",
       "\n",
       "    .dataframe thead th {\n",
       "        text-align: right;\n",
       "    }\n",
       "</style>\n",
       "<table border=\"1\" class=\"dataframe\">\n",
       "  <thead>\n",
       "    <tr style=\"text-align: right;\">\n",
       "      <th></th>\n",
       "      <th>0</th>\n",
       "      <th>1</th>\n",
       "      <th>2</th>\n",
       "      <th>3</th>\n",
       "      <th>4</th>\n",
       "      <th>5</th>\n",
       "      <th>6</th>\n",
       "      <th>7</th>\n",
       "      <th>8</th>\n",
       "      <th>9</th>\n",
       "      <th>...</th>\n",
       "      <th>27</th>\n",
       "      <th>28</th>\n",
       "      <th>29</th>\n",
       "      <th>30</th>\n",
       "      <th>31</th>\n",
       "      <th>32</th>\n",
       "      <th>33</th>\n",
       "      <th>34</th>\n",
       "      <th>35</th>\n",
       "      <th>36</th>\n",
       "    </tr>\n",
       "  </thead>\n",
       "  <tbody>\n",
       "    <tr>\n",
       "      <th>0</th>\n",
       "      <td>0.000000</td>\n",
       "      <td>0.0</td>\n",
       "      <td>0.0</td>\n",
       "      <td>0.0</td>\n",
       "      <td>0.0</td>\n",
       "      <td>0.0</td>\n",
       "      <td>0.0</td>\n",
       "      <td>0.0</td>\n",
       "      <td>1.0</td>\n",
       "      <td>0.000000</td>\n",
       "      <td>...</td>\n",
       "      <td>1.0</td>\n",
       "      <td>1.0</td>\n",
       "      <td>0.0</td>\n",
       "      <td>0.0</td>\n",
       "      <td>1.0</td>\n",
       "      <td>0.0</td>\n",
       "      <td>0.0</td>\n",
       "      <td>0.0</td>\n",
       "      <td>0.0</td>\n",
       "      <td>1.000000</td>\n",
       "    </tr>\n",
       "    <tr>\n",
       "      <th>1</th>\n",
       "      <td>0.666667</td>\n",
       "      <td>0.0</td>\n",
       "      <td>0.0</td>\n",
       "      <td>1.0</td>\n",
       "      <td>1.0</td>\n",
       "      <td>0.0</td>\n",
       "      <td>0.0</td>\n",
       "      <td>0.0</td>\n",
       "      <td>0.0</td>\n",
       "      <td>0.000000</td>\n",
       "      <td>...</td>\n",
       "      <td>0.0</td>\n",
       "      <td>0.0</td>\n",
       "      <td>0.0</td>\n",
       "      <td>1.0</td>\n",
       "      <td>0.0</td>\n",
       "      <td>0.0</td>\n",
       "      <td>0.0</td>\n",
       "      <td>0.0</td>\n",
       "      <td>0.0</td>\n",
       "      <td>0.000000</td>\n",
       "    </tr>\n",
       "    <tr>\n",
       "      <th>2</th>\n",
       "      <td>0.333333</td>\n",
       "      <td>0.0</td>\n",
       "      <td>1.0</td>\n",
       "      <td>0.0</td>\n",
       "      <td>1.0</td>\n",
       "      <td>0.0</td>\n",
       "      <td>0.0</td>\n",
       "      <td>0.0</td>\n",
       "      <td>0.0</td>\n",
       "      <td>0.000000</td>\n",
       "      <td>...</td>\n",
       "      <td>0.8</td>\n",
       "      <td>1.0</td>\n",
       "      <td>0.6</td>\n",
       "      <td>1.0</td>\n",
       "      <td>1.0</td>\n",
       "      <td>0.0</td>\n",
       "      <td>1.0</td>\n",
       "      <td>0.0</td>\n",
       "      <td>0.0</td>\n",
       "      <td>1.000000</td>\n",
       "    </tr>\n",
       "    <tr>\n",
       "      <th>3</th>\n",
       "      <td>0.000000</td>\n",
       "      <td>0.0</td>\n",
       "      <td>1.0</td>\n",
       "      <td>0.0</td>\n",
       "      <td>1.0</td>\n",
       "      <td>0.0</td>\n",
       "      <td>0.0</td>\n",
       "      <td>0.0</td>\n",
       "      <td>0.0</td>\n",
       "      <td>0.000000</td>\n",
       "      <td>...</td>\n",
       "      <td>0.8</td>\n",
       "      <td>0.0</td>\n",
       "      <td>0.4</td>\n",
       "      <td>1.0</td>\n",
       "      <td>1.0</td>\n",
       "      <td>0.0</td>\n",
       "      <td>1.0</td>\n",
       "      <td>1.0</td>\n",
       "      <td>0.0</td>\n",
       "      <td>0.666667</td>\n",
       "    </tr>\n",
       "    <tr>\n",
       "      <th>4</th>\n",
       "      <td>0.666667</td>\n",
       "      <td>0.0</td>\n",
       "      <td>0.0</td>\n",
       "      <td>0.0</td>\n",
       "      <td>0.0</td>\n",
       "      <td>0.0</td>\n",
       "      <td>0.0</td>\n",
       "      <td>1.0</td>\n",
       "      <td>0.0</td>\n",
       "      <td>0.333333</td>\n",
       "      <td>...</td>\n",
       "      <td>0.6</td>\n",
       "      <td>0.0</td>\n",
       "      <td>0.4</td>\n",
       "      <td>1.0</td>\n",
       "      <td>0.0</td>\n",
       "      <td>0.0</td>\n",
       "      <td>0.0</td>\n",
       "      <td>1.0</td>\n",
       "      <td>0.0</td>\n",
       "      <td>0.333333</td>\n",
       "    </tr>\n",
       "  </tbody>\n",
       "</table>\n",
       "<p>5 rows × 37 columns</p>\n",
       "</div>"
      ],
      "text/plain": [
       "         0    1    2    3    4    5    6    7    8         9   ...   27   28  \\\n",
       "0  0.000000  0.0  0.0  0.0  0.0  0.0  0.0  0.0  1.0  0.000000  ...  1.0  1.0   \n",
       "1  0.666667  0.0  0.0  1.0  1.0  0.0  0.0  0.0  0.0  0.000000  ...  0.0  0.0   \n",
       "2  0.333333  0.0  1.0  0.0  1.0  0.0  0.0  0.0  0.0  0.000000  ...  0.8  1.0   \n",
       "3  0.000000  0.0  1.0  0.0  1.0  0.0  0.0  0.0  0.0  0.000000  ...  0.8  0.0   \n",
       "4  0.666667  0.0  0.0  0.0  0.0  0.0  0.0  1.0  0.0  0.333333  ...  0.6  0.0   \n",
       "\n",
       "    29   30   31   32   33   34   35        36  \n",
       "0  0.0  0.0  1.0  0.0  0.0  0.0  0.0  1.000000  \n",
       "1  0.0  1.0  0.0  0.0  0.0  0.0  0.0  0.000000  \n",
       "2  0.6  1.0  1.0  0.0  1.0  0.0  0.0  1.000000  \n",
       "3  0.4  1.0  1.0  0.0  1.0  1.0  0.0  0.666667  \n",
       "4  0.4  1.0  0.0  0.0  0.0  1.0  0.0  0.333333  \n",
       "\n",
       "[5 rows x 37 columns]"
      ]
     },
     "execution_count": 20,
     "metadata": {},
     "output_type": "execute_result"
    }
   ],
   "source": [
    "#归一化\n",
    "from sklearn import preprocessing \n",
    "min_max_scaler = preprocessing.MinMaxScaler()  \n",
    "data_minMax = min_max_scaler.fit_transform(data)  \n",
    "data = pd.DataFrame(data_minMax) #数值转化为数据框\n",
    "data.head()"
   ]
  },
  {
   "cell_type": "code",
   "execution_count": 21,
   "metadata": {},
   "outputs": [],
   "source": [
    "data.to_csv(\"F:/data/normalized.csv\",index=False)#转换成csv文件"
   ]
  },
  {
   "cell_type": "markdown",
   "metadata": {},
   "source": [
    "\n",
    "## 假设检验"
   ]
  },
  {
   "cell_type": "code",
   "execution_count": 8,
   "metadata": {},
   "outputs": [],
   "source": [
    "import numpy as np\n",
    "from scipy import stats\n",
    "import pandas as pd\n",
    "import statsmodels.api as sm"
   ]
  },
  {
   "cell_type": "code",
   "execution_count": 9,
   "metadata": {},
   "outputs": [
    {
     "data": {
      "text/html": [
       "<div>\n",
       "<style scoped>\n",
       "    .dataframe tbody tr th:only-of-type {\n",
       "        vertical-align: middle;\n",
       "    }\n",
       "\n",
       "    .dataframe tbody tr th {\n",
       "        vertical-align: top;\n",
       "    }\n",
       "\n",
       "    .dataframe thead th {\n",
       "        text-align: right;\n",
       "    }\n",
       "</style>\n",
       "<table border=\"1\" class=\"dataframe\">\n",
       "  <thead>\n",
       "    <tr style=\"text-align: right;\">\n",
       "      <th></th>\n",
       "      <th>留学</th>\n",
       "      <th>未留学</th>\n",
       "    </tr>\n",
       "  </thead>\n",
       "  <tbody>\n",
       "    <tr>\n",
       "      <th>0</th>\n",
       "      <td>3</td>\n",
       "      <td>1</td>\n",
       "    </tr>\n",
       "    <tr>\n",
       "      <th>1</th>\n",
       "      <td>1</td>\n",
       "      <td>3</td>\n",
       "    </tr>\n",
       "    <tr>\n",
       "      <th>2</th>\n",
       "      <td>3</td>\n",
       "      <td>3</td>\n",
       "    </tr>\n",
       "    <tr>\n",
       "      <th>3</th>\n",
       "      <td>6</td>\n",
       "      <td>3</td>\n",
       "    </tr>\n",
       "    <tr>\n",
       "      <th>4</th>\n",
       "      <td>6</td>\n",
       "      <td>1</td>\n",
       "    </tr>\n",
       "    <tr>\n",
       "      <th>5</th>\n",
       "      <td>4</td>\n",
       "      <td>2</td>\n",
       "    </tr>\n",
       "    <tr>\n",
       "      <th>6</th>\n",
       "      <td>5</td>\n",
       "      <td>5</td>\n",
       "    </tr>\n",
       "    <tr>\n",
       "      <th>7</th>\n",
       "      <td>6</td>\n",
       "      <td>5</td>\n",
       "    </tr>\n",
       "    <tr>\n",
       "      <th>8</th>\n",
       "      <td>6</td>\n",
       "      <td>3</td>\n",
       "    </tr>\n",
       "    <tr>\n",
       "      <th>9</th>\n",
       "      <td>3</td>\n",
       "      <td>1</td>\n",
       "    </tr>\n",
       "  </tbody>\n",
       "</table>\n",
       "</div>"
      ],
      "text/plain": [
       "   留学  未留学\n",
       "0   3    1\n",
       "1   1    3\n",
       "2   3    3\n",
       "3   6    3\n",
       "4   6    1\n",
       "5   4    2\n",
       "6   5    5\n",
       "7   6    5\n",
       "8   6    3\n",
       "9   3    1"
      ]
     },
     "execution_count": 9,
     "metadata": {},
     "output_type": "execute_result"
    }
   ],
   "source": [
    "data=pd.read_csv(\"F:/data/hypothetical_test.csv\",encoding='gbk')\n",
    "data"
   ]
  },
  {
   "cell_type": "code",
   "execution_count": 10,
   "metadata": {},
   "outputs": [
    {
     "data": {
      "text/plain": [
       "(0.9853449433930984,\n",
       " (2.5879865568825218, 0.014655056606901522, 9.0),\n",
       " (2.5879865568825218, 0.9853449433930984, 9.0))"
      ]
     },
     "execution_count": 10,
     "metadata": {},
     "output_type": "execute_result"
    }
   ],
   "source": [
    "sm.stats.ttost_paired(data['留学'],data['未留学'],-0,0)"
   ]
  },
  {
   "cell_type": "markdown",
   "metadata": {},
   "source": [
    "\n",
    "## 方差分析"
   ]
  },
  {
   "cell_type": "code",
   "execution_count": 11,
   "metadata": {},
   "outputs": [],
   "source": [
    "from scipy import stats\n",
    "import pandas as pd\n",
    "import statsmodels.api as sm\n",
    "import statsmodels.formula.api as smf\n",
    "import matplotlib.pyplot as plt\n",
    "from statsmodels.stats.multicomp import pairwise_tukeyhsd\n",
    "from matplotlib.font_manager import FontProperties"
   ]
  },
  {
   "cell_type": "code",
   "execution_count": 16,
   "metadata": {},
   "outputs": [],
   "source": [
    "data=pd.read_csv(\"F:/data/variance_analysis.csv\",encoding='gbk')"
   ]
  },
  {
   "cell_type": "code",
   "execution_count": 28,
   "metadata": {},
   "outputs": [
    {
     "data": {
      "text/html": [
       "<div>\n",
       "<style scoped>\n",
       "    .dataframe tbody tr th:only-of-type {\n",
       "        vertical-align: middle;\n",
       "    }\n",
       "\n",
       "    .dataframe tbody tr th {\n",
       "        vertical-align: top;\n",
       "    }\n",
       "\n",
       "    .dataframe thead th {\n",
       "        text-align: right;\n",
       "    }\n",
       "</style>\n",
       "<table border=\"1\" class=\"dataframe\">\n",
       "  <thead>\n",
       "    <tr style=\"text-align: right;\">\n",
       "      <th></th>\n",
       "      <th>学历</th>\n",
       "      <th>从业领域</th>\n",
       "      <th>职位</th>\n",
       "      <th>城市类型</th>\n",
       "      <th>收入</th>\n",
       "    </tr>\n",
       "  </thead>\n",
       "  <tbody>\n",
       "    <tr>\n",
       "      <th>0</th>\n",
       "      <td>研究生</td>\n",
       "      <td>传统媒体转型新媒体</td>\n",
       "      <td>其他</td>\n",
       "      <td>一线城市</td>\n",
       "      <td>3000</td>\n",
       "    </tr>\n",
       "    <tr>\n",
       "      <th>1</th>\n",
       "      <td>大专</td>\n",
       "      <td>传统媒体转型新媒体</td>\n",
       "      <td>自媒体人</td>\n",
       "      <td>三线城市</td>\n",
       "      <td>3000</td>\n",
       "    </tr>\n",
       "    <tr>\n",
       "      <th>2</th>\n",
       "      <td>大专</td>\n",
       "      <td>纯互联网人</td>\n",
       "      <td>新媒体编辑</td>\n",
       "      <td>二线城市</td>\n",
       "      <td>3000</td>\n",
       "    </tr>\n",
       "    <tr>\n",
       "      <th>3</th>\n",
       "      <td>本科</td>\n",
       "      <td>传统行业</td>\n",
       "      <td>其他</td>\n",
       "      <td>四线城市</td>\n",
       "      <td>3000</td>\n",
       "    </tr>\n",
       "    <tr>\n",
       "      <th>4</th>\n",
       "      <td>本科</td>\n",
       "      <td>纯互联网人</td>\n",
       "      <td>自媒体人</td>\n",
       "      <td>三线城市</td>\n",
       "      <td>3000</td>\n",
       "    </tr>\n",
       "  </tbody>\n",
       "</table>\n",
       "</div>"
      ],
      "text/plain": [
       "    学历       从业领域     职位  城市类型    收入\n",
       "0  研究生  传统媒体转型新媒体     其他  一线城市  3000\n",
       "1   大专  传统媒体转型新媒体   自媒体人  三线城市  3000\n",
       "2   大专      纯互联网人  新媒体编辑  二线城市  3000\n",
       "3   本科       传统行业     其他  四线城市  3000\n",
       "4   本科      纯互联网人   自媒体人  三线城市  3000"
      ]
     },
     "execution_count": 28,
     "metadata": {},
     "output_type": "execute_result"
    }
   ],
   "source": [
    "data.head()"
   ]
  },
  {
   "cell_type": "code",
   "execution_count": 19,
   "metadata": {},
   "outputs": [],
   "source": [
    "data['学历'] = data['学历'].astype('category')\n",
    "data['学历'].cat.categories=['中专', '大专', '本科', '研究生', '硕导/博导']"
   ]
  },
  {
   "cell_type": "code",
   "execution_count": 21,
   "metadata": {},
   "outputs": [],
   "source": [
    "data['从业领域'] = data['从业领域'].astype('category')\n",
    "data['从业领域'].cat.categories=['传统行业', '纯互联网人','传统行业转型互联网', '传统媒体转型新媒体']"
   ]
  },
  {
   "cell_type": "code",
   "execution_count": 27,
   "metadata": {},
   "outputs": [],
   "source": [
    "data['职位'] = data['职位'].astype('category')\n",
    "data['职位'].cat.categories=['新媒体编辑', '新媒体经理', '新媒体总监', '自媒体人', '其他', 'CXO级别领导']"
   ]
  },
  {
   "cell_type": "code",
   "execution_count": 23,
   "metadata": {},
   "outputs": [],
   "source": [
    "data['城市类型'] = data['城市类型'].astype('category')\n",
    "data['城市类型'].cat.categories=['一线城市', '二线城市', '三线城市', '四线城市']"
   ]
  },
  {
   "cell_type": "code",
   "execution_count": 43,
   "metadata": {},
   "outputs": [
    {
     "name": "stdout",
     "output_type": "stream",
     "text": [
      "                    df        sum_sq       mean_sq          F        PR(>F)\n",
      "C(学历)              4.0  3.977332e+08  9.943331e+07  11.772515  1.397123e-08\n",
      "C(从业领域)            3.0  9.087259e+07  3.029086e+07   3.586320  1.477432e-02\n",
      "C(职位)              5.0  9.623935e+08  1.924787e+08  22.788728  5.801124e-18\n",
      "C(城市类型)            3.0  1.991492e+08  6.638305e+07   7.859494  5.625898e-05\n",
      "C(学历):C(从业领域)     12.0  8.538585e+07  7.115488e+06   0.842446  6.066457e-01\n",
      "C(职位):C(城市类型)     15.0  1.300774e+08  8.671826e+06   1.026710  4.293420e-01\n",
      "C(学历):C(职位)       20.0  2.190073e+08  1.095037e+07   1.296481  1.849616e-01\n",
      "C(学历):C(城市类型)     12.0  1.991034e+08  1.659195e+07   1.964423  2.936685e-02\n",
      "C(从业领域):C(职位)     15.0  3.326751e+07  2.217834e+06   0.262583  9.976416e-01\n",
      "C(从业领域):C(城市类型)    9.0  8.984503e+07  9.982781e+06   1.181922  3.084830e-01\n",
      "Residual         194.0  1.638568e+09  8.446224e+06        NaN           NaN\n"
     ]
    }
   ],
   "source": [
    "formula = '收入 ~ C(学历) * C(从业领域)+C(职位) * C(城市类型)+C(学历) * C(职位)+C(学历) * C(城市类型)+C(从业领域) * C(职位)+C(从业领域) * C(城市类型)+C(职位) * C(城市类型)'\n",
    "data_anova_inter = sm.stats.anova_lm(smf.ols(formula, data = data).fit())  # dc_sales_est 是一个模型对象\n",
    "print(data_anova_inter)"
   ]
  },
  {
   "cell_type": "code",
   "execution_count": 59,
   "metadata": {},
   "outputs": [],
   "source": [
    "from statsmodels.graphics.api import interaction_plot"
   ]
  },
  {
   "cell_type": "code",
   "execution_count": 62,
   "metadata": {},
   "outputs": [
    {
     "data": {
      "application/javascript": [
       "\n",
       "        if (window._pyforest_update_imports_cell) { window._pyforest_update_imports_cell('import numpy as np\\nimport pandas as pd\\nimport matplotlib.pyplot as plt'); }\n",
       "    "
      ],
      "text/plain": [
       "<IPython.core.display.Javascript object>"
      ]
     },
     "metadata": {},
     "output_type": "display_data"
    },
    {
     "data": {
      "application/javascript": [
       "\n",
       "        if (window._pyforest_update_imports_cell) { window._pyforest_update_imports_cell('import numpy as np\\nimport pandas as pd\\nimport matplotlib.pyplot as plt'); }\n",
       "    "
      ],
      "text/plain": [
       "<IPython.core.display.Javascript object>"
      ]
     },
     "metadata": {},
     "output_type": "display_data"
    }
   ],
   "source": [
    "plt.rcParams['font.sans-serif']=['SimHei']\n",
    "plt.rcParams['axes.unicode_minus'] =False #减号unicode编码"
   ]
  },
  {
   "cell_type": "code",
   "execution_count": 63,
   "metadata": {
    "scrolled": false
   },
   "outputs": [
    {
     "data": {
      "application/javascript": [
       "\n",
       "        if (window._pyforest_update_imports_cell) { window._pyforest_update_imports_cell('import numpy as np\\nimport pandas as pd\\nimport matplotlib.pyplot as plt'); }\n",
       "    "
      ],
      "text/plain": [
       "<IPython.core.display.Javascript object>"
      ]
     },
     "metadata": {},
     "output_type": "display_data"
    },
    {
     "data": {
      "application/javascript": [
       "\n",
       "        if (window._pyforest_update_imports_cell) { window._pyforest_update_imports_cell('import numpy as np\\nimport pandas as pd\\nimport matplotlib.pyplot as plt'); }\n",
       "    "
      ],
      "text/plain": [
       "<IPython.core.display.Javascript object>"
      ]
     },
     "metadata": {},
     "output_type": "display_data"
    },
    {
     "data": {
      "application/javascript": [
       "\n",
       "        if (window._pyforest_update_imports_cell) { window._pyforest_update_imports_cell('import numpy as np\\nimport pandas as pd\\nimport matplotlib.pyplot as plt'); }\n",
       "    "
      ],
      "text/plain": [
       "<IPython.core.display.Javascript object>"
      ]
     },
     "metadata": {},
     "output_type": "display_data"
    },
    {
     "data": {
      "application/javascript": [
       "\n",
       "        if (window._pyforest_update_imports_cell) { window._pyforest_update_imports_cell('import numpy as np\\nimport pandas as pd\\nimport matplotlib.pyplot as plt'); }\n",
       "    "
      ],
      "text/plain": [
       "<IPython.core.display.Javascript object>"
      ]
     },
     "metadata": {},
     "output_type": "display_data"
    },
    {
     "data": {
      "application/javascript": [
       "\n",
       "        if (window._pyforest_update_imports_cell) { window._pyforest_update_imports_cell('import numpy as np\\nimport pandas as pd\\nimport matplotlib.pyplot as plt'); }\n",
       "    "
      ],
      "text/plain": [
       "<IPython.core.display.Javascript object>"
      ]
     },
     "metadata": {},
     "output_type": "display_data"
    },
    {
     "data": {
      "application/javascript": [
       "\n",
       "        if (window._pyforest_update_imports_cell) { window._pyforest_update_imports_cell('import numpy as np\\nimport pandas as pd\\nimport matplotlib.pyplot as plt'); }\n",
       "    "
      ],
      "text/plain": [
       "<IPython.core.display.Javascript object>"
      ]
     },
     "metadata": {},
     "output_type": "display_data"
    },
    {
     "data": {
      "text/plain": [
       "<matplotlib.legend.Legend at 0x2067dd70e08>"
      ]
     },
     "execution_count": 63,
     "metadata": {},
     "output_type": "execute_result"
    },
    {
     "data": {
      "image/png": "[encoded data removed]",
      "text/plain": [
       "<Figure size 864x432 with 1 Axes>"
      ]
     },
     "metadata": {
      "needs_background": "light"
     },
     "output_type": "display_data"
    }
   ],
   "source": [
    "plt.figure(figsize=(12,6))\n",
    "fig=interaction_plot(np.array(data['学历']),np.array(data['城市类型']),data['收入'],ax=plt.gca())\n",
    "fig_adj=plt.subplot(111)\n",
    "plt.legend(prop={'family':'SimHei','size':10.5},loc='upper left',frameon=False)"
   ]
  },
  {
   "cell_type": "markdown",
   "metadata": {},
   "source": [
    "\n",
    "## 列联表分析"
   ]
  },
  {
   "cell_type": "code",
   "execution_count": 8,
   "metadata": {},
   "outputs": [
    {
     "data": {
      "application/javascript": [
       "\n",
       "        if (window._pyforest_update_imports_cell) { window._pyforest_update_imports_cell('import pandas as pd'); }\n",
       "    "
      ],
      "text/plain": [
       "<IPython.core.display.Javascript object>"
      ]
     },
     "metadata": {},
     "output_type": "display_data"
    },
    {
     "data": {
      "text/html": [
       "<div>\n",
       "<style scoped>\n",
       "    .dataframe tbody tr th:only-of-type {\n",
       "        vertical-align: middle;\n",
       "    }\n",
       "\n",
       "    .dataframe tbody tr th {\n",
       "        vertical-align: top;\n",
       "    }\n",
       "\n",
       "    .dataframe thead th {\n",
       "        text-align: right;\n",
       "    }\n",
       "</style>\n",
       "<table border=\"1\" class=\"dataframe\">\n",
       "  <thead>\n",
       "    <tr style=\"text-align: right;\">\n",
       "      <th></th>\n",
       "      <th>小于3000</th>\n",
       "      <th>3001-5000</th>\n",
       "      <th>5001-8000</th>\n",
       "      <th>8001-10000</th>\n",
       "      <th>10001-15000</th>\n",
       "      <th>15001以上</th>\n",
       "      <th>All</th>\n",
       "    </tr>\n",
       "  </thead>\n",
       "  <tbody>\n",
       "    <tr>\n",
       "      <th>0</th>\n",
       "      <td>30</td>\n",
       "      <td>40</td>\n",
       "      <td>49</td>\n",
       "      <td>15</td>\n",
       "      <td>15</td>\n",
       "      <td>6</td>\n",
       "      <td>155</td>\n",
       "    </tr>\n",
       "    <tr>\n",
       "      <th>1</th>\n",
       "      <td>29</td>\n",
       "      <td>19</td>\n",
       "      <td>29</td>\n",
       "      <td>13</td>\n",
       "      <td>7</td>\n",
       "      <td>19</td>\n",
       "      <td>116</td>\n",
       "    </tr>\n",
       "    <tr>\n",
       "      <th>2</th>\n",
       "      <td>59</td>\n",
       "      <td>59</td>\n",
       "      <td>78</td>\n",
       "      <td>28</td>\n",
       "      <td>22</td>\n",
       "      <td>25</td>\n",
       "      <td>271</td>\n",
       "    </tr>\n",
       "  </tbody>\n",
       "</table>\n",
       "</div>"
      ],
      "text/plain": [
       "   小于3000  3001-5000  5001-8000  8001-10000  10001-15000  15001以上  All\n",
       "0      30         40         49          15           15        6  155\n",
       "1      29         19         29          13            7       19  116\n",
       "2      59         59         78          28           22       25  271"
      ]
     },
     "execution_count": 8,
     "metadata": {},
     "output_type": "execute_result"
    }
   ],
   "source": [
    "data=pd.read_csv(\"F:/data/table.csv\",encoding='gbk')\n",
    "data"
   ]
  },
  {
   "cell_type": "code",
   "execution_count": 9,
   "metadata": {},
   "outputs": [],
   "source": [
    "from scipy.stats import contingency"
   ]
  },
  {
   "cell_type": "code",
   "execution_count": 10,
   "metadata": {},
   "outputs": [
    {
     "data": {
      "application/javascript": [
       "\n",
       "        if (window._pyforest_update_imports_cell) { window._pyforest_update_imports_cell('import pandas as pd'); }\n",
       "    "
      ],
      "text/plain": [
       "<IPython.core.display.Javascript object>"
      ]
     },
     "metadata": {},
     "output_type": "display_data"
    },
    {
     "data": {
      "text/html": [
       "<div>\n",
       "<style scoped>\n",
       "    .dataframe tbody tr th:only-of-type {\n",
       "        vertical-align: middle;\n",
       "    }\n",
       "\n",
       "    .dataframe tbody tr th {\n",
       "        vertical-align: top;\n",
       "    }\n",
       "\n",
       "    .dataframe thead th {\n",
       "        text-align: right;\n",
       "    }\n",
       "</style>\n",
       "<table border=\"1\" class=\"dataframe\">\n",
       "  <thead>\n",
       "    <tr style=\"text-align: right;\">\n",
       "      <th></th>\n",
       "      <th>小于3000</th>\n",
       "      <th>3001-5000</th>\n",
       "      <th>5001-8000</th>\n",
       "      <th>8001-10000</th>\n",
       "      <th>10001-15000</th>\n",
       "      <th>15001以上</th>\n",
       "      <th>All</th>\n",
       "    </tr>\n",
       "  </thead>\n",
       "  <tbody>\n",
       "    <tr>\n",
       "      <th>0</th>\n",
       "      <td>33.745387</td>\n",
       "      <td>33.745387</td>\n",
       "      <td>44.612546</td>\n",
       "      <td>16.01476</td>\n",
       "      <td>12.583026</td>\n",
       "      <td>14.298893</td>\n",
       "      <td>155.0</td>\n",
       "    </tr>\n",
       "    <tr>\n",
       "      <th>1</th>\n",
       "      <td>25.254613</td>\n",
       "      <td>25.254613</td>\n",
       "      <td>33.387454</td>\n",
       "      <td>11.98524</td>\n",
       "      <td>9.416974</td>\n",
       "      <td>10.701107</td>\n",
       "      <td>116.0</td>\n",
       "    </tr>\n",
       "    <tr>\n",
       "      <th>2</th>\n",
       "      <td>59.000000</td>\n",
       "      <td>59.000000</td>\n",
       "      <td>78.000000</td>\n",
       "      <td>28.00000</td>\n",
       "      <td>22.000000</td>\n",
       "      <td>25.000000</td>\n",
       "      <td>271.0</td>\n",
       "    </tr>\n",
       "  </tbody>\n",
       "</table>\n",
       "</div>"
      ],
      "text/plain": [
       "      小于3000  3001-5000  5001-8000  8001-10000  10001-15000    15001以上    All\n",
       "0  33.745387  33.745387  44.612546    16.01476    12.583026  14.298893  155.0\n",
       "1  25.254613  25.254613  33.387454    11.98524     9.416974  10.701107  116.0\n",
       "2  59.000000  59.000000  78.000000    28.00000    22.000000  25.000000  271.0"
      ]
     },
     "execution_count": 10,
     "metadata": {},
     "output_type": "execute_result"
    }
   ],
   "source": [
    "pd.DataFrame(contingency.expected_freq(data),columns=data.columns,index=data.index)"
   ]
  },
  {
   "cell_type": "markdown",
   "metadata": {},
   "source": [
    "\n",
    "## 熵权法"
   ]
  },
  {
   "cell_type": "code",
   "execution_count": 15,
   "metadata": {},
   "outputs": [],
   "source": [
    "import numpy as np\n",
    "import pandas as pd\n",
    "data=pd.read_csv(\"F:/data/evaluation.csv\")\n",
    "m,n=data.shape"
   ]
  },
  {
   "cell_type": "code",
   "execution_count": 49,
   "metadata": {},
   "outputs": [],
   "source": [
    "data=data.as_matrix(columns=None)\n",
    "#将dataframe格式转化为matrix格式"
   ]
  },
  {
   "cell_type": "code",
   "execution_count": 50,
   "metadata": {},
   "outputs": [],
   "source": [
    "k=1/np.log(m)\n",
    "yij=data.sum(axis=0)\n",
    "pij=data/yij"
   ]
  },
  {
   "cell_type": "code",
   "execution_count": 51,
   "metadata": {},
   "outputs": [],
   "source": [
    "#第二步，计算pij\n",
    "test=pij*np.log(pij)\n",
    "test=np.nan_to_num(test)\n",
    "ej=-k*(test.sum(axis=0))"
   ]
  },
  {
   "cell_type": "code",
   "execution_count": 52,
   "metadata": {},
   "outputs": [],
   "source": [
    "#计算每种指标的信息熵\n",
    "wi=(1-ej)/np.sum(1-ej)\n",
    "#计算每种指标的权重"
   ]
  },
  {
   "cell_type": "code",
   "execution_count": 53,
   "metadata": {},
   "outputs": [
    {
     "data": {
      "text/plain": [
       "array([0.08934259, 0.22297855, 0.12912355, 0.03003693, 0.15875222,\n",
       "       0.21458149, 0.15518467])"
      ]
     },
     "execution_count": 53,
     "metadata": {},
     "output_type": "execute_result"
    }
   ],
   "source": [
    "wi"
   ]
  },
  {
   "cell_type": "code",
   "execution_count": 20,
   "metadata": {},
   "outputs": [
    {
     "data": {
      "application/javascript": [
       "\n",
       "        if (window._pyforest_update_imports_cell) { window._pyforest_update_imports_cell('import matplotlib.pyplot as plt\\nimport seaborn as sns\\nimport pandas as pd'); }\n",
       "    "
      ],
      "text/plain": [
       "<IPython.core.display.Javascript object>"
      ]
     },
     "metadata": {},
     "output_type": "display_data"
    }
   ],
   "source": [
    "#使用小提琴图研究下得分的分布情况\n",
    "data=pd.read_csv(\"F:/data/hist.csv\")"
   ]
  },
  {
   "cell_type": "code",
   "execution_count": 22,
   "metadata": {},
   "outputs": [],
   "source": [
    "x=data['leibie']\n",
    "y=data['score']"
   ]
  },
  {
   "cell_type": "code",
   "execution_count": 23,
   "metadata": {},
   "outputs": [
    {
     "data": {
      "application/javascript": [
       "\n",
       "        if (window._pyforest_update_imports_cell) { window._pyforest_update_imports_cell('import matplotlib.pyplot as plt\\nimport seaborn as sns\\nimport pandas as pd'); }\n",
       "    "
      ],
      "text/plain": [
       "<IPython.core.display.Javascript object>"
      ]
     },
     "metadata": {},
     "output_type": "display_data"
    },
    {
     "data": {
      "text/plain": [
       "<matplotlib.axes._subplots.AxesSubplot at 0x1aa275b41c8>"
      ]
     },
     "execution_count": 23,
     "metadata": {},
     "output_type": "execute_result"
    },
    {
     "data": {
      "image/png": "[encoded data removed]",
      "text/plain": [
       "<Figure size 432x288 with 1 Axes>"
      ]
     },
     "metadata": {
      "needs_background": "light"
     },
     "output_type": "display_data"
    }
   ],
   "source": [
    "sns.violinplot(x=x,y=y,data=data) #在sns.violinplot中，x是类别变量，y是数值型变量，data用于指定数据集"
   ]
  },
  {
   "cell_type": "markdown",
   "metadata": {},
   "source": [
    "\n",
    "## 决策树"
   ]
  },
  {
   "cell_type": "code",
   "execution_count": 90,
   "metadata": {},
   "outputs": [],
   "source": [
    "data=pd.read_csv(\"F:/data/classifier2.csv\")"
   ]
  },
  {
   "cell_type": "code",
   "execution_count": 91,
   "metadata": {},
   "outputs": [],
   "source": [
    "X = data.drop(['Y'],axis=1) #从数据集中删除目标变量\n",
    "y = data[\"Y\"]"
   ]
  },
  {
   "cell_type": "code",
   "execution_count": 92,
   "metadata": {},
   "outputs": [],
   "source": [
    "from sklearn.tree import DecisionTreeClassifier#导入决策树算法\n",
    "from sklearn import tree#导入一棵树\n",
    "import graphviz\n",
    "from sklearn.tree import export_graphviz"
   ]
  },
  {
   "cell_type": "code",
   "execution_count": 93,
   "metadata": {},
   "outputs": [
    {
     "data": {
      "text/plain": [
       "DecisionTreeClassifier(ccp_alpha=0.0, class_weight=None, criterion='entropy',\n",
       "                       max_depth=4, max_features=None, max_leaf_nodes=None,\n",
       "                       min_impurity_decrease=0.0, min_impurity_split=None,\n",
       "                       min_samples_leaf=1, min_samples_split=2,\n",
       "                       min_weight_fraction_leaf=0.0, presort='deprecated',\n",
       "                       random_state=None, splitter='best')"
      ]
     },
     "execution_count": 93,
     "metadata": {},
     "output_type": "execute_result"
    }
   ],
   "source": [
    "model = DecisionTreeClassifier(max_depth=4,criterion=\"entropy\")#实例化\n",
    "model.fit(X,y)#模型的训练"
   ]
  },
  {
   "cell_type": "code",
   "execution_count": 94,
   "metadata": {},
   "outputs": [
    {
     "data": {
      "text/html": [
       "<div>\n",
       "<style scoped>\n",
       "    .dataframe tbody tr th:only-of-type {\n",
       "        vertical-align: middle;\n",
       "    }\n",
       "\n",
       "    .dataframe tbody tr th {\n",
       "        vertical-align: top;\n",
       "    }\n",
       "\n",
       "    .dataframe thead th {\n",
       "        text-align: right;\n",
       "    }\n",
       "</style>\n",
       "<table border=\"1\" class=\"dataframe\">\n",
       "  <thead>\n",
       "    <tr style=\"text-align: right;\">\n",
       "      <th></th>\n",
       "      <th>0</th>\n",
       "      <th>1</th>\n",
       "    </tr>\n",
       "  </thead>\n",
       "  <tbody>\n",
       "    <tr>\n",
       "      <th>0</th>\n",
       "      <td>0.500000</td>\n",
       "      <td>0.500000</td>\n",
       "    </tr>\n",
       "    <tr>\n",
       "      <th>1</th>\n",
       "      <td>0.485437</td>\n",
       "      <td>0.514563</td>\n",
       "    </tr>\n",
       "    <tr>\n",
       "      <th>2</th>\n",
       "      <td>0.485437</td>\n",
       "      <td>0.514563</td>\n",
       "    </tr>\n",
       "    <tr>\n",
       "      <th>3</th>\n",
       "      <td>0.485437</td>\n",
       "      <td>0.514563</td>\n",
       "    </tr>\n",
       "    <tr>\n",
       "      <th>4</th>\n",
       "      <td>0.181818</td>\n",
       "      <td>0.818182</td>\n",
       "    </tr>\n",
       "  </tbody>\n",
       "</table>\n",
       "</div>"
      ],
      "text/plain": [
       "          0         1\n",
       "0  0.500000  0.500000\n",
       "1  0.485437  0.514563\n",
       "2  0.485437  0.514563\n",
       "3  0.485437  0.514563\n",
       "4  0.181818  0.818182"
      ]
     },
     "execution_count": 94,
     "metadata": {},
     "output_type": "execute_result"
    }
   ],
   "source": [
    "#预测每个类别的概率，这是叶子中相同类别的训练样本的分数\n",
    "result=model.predict_proba(X)\n",
    "result = pd.DataFrame(result)\n",
    "result.head()"
   ]
  },
  {
   "cell_type": "code",
   "execution_count": 99,
   "metadata": {},
   "outputs": [],
   "source": [
    "result.columns = [\"no\",\"yes\"]"
   ]
  },
  {
   "cell_type": "code",
   "execution_count": 102,
   "metadata": {},
   "outputs": [
    {
     "data": {
      "application/javascript": [
       "\n",
       "        if (window._pyforest_update_imports_cell) { window._pyforest_update_imports_cell('import seaborn as sns'); }\n",
       "    "
      ],
      "text/plain": [
       "<IPython.core.display.Javascript object>"
      ]
     },
     "metadata": {},
     "output_type": "display_data"
    },
    {
     "data": {
      "image/png": "[encoded data removed]",
      "text/plain": [
       "<Figure size 432x288 with 1 Axes>"
      ]
     },
     "metadata": {
      "needs_background": "light"
     },
     "output_type": "display_data"
    }
   ],
   "source": [
    "#绘制概率密度图\n",
    "sns.distplot(result['yes'])\n",
    "plt.show()"
   ]
  },
  {
   "cell_type": "code",
   "execution_count": 95,
   "metadata": {},
   "outputs": [],
   "source": [
    "dot_data = tree.export_graphviz(model, out_file=None,##算法，\n",
    "                                max_depth=4,#最大深度\n",
    "                                feature_names=data.columns[:-1],  #特征名\n",
    "                                class_names=['No', 'Yes'],  #标签名\n",
    "                                filled=True,#填充颜色\n",
    "                                rounded=True, #光滑一点\n",
    "#                                 special_characters=True\n",
    "                               )"
   ]
  },
  {
   "cell_type": "code",
   "execution_count": 96,
   "metadata": {},
   "outputs": [
    {
     "data": {
      "image/svg+xml": [
       "<?xml version=\"1.0\" encoding=\"UTF-8\" standalone=\"no\"?>\r\n",
       "<!DOCTYPE svg PUBLIC \"-//W3C//DTD SVG 1.1//EN\"\r\n",
       " \"http://www.w3.org/Graphics/SVG/1.1/DTD/svg11.dtd\">\r\n",
       "<!-- Generated by graphviz version 2.38.0 (20140413.2041)\r\n",
       " -->\r\n",
       "<!-- Title: Tree Pages: 1 -->\r\n",
       "<svg width=\"1759pt\" height=\"552pt\"\r\n",
       " viewBox=\"0.00 0.00 1759.00 552.00\" xmlns=\"http://www.w3.org/2000/svg\" xmlns:xlink=\"http://www.w3.org/1999/xlink\">\r\n",
       "<g id=\"graph0\" class=\"graph\" transform=\"scale(1 1) rotate(0) translate(4 548)\">\r\n",
       "<title>Tree</title>\r\n",
       "<polygon fill=\"white\" stroke=\"none\" points=\"-4,4 -4,-548 1755,-548 1755,4 -4,4\"/>\r\n",
       "<!-- 0 -->\r\n",
       "<g id=\"node1\" class=\"node\"><title>0</title>\r\n",
       "<path fill=\"#eaf5fc\" stroke=\"black\" d=\"M914,-544C914,-544 808,-544 808,-544 802,-544 796,-538 796,-532 796,-532 796,-473 796,-473 796,-467 802,-461 808,-461 808,-461 914,-461 914,-461 920,-461 926,-467 926,-473 926,-473 926,-532 926,-532 926,-538 920,-544 914,-544\"/>\r\n",
       "<text text-anchor=\"middle\" x=\"861\" y=\"-528.8\" font-family=\"Helvetica,sans-Serif\" font-size=\"14.00\">Y &lt;= 0.5</text>\r\n",
       "<text text-anchor=\"middle\" x=\"861\" y=\"-513.8\" font-family=\"Helvetica,sans-Serif\" font-size=\"14.00\">entropy = 0.998</text>\r\n",
       "<text text-anchor=\"middle\" x=\"861\" y=\"-498.8\" font-family=\"Helvetica,sans-Serif\" font-size=\"14.00\">samples = 271</text>\r\n",
       "<text text-anchor=\"middle\" x=\"861\" y=\"-483.8\" font-family=\"Helvetica,sans-Serif\" font-size=\"14.00\">value = [128, 143]</text>\r\n",
       "<text text-anchor=\"middle\" x=\"861\" y=\"-468.8\" font-family=\"Helvetica,sans-Serif\" font-size=\"14.00\">class = Yes</text>\r\n",
       "</g>\r\n",
       "<!-- 1 -->\r\n",
       "<g id=\"node2\" class=\"node\"><title>1</title>\r\n",
       "<path fill=\"#f5ceb2\" stroke=\"black\" d=\"M814,-425C814,-425 722,-425 722,-425 716,-425 710,-419 710,-413 710,-413 710,-354 710,-354 710,-348 716,-342 722,-342 722,-342 814,-342 814,-342 820,-342 826,-348 826,-354 826,-354 826,-413 826,-413 826,-419 820,-425 814,-425\"/>\r\n",
       "<text text-anchor=\"middle\" x=\"768\" y=\"-409.8\" font-family=\"Helvetica,sans-Serif\" font-size=\"14.00\">3C_5 &lt;= 0.5</text>\r\n",
       "<text text-anchor=\"middle\" x=\"768\" y=\"-394.8\" font-family=\"Helvetica,sans-Serif\" font-size=\"14.00\">entropy = 0.958</text>\r\n",
       "<text text-anchor=\"middle\" x=\"768\" y=\"-379.8\" font-family=\"Helvetica,sans-Serif\" font-size=\"14.00\">samples = 116</text>\r\n",
       "<text text-anchor=\"middle\" x=\"768\" y=\"-364.8\" font-family=\"Helvetica,sans-Serif\" font-size=\"14.00\">value = [72, 44]</text>\r\n",
       "<text text-anchor=\"middle\" x=\"768\" y=\"-349.8\" font-family=\"Helvetica,sans-Serif\" font-size=\"14.00\">class = No</text>\r\n",
       "</g>\r\n",
       "<!-- 0&#45;&gt;1 -->\r\n",
       "<g id=\"edge1\" class=\"edge\"><title>0&#45;&gt;1</title>\r\n",
       "<path fill=\"none\" stroke=\"black\" d=\"M828.734,-460.907C821.593,-451.923 813.956,-442.315 806.591,-433.05\"/>\r\n",
       "<polygon fill=\"black\" stroke=\"black\" points=\"809.171,-430.671 800.209,-425.021 803.691,-435.027 809.171,-430.671\"/>\r\n",
       "<text text-anchor=\"middle\" x=\"797.37\" y=\"-446.159\" font-family=\"Helvetica,sans-Serif\" font-size=\"14.00\">True</text>\r\n",
       "</g>\r\n",
       "<!-- 14 -->\r\n",
       "<g id=\"node15\" class=\"node\"><title>14</title>\r\n",
       "<path fill=\"#a9d4f4\" stroke=\"black\" d=\"M1001,-425C1001,-425 909,-425 909,-425 903,-425 897,-419 897,-413 897,-413 897,-354 897,-354 897,-348 903,-342 909,-342 909,-342 1001,-342 1001,-342 1007,-342 1013,-348 1013,-354 1013,-354 1013,-413 1013,-413 1013,-419 1007,-425 1001,-425\"/>\r\n",
       "<text text-anchor=\"middle\" x=\"955\" y=\"-409.8\" font-family=\"Helvetica,sans-Serif\" font-size=\"14.00\">4D &lt;= 0.5</text>\r\n",
       "<text text-anchor=\"middle\" x=\"955\" y=\"-394.8\" font-family=\"Helvetica,sans-Serif\" font-size=\"14.00\">entropy = 0.944</text>\r\n",
       "<text text-anchor=\"middle\" x=\"955\" y=\"-379.8\" font-family=\"Helvetica,sans-Serif\" font-size=\"14.00\">samples = 155</text>\r\n",
       "<text text-anchor=\"middle\" x=\"955\" y=\"-364.8\" font-family=\"Helvetica,sans-Serif\" font-size=\"14.00\">value = [56, 99]</text>\r\n",
       "<text text-anchor=\"middle\" x=\"955\" y=\"-349.8\" font-family=\"Helvetica,sans-Serif\" font-size=\"14.00\">class = Yes</text>\r\n",
       "</g>\r\n",
       "<!-- 0&#45;&gt;14 -->\r\n",
       "<g id=\"edge14\" class=\"edge\"><title>0&#45;&gt;14</title>\r\n",
       "<path fill=\"none\" stroke=\"black\" d=\"M893.613,-460.907C900.831,-451.923 908.55,-442.315 915.994,-433.05\"/>\r\n",
       "<polygon fill=\"black\" stroke=\"black\" points=\"918.91,-435.009 922.445,-425.021 913.453,-430.624 918.91,-435.009\"/>\r\n",
       "<text text-anchor=\"middle\" x=\"925.154\" y=\"-446.174\" font-family=\"Helvetica,sans-Serif\" font-size=\"14.00\">False</text>\r\n",
       "</g>\r\n",
       "<!-- 2 -->\r\n",
       "<g id=\"node3\" class=\"node\"><title>2</title>\r\n",
       "<path fill=\"#f1bd97\" stroke=\"black\" d=\"M437,-306C437,-306 345,-306 345,-306 339,-306 333,-300 333,-294 333,-294 333,-235 333,-235 333,-229 339,-223 345,-223 345,-223 437,-223 437,-223 443,-223 449,-229 449,-235 449,-235 449,-294 449,-294 449,-300 443,-306 437,-306\"/>\r\n",
       "<text text-anchor=\"middle\" x=\"391\" y=\"-290.8\" font-family=\"Helvetica,sans-Serif\" font-size=\"14.00\">2B_2 &lt;= 0.5</text>\r\n",
       "<text text-anchor=\"middle\" x=\"391\" y=\"-275.8\" font-family=\"Helvetica,sans-Serif\" font-size=\"14.00\">entropy = 0.908</text>\r\n",
       "<text text-anchor=\"middle\" x=\"391\" y=\"-260.8\" font-family=\"Helvetica,sans-Serif\" font-size=\"14.00\">samples = 96</text>\r\n",
       "<text text-anchor=\"middle\" x=\"391\" y=\"-245.8\" font-family=\"Helvetica,sans-Serif\" font-size=\"14.00\">value = [65, 31]</text>\r\n",
       "<text text-anchor=\"middle\" x=\"391\" y=\"-230.8\" font-family=\"Helvetica,sans-Serif\" font-size=\"14.00\">class = No</text>\r\n",
       "</g>\r\n",
       "<!-- 1&#45;&gt;2 -->\r\n",
       "<g id=\"edge2\" class=\"edge\"><title>1&#45;&gt;2</title>\r\n",
       "<path fill=\"none\" stroke=\"black\" d=\"M709.92,-364.475C642.257,-343.476 530.62,-308.83 458.981,-286.597\"/>\r\n",
       "<polygon fill=\"black\" stroke=\"black\" points=\"459.734,-283.167 449.146,-283.545 457.659,-289.852 459.734,-283.167\"/>\r\n",
       "</g>\r\n",
       "<!-- 9 -->\r\n",
       "<g id=\"node10\" class=\"node\"><title>9</title>\r\n",
       "<path fill=\"#a4d2f3\" stroke=\"black\" d=\"M814,-306C814,-306 722,-306 722,-306 716,-306 710,-300 710,-294 710,-294 710,-235 710,-235 710,-229 716,-223 722,-223 722,-223 814,-223 814,-223 820,-223 826,-229 826,-235 826,-235 826,-294 826,-294 826,-300 820,-306 814,-306\"/>\r\n",
       "<text text-anchor=\"middle\" x=\"768\" y=\"-290.8\" font-family=\"Helvetica,sans-Serif\" font-size=\"14.00\">2B_3 &lt;= 0.5</text>\r\n",
       "<text text-anchor=\"middle\" x=\"768\" y=\"-275.8\" font-family=\"Helvetica,sans-Serif\" font-size=\"14.00\">entropy = 0.934</text>\r\n",
       "<text text-anchor=\"middle\" x=\"768\" y=\"-260.8\" font-family=\"Helvetica,sans-Serif\" font-size=\"14.00\">samples = 20</text>\r\n",
       "<text text-anchor=\"middle\" x=\"768\" y=\"-245.8\" font-family=\"Helvetica,sans-Serif\" font-size=\"14.00\">value = [7, 13]</text>\r\n",
       "<text text-anchor=\"middle\" x=\"768\" y=\"-230.8\" font-family=\"Helvetica,sans-Serif\" font-size=\"14.00\">class = Yes</text>\r\n",
       "</g>\r\n",
       "<!-- 1&#45;&gt;9 -->\r\n",
       "<g id=\"edge9\" class=\"edge\"><title>1&#45;&gt;9</title>\r\n",
       "<path fill=\"none\" stroke=\"black\" d=\"M768,-341.907C768,-333.649 768,-324.864 768,-316.302\"/>\r\n",
       "<polygon fill=\"black\" stroke=\"black\" points=\"771.5,-316.021 768,-306.021 764.5,-316.021 771.5,-316.021\"/>\r\n",
       "</g>\r\n",
       "<!-- 3 -->\r\n",
       "<g id=\"node4\" class=\"node\"><title>3</title>\r\n",
       "<path fill=\"#f9e0cf\" stroke=\"black\" d=\"M238,-187C238,-187 146,-187 146,-187 140,-187 134,-181 134,-175 134,-175 134,-116 134,-116 134,-110 140,-104 146,-104 146,-104 238,-104 238,-104 244,-104 250,-110 250,-116 250,-116 250,-175 250,-175 250,-181 244,-187 238,-187\"/>\r\n",
       "<text text-anchor=\"middle\" x=\"192\" y=\"-171.8\" font-family=\"Helvetica,sans-Serif\" font-size=\"14.00\">7G_1 &lt;= 0.5</text>\r\n",
       "<text text-anchor=\"middle\" x=\"192\" y=\"-156.8\" font-family=\"Helvetica,sans-Serif\" font-size=\"14.00\">entropy = 0.986</text>\r\n",
       "<text text-anchor=\"middle\" x=\"192\" y=\"-141.8\" font-family=\"Helvetica,sans-Serif\" font-size=\"14.00\">samples = 58</text>\r\n",
       "<text text-anchor=\"middle\" x=\"192\" y=\"-126.8\" font-family=\"Helvetica,sans-Serif\" font-size=\"14.00\">value = [33, 25]</text>\r\n",
       "<text text-anchor=\"middle\" x=\"192\" y=\"-111.8\" font-family=\"Helvetica,sans-Serif\" font-size=\"14.00\">class = No</text>\r\n",
       "</g>\r\n",
       "<!-- 2&#45;&gt;3 -->\r\n",
       "<g id=\"edge3\" class=\"edge\"><title>2&#45;&gt;3</title>\r\n",
       "<path fill=\"none\" stroke=\"black\" d=\"M332.906,-229.344C309.712,-215.708 282.866,-199.924 258.867,-185.814\"/>\r\n",
       "<polygon fill=\"black\" stroke=\"black\" points=\"260.561,-182.749 250.166,-180.698 257.013,-188.784 260.561,-182.749\"/>\r\n",
       "</g>\r\n",
       "<!-- 6 -->\r\n",
       "<g id=\"node7\" class=\"node\"><title>6</title>\r\n",
       "<path fill=\"#ea995e\" stroke=\"black\" d=\"M437,-187C437,-187 345,-187 345,-187 339,-187 333,-181 333,-175 333,-175 333,-116 333,-116 333,-110 339,-104 345,-104 345,-104 437,-104 437,-104 443,-104 449,-110 449,-116 449,-116 449,-175 449,-175 449,-181 443,-187 437,-187\"/>\r\n",
       "<text text-anchor=\"middle\" x=\"391\" y=\"-171.8\" font-family=\"Helvetica,sans-Serif\" font-size=\"14.00\">5E &lt;= 0.3</text>\r\n",
       "<text text-anchor=\"middle\" x=\"391\" y=\"-156.8\" font-family=\"Helvetica,sans-Serif\" font-size=\"14.00\">entropy = 0.629</text>\r\n",
       "<text text-anchor=\"middle\" x=\"391\" y=\"-141.8\" font-family=\"Helvetica,sans-Serif\" font-size=\"14.00\">samples = 38</text>\r\n",
       "<text text-anchor=\"middle\" x=\"391\" y=\"-126.8\" font-family=\"Helvetica,sans-Serif\" font-size=\"14.00\">value = [32, 6]</text>\r\n",
       "<text text-anchor=\"middle\" x=\"391\" y=\"-111.8\" font-family=\"Helvetica,sans-Serif\" font-size=\"14.00\">class = No</text>\r\n",
       "</g>\r\n",
       "<!-- 2&#45;&gt;6 -->\r\n",
       "<g id=\"edge6\" class=\"edge\"><title>2&#45;&gt;6</title>\r\n",
       "<path fill=\"none\" stroke=\"black\" d=\"M391,-222.907C391,-214.649 391,-205.864 391,-197.302\"/>\r\n",
       "<polygon fill=\"black\" stroke=\"black\" points=\"394.5,-197.021 391,-187.021 387.5,-197.021 394.5,-197.021\"/>\r\n",
       "</g>\r\n",
       "<!-- 4 -->\r\n",
       "<g id=\"node5\" class=\"node\"><title>4</title>\r\n",
       "<path fill=\"#f0b58a\" stroke=\"black\" d=\"M104,-68C104,-68 12,-68 12,-68 6,-68 0,-62 0,-56 0,-56 0,-12 0,-12 0,-6 6,-0 12,-0 12,-0 104,-0 104,-0 110,-0 116,-6 116,-12 116,-12 116,-56 116,-56 116,-62 110,-68 104,-68\"/>\r\n",
       "<text text-anchor=\"middle\" x=\"58\" y=\"-52.8\" font-family=\"Helvetica,sans-Serif\" font-size=\"14.00\">entropy = 0.869</text>\r\n",
       "<text text-anchor=\"middle\" x=\"58\" y=\"-37.8\" font-family=\"Helvetica,sans-Serif\" font-size=\"14.00\">samples = 31</text>\r\n",
       "<text text-anchor=\"middle\" x=\"58\" y=\"-22.8\" font-family=\"Helvetica,sans-Serif\" font-size=\"14.00\">value = [22, 9]</text>\r\n",
       "<text text-anchor=\"middle\" x=\"58\" y=\"-7.8\" font-family=\"Helvetica,sans-Serif\" font-size=\"14.00\">class = No</text>\r\n",
       "</g>\r\n",
       "<!-- 3&#45;&gt;4 -->\r\n",
       "<g id=\"edge4\" class=\"edge\"><title>3&#45;&gt;4</title>\r\n",
       "<path fill=\"none\" stroke=\"black\" d=\"M142.103,-103.726C130.495,-94.2406 118.153,-84.1551 106.602,-74.7159\"/>\r\n",
       "<polygon fill=\"black\" stroke=\"black\" points=\"108.708,-71.9171 98.7502,-68.2996 104.279,-77.3375 108.708,-71.9171\"/>\r\n",
       "</g>\r\n",
       "<!-- 5 -->\r\n",
       "<g id=\"node6\" class=\"node\"><title>5</title>\r\n",
       "<path fill=\"#c1e0f7\" stroke=\"black\" d=\"M238,-68C238,-68 146,-68 146,-68 140,-68 134,-62 134,-56 134,-56 134,-12 134,-12 134,-6 140,-0 146,-0 146,-0 238,-0 238,-0 244,-0 250,-6 250,-12 250,-12 250,-56 250,-56 250,-62 244,-68 238,-68\"/>\r\n",
       "<text text-anchor=\"middle\" x=\"192\" y=\"-52.8\" font-family=\"Helvetica,sans-Serif\" font-size=\"14.00\">entropy = 0.975</text>\r\n",
       "<text text-anchor=\"middle\" x=\"192\" y=\"-37.8\" font-family=\"Helvetica,sans-Serif\" font-size=\"14.00\">samples = 27</text>\r\n",
       "<text text-anchor=\"middle\" x=\"192\" y=\"-22.8\" font-family=\"Helvetica,sans-Serif\" font-size=\"14.00\">value = [11, 16]</text>\r\n",
       "<text text-anchor=\"middle\" x=\"192\" y=\"-7.8\" font-family=\"Helvetica,sans-Serif\" font-size=\"14.00\">class = Yes</text>\r\n",
       "</g>\r\n",
       "<!-- 3&#45;&gt;5 -->\r\n",
       "<g id=\"edge5\" class=\"edge\"><title>3&#45;&gt;5</title>\r\n",
       "<path fill=\"none\" stroke=\"black\" d=\"M192,-103.726C192,-95.5175 192,-86.8595 192,-78.56\"/>\r\n",
       "<polygon fill=\"black\" stroke=\"black\" points=\"195.5,-78.2996 192,-68.2996 188.5,-78.2996 195.5,-78.2996\"/>\r\n",
       "</g>\r\n",
       "<!-- 7 -->\r\n",
       "<g id=\"node8\" class=\"node\"><title>7</title>\r\n",
       "<path fill=\"#deeffb\" stroke=\"black\" d=\"M372,-68C372,-68 280,-68 280,-68 274,-68 268,-62 268,-56 268,-56 268,-12 268,-12 268,-6 274,-0 280,-0 280,-0 372,-0 372,-0 378,-0 384,-6 384,-12 384,-12 384,-56 384,-56 384,-62 378,-68 372,-68\"/>\r\n",
       "<text text-anchor=\"middle\" x=\"326\" y=\"-52.8\" font-family=\"Helvetica,sans-Serif\" font-size=\"14.00\">entropy = 0.994</text>\r\n",
       "<text text-anchor=\"middle\" x=\"326\" y=\"-37.8\" font-family=\"Helvetica,sans-Serif\" font-size=\"14.00\">samples = 11</text>\r\n",
       "<text text-anchor=\"middle\" x=\"326\" y=\"-22.8\" font-family=\"Helvetica,sans-Serif\" font-size=\"14.00\">value = [5, 6]</text>\r\n",
       "<text text-anchor=\"middle\" x=\"326\" y=\"-7.8\" font-family=\"Helvetica,sans-Serif\" font-size=\"14.00\">class = Yes</text>\r\n",
       "</g>\r\n",
       "<!-- 6&#45;&gt;7 -->\r\n",
       "<g id=\"edge7\" class=\"edge\"><title>6&#45;&gt;7</title>\r\n",
       "<path fill=\"none\" stroke=\"black\" d=\"M366.796,-103.726C361.599,-94.9703 356.098,-85.7032 350.875,-76.9051\"/>\r\n",
       "<polygon fill=\"black\" stroke=\"black\" points=\"353.881,-75.1121 345.767,-68.2996 347.862,-78.6853 353.881,-75.1121\"/>\r\n",
       "</g>\r\n",
       "<!-- 8 -->\r\n",
       "<g id=\"node9\" class=\"node\"><title>8</title>\r\n",
       "<path fill=\"#e58139\" stroke=\"black\" d=\"M495.5,-68C495.5,-68 414.5,-68 414.5,-68 408.5,-68 402.5,-62 402.5,-56 402.5,-56 402.5,-12 402.5,-12 402.5,-6 408.5,-0 414.5,-0 414.5,-0 495.5,-0 495.5,-0 501.5,-0 507.5,-6 507.5,-12 507.5,-12 507.5,-56 507.5,-56 507.5,-62 501.5,-68 495.5,-68\"/>\r\n",
       "<text text-anchor=\"middle\" x=\"455\" y=\"-52.8\" font-family=\"Helvetica,sans-Serif\" font-size=\"14.00\">entropy = 0.0</text>\r\n",
       "<text text-anchor=\"middle\" x=\"455\" y=\"-37.8\" font-family=\"Helvetica,sans-Serif\" font-size=\"14.00\">samples = 27</text>\r\n",
       "<text text-anchor=\"middle\" x=\"455\" y=\"-22.8\" font-family=\"Helvetica,sans-Serif\" font-size=\"14.00\">value = [27, 0]</text>\r\n",
       "<text text-anchor=\"middle\" x=\"455\" y=\"-7.8\" font-family=\"Helvetica,sans-Serif\" font-size=\"14.00\">class = No</text>\r\n",
       "</g>\r\n",
       "<!-- 6&#45;&gt;8 -->\r\n",
       "<g id=\"edge8\" class=\"edge\"><title>6&#45;&gt;8</title>\r\n",
       "<path fill=\"none\" stroke=\"black\" d=\"M414.831,-103.726C419.896,-95.0615 425.252,-85.8962 430.347,-77.1802\"/>\r\n",
       "<polygon fill=\"black\" stroke=\"black\" points=\"433.513,-78.6992 435.537,-68.2996 427.469,-75.167 433.513,-78.6992\"/>\r\n",
       "</g>\r\n",
       "<!-- 10 -->\r\n",
       "<g id=\"node11\" class=\"node\"><title>10</title>\r\n",
       "<path fill=\"#c4e2f7\" stroke=\"black\" d=\"M690,-187C690,-187 598,-187 598,-187 592,-187 586,-181 586,-175 586,-175 586,-116 586,-116 586,-110 592,-104 598,-104 598,-104 690,-104 690,-104 696,-104 702,-110 702,-116 702,-116 702,-175 702,-175 702,-181 696,-187 690,-187\"/>\r\n",
       "<text text-anchor=\"middle\" x=\"644\" y=\"-171.8\" font-family=\"Helvetica,sans-Serif\" font-size=\"14.00\">16P_4 &lt;= 0.5</text>\r\n",
       "<text text-anchor=\"middle\" x=\"644\" y=\"-156.8\" font-family=\"Helvetica,sans-Serif\" font-size=\"14.00\">entropy = 0.977</text>\r\n",
       "<text text-anchor=\"middle\" x=\"644\" y=\"-141.8\" font-family=\"Helvetica,sans-Serif\" font-size=\"14.00\">samples = 17</text>\r\n",
       "<text text-anchor=\"middle\" x=\"644\" y=\"-126.8\" font-family=\"Helvetica,sans-Serif\" font-size=\"14.00\">value = [7, 10]</text>\r\n",
       "<text text-anchor=\"middle\" x=\"644\" y=\"-111.8\" font-family=\"Helvetica,sans-Serif\" font-size=\"14.00\">class = Yes</text>\r\n",
       "</g>\r\n",
       "<!-- 9&#45;&gt;10 -->\r\n",
       "<g id=\"edge10\" class=\"edge\"><title>9&#45;&gt;10</title>\r\n",
       "<path fill=\"none\" stroke=\"black\" d=\"M724.979,-222.907C715.072,-213.56 704.45,-203.538 694.266,-193.929\"/>\r\n",
       "<polygon fill=\"black\" stroke=\"black\" points=\"696.621,-191.338 686.945,-187.021 691.817,-196.429 696.621,-191.338\"/>\r\n",
       "</g>\r\n",
       "<!-- 13 -->\r\n",
       "<g id=\"node14\" class=\"node\"><title>13</title>\r\n",
       "<path fill=\"#399de5\" stroke=\"black\" d=\"M808,-179.5C808,-179.5 732,-179.5 732,-179.5 726,-179.5 720,-173.5 720,-167.5 720,-167.5 720,-123.5 720,-123.5 720,-117.5 726,-111.5 732,-111.5 732,-111.5 808,-111.5 808,-111.5 814,-111.5 820,-117.5 820,-123.5 820,-123.5 820,-167.5 820,-167.5 820,-173.5 814,-179.5 808,-179.5\"/>\r\n",
       "<text text-anchor=\"middle\" x=\"770\" y=\"-164.3\" font-family=\"Helvetica,sans-Serif\" font-size=\"14.00\">entropy = 0.0</text>\r\n",
       "<text text-anchor=\"middle\" x=\"770\" y=\"-149.3\" font-family=\"Helvetica,sans-Serif\" font-size=\"14.00\">samples = 3</text>\r\n",
       "<text text-anchor=\"middle\" x=\"770\" y=\"-134.3\" font-family=\"Helvetica,sans-Serif\" font-size=\"14.00\">value = [0, 3]</text>\r\n",
       "<text text-anchor=\"middle\" x=\"770\" y=\"-119.3\" font-family=\"Helvetica,sans-Serif\" font-size=\"14.00\">class = Yes</text>\r\n",
       "</g>\r\n",
       "<!-- 9&#45;&gt;13 -->\r\n",
       "<g id=\"edge13\" class=\"edge\"><title>9&#45;&gt;13</title>\r\n",
       "<path fill=\"none\" stroke=\"black\" d=\"M768.694,-222.907C768.877,-212.204 769.075,-200.615 769.26,-189.776\"/>\r\n",
       "<polygon fill=\"black\" stroke=\"black\" points=\"772.762,-189.725 769.433,-179.667 765.763,-189.606 772.762,-189.725\"/>\r\n",
       "</g>\r\n",
       "<!-- 11 -->\r\n",
       "<g id=\"node12\" class=\"node\"><title>11</title>\r\n",
       "<path fill=\"#ffffff\" stroke=\"black\" d=\"M616.5,-68C616.5,-68 537.5,-68 537.5,-68 531.5,-68 525.5,-62 525.5,-56 525.5,-56 525.5,-12 525.5,-12 525.5,-6 531.5,-0 537.5,-0 537.5,-0 616.5,-0 616.5,-0 622.5,-0 628.5,-6 628.5,-12 628.5,-12 628.5,-56 628.5,-56 628.5,-62 622.5,-68 616.5,-68\"/>\r\n",
       "<text text-anchor=\"middle\" x=\"577\" y=\"-52.8\" font-family=\"Helvetica,sans-Serif\" font-size=\"14.00\">entropy = 1.0</text>\r\n",
       "<text text-anchor=\"middle\" x=\"577\" y=\"-37.8\" font-family=\"Helvetica,sans-Serif\" font-size=\"14.00\">samples = 14</text>\r\n",
       "<text text-anchor=\"middle\" x=\"577\" y=\"-22.8\" font-family=\"Helvetica,sans-Serif\" font-size=\"14.00\">value = [7, 7]</text>\r\n",
       "<text text-anchor=\"middle\" x=\"577\" y=\"-7.8\" font-family=\"Helvetica,sans-Serif\" font-size=\"14.00\">class = No</text>\r\n",
       "</g>\r\n",
       "<!-- 10&#45;&gt;11 -->\r\n",
       "<g id=\"edge11\" class=\"edge\"><title>10&#45;&gt;11</title>\r\n",
       "<path fill=\"none\" stroke=\"black\" d=\"M619.052,-103.726C613.694,-94.9703 608.024,-85.7032 602.641,-76.9051\"/>\r\n",
       "<polygon fill=\"black\" stroke=\"black\" points=\"605.58,-75.0028 597.375,-68.2996 599.609,-78.6563 605.58,-75.0028\"/>\r\n",
       "</g>\r\n",
       "<!-- 12 -->\r\n",
       "<g id=\"node13\" class=\"node\"><title>12</title>\r\n",
       "<path fill=\"#399de5\" stroke=\"black\" d=\"M735,-68C735,-68 659,-68 659,-68 653,-68 647,-62 647,-56 647,-56 647,-12 647,-12 647,-6 653,-0 659,-0 659,-0 735,-0 735,-0 741,-0 747,-6 747,-12 747,-12 747,-56 747,-56 747,-62 741,-68 735,-68\"/>\r\n",
       "<text text-anchor=\"middle\" x=\"697\" y=\"-52.8\" font-family=\"Helvetica,sans-Serif\" font-size=\"14.00\">entropy = 0.0</text>\r\n",
       "<text text-anchor=\"middle\" x=\"697\" y=\"-37.8\" font-family=\"Helvetica,sans-Serif\" font-size=\"14.00\">samples = 3</text>\r\n",
       "<text text-anchor=\"middle\" x=\"697\" y=\"-22.8\" font-family=\"Helvetica,sans-Serif\" font-size=\"14.00\">value = [0, 3]</text>\r\n",
       "<text text-anchor=\"middle\" x=\"697\" y=\"-7.8\" font-family=\"Helvetica,sans-Serif\" font-size=\"14.00\">class = Yes</text>\r\n",
       "</g>\r\n",
       "<!-- 10&#45;&gt;12 -->\r\n",
       "<g id=\"edge12\" class=\"edge\"><title>10&#45;&gt;12</title>\r\n",
       "<path fill=\"none\" stroke=\"black\" d=\"M663.735,-103.726C667.885,-95.1527 672.272,-86.0891 676.451,-77.4555\"/>\r\n",
       "<polygon fill=\"black\" stroke=\"black\" points=\"679.676,-78.8255 680.882,-68.2996 673.375,-75.7758 679.676,-78.8255\"/>\r\n",
       "</g>\r\n",
       "<!-- 15 -->\r\n",
       "<g id=\"node16\" class=\"node\"><title>15</title>\r\n",
       "<path fill=\"#c7e3f8\" stroke=\"black\" d=\"M999.5,-306C999.5,-306 910.5,-306 910.5,-306 904.5,-306 898.5,-300 898.5,-294 898.5,-294 898.5,-235 898.5,-235 898.5,-229 904.5,-223 910.5,-223 910.5,-223 999.5,-223 999.5,-223 1005.5,-223 1011.5,-229 1011.5,-235 1011.5,-235 1011.5,-294 1011.5,-294 1011.5,-300 1005.5,-306 999.5,-306\"/>\r\n",
       "<text text-anchor=\"middle\" x=\"955\" y=\"-290.8\" font-family=\"Helvetica,sans-Serif\" font-size=\"14.00\">3C_5 &lt;= 0.5</text>\r\n",
       "<text text-anchor=\"middle\" x=\"955\" y=\"-275.8\" font-family=\"Helvetica,sans-Serif\" font-size=\"14.00\">entropy = 0.98</text>\r\n",
       "<text text-anchor=\"middle\" x=\"955\" y=\"-260.8\" font-family=\"Helvetica,sans-Serif\" font-size=\"14.00\">samples = 127</text>\r\n",
       "<text text-anchor=\"middle\" x=\"955\" y=\"-245.8\" font-family=\"Helvetica,sans-Serif\" font-size=\"14.00\">value = [53, 74]</text>\r\n",
       "<text text-anchor=\"middle\" x=\"955\" y=\"-230.8\" font-family=\"Helvetica,sans-Serif\" font-size=\"14.00\">class = Yes</text>\r\n",
       "</g>\r\n",
       "<!-- 14&#45;&gt;15 -->\r\n",
       "<g id=\"edge15\" class=\"edge\"><title>14&#45;&gt;15</title>\r\n",
       "<path fill=\"none\" stroke=\"black\" d=\"M955,-341.907C955,-333.649 955,-324.864 955,-316.302\"/>\r\n",
       "<polygon fill=\"black\" stroke=\"black\" points=\"958.5,-316.021 955,-306.021 951.5,-316.021 958.5,-316.021\"/>\r\n",
       "</g>\r\n",
       "<!-- 22 -->\r\n",
       "<g id=\"node23\" class=\"node\"><title>22</title>\r\n",
       "<path fill=\"#51a9e8\" stroke=\"black\" d=\"M1434,-306C1434,-306 1342,-306 1342,-306 1336,-306 1330,-300 1330,-294 1330,-294 1330,-235 1330,-235 1330,-229 1336,-223 1342,-223 1342,-223 1434,-223 1434,-223 1440,-223 1446,-229 1446,-235 1446,-235 1446,-294 1446,-294 1446,-300 1440,-306 1434,-306\"/>\r\n",
       "<text text-anchor=\"middle\" x=\"1388\" y=\"-290.8\" font-family=\"Helvetica,sans-Serif\" font-size=\"14.00\">6F_3 &lt;= 0.5</text>\r\n",
       "<text text-anchor=\"middle\" x=\"1388\" y=\"-275.8\" font-family=\"Helvetica,sans-Serif\" font-size=\"14.00\">entropy = 0.491</text>\r\n",
       "<text text-anchor=\"middle\" x=\"1388\" y=\"-260.8\" font-family=\"Helvetica,sans-Serif\" font-size=\"14.00\">samples = 28</text>\r\n",
       "<text text-anchor=\"middle\" x=\"1388\" y=\"-245.8\" font-family=\"Helvetica,sans-Serif\" font-size=\"14.00\">value = [3, 25]</text>\r\n",
       "<text text-anchor=\"middle\" x=\"1388\" y=\"-230.8\" font-family=\"Helvetica,sans-Serif\" font-size=\"14.00\">class = Yes</text>\r\n",
       "</g>\r\n",
       "<!-- 14&#45;&gt;22 -->\r\n",
       "<g id=\"edge22\" class=\"edge\"><title>14&#45;&gt;22</title>\r\n",
       "<path fill=\"none\" stroke=\"black\" d=\"M1013.4,-366.721C1093.11,-345.181 1235.71,-306.651 1320.1,-283.848\"/>\r\n",
       "<polygon fill=\"black\" stroke=\"black\" points=\"1321.1,-287.203 1329.84,-281.216 1319.27,-280.445 1321.1,-287.203\"/>\r\n",
       "</g>\r\n",
       "<!-- 16 -->\r\n",
       "<g id=\"node17\" class=\"node\"><title>16</title>\r\n",
       "<path fill=\"#dfeffb\" stroke=\"black\" d=\"M1000,-187C1000,-187 908,-187 908,-187 902,-187 896,-181 896,-175 896,-175 896,-116 896,-116 896,-110 902,-104 908,-104 908,-104 1000,-104 1000,-104 1006,-104 1012,-110 1012,-116 1012,-116 1012,-175 1012,-175 1012,-181 1006,-187 1000,-187\"/>\r\n",
       "<text text-anchor=\"middle\" x=\"954\" y=\"-171.8\" font-family=\"Helvetica,sans-Serif\" font-size=\"14.00\">6F_3 &lt;= 0.5</text>\r\n",
       "<text text-anchor=\"middle\" x=\"954\" y=\"-156.8\" font-family=\"Helvetica,sans-Serif\" font-size=\"14.00\">entropy = 0.994</text>\r\n",
       "<text text-anchor=\"middle\" x=\"954\" y=\"-141.8\" font-family=\"Helvetica,sans-Serif\" font-size=\"14.00\">samples = 114</text>\r\n",
       "<text text-anchor=\"middle\" x=\"954\" y=\"-126.8\" font-family=\"Helvetica,sans-Serif\" font-size=\"14.00\">value = [52, 62]</text>\r\n",
       "<text text-anchor=\"middle\" x=\"954\" y=\"-111.8\" font-family=\"Helvetica,sans-Serif\" font-size=\"14.00\">class = Yes</text>\r\n",
       "</g>\r\n",
       "<!-- 15&#45;&gt;16 -->\r\n",
       "<g id=\"edge16\" class=\"edge\"><title>15&#45;&gt;16</title>\r\n",
       "<path fill=\"none\" stroke=\"black\" d=\"M954.653,-222.907C954.582,-214.649 954.507,-205.864 954.434,-197.302\"/>\r\n",
       "<polygon fill=\"black\" stroke=\"black\" points=\"957.932,-196.99 954.346,-187.021 950.932,-197.05 957.932,-196.99\"/>\r\n",
       "</g>\r\n",
       "<!-- 19 -->\r\n",
       "<g id=\"node20\" class=\"node\"><title>19</title>\r\n",
       "<path fill=\"#49a5e7\" stroke=\"black\" d=\"M1134,-187C1134,-187 1042,-187 1042,-187 1036,-187 1030,-181 1030,-175 1030,-175 1030,-116 1030,-116 1030,-110 1036,-104 1042,-104 1042,-104 1134,-104 1134,-104 1140,-104 1146,-110 1146,-116 1146,-116 1146,-175 1146,-175 1146,-181 1140,-187 1134,-187\"/>\r\n",
       "<text text-anchor=\"middle\" x=\"1088\" y=\"-171.8\" font-family=\"Helvetica,sans-Serif\" font-size=\"14.00\">6F_3 &lt;= 0.5</text>\r\n",
       "<text text-anchor=\"middle\" x=\"1088\" y=\"-156.8\" font-family=\"Helvetica,sans-Serif\" font-size=\"14.00\">entropy = 0.391</text>\r\n",
       "<text text-anchor=\"middle\" x=\"1088\" y=\"-141.8\" font-family=\"Helvetica,sans-Serif\" font-size=\"14.00\">samples = 13</text>\r\n",
       "<text text-anchor=\"middle\" x=\"1088\" y=\"-126.8\" font-family=\"Helvetica,sans-Serif\" font-size=\"14.00\">value = [1, 12]</text>\r\n",
       "<text text-anchor=\"middle\" x=\"1088\" y=\"-111.8\" font-family=\"Helvetica,sans-Serif\" font-size=\"14.00\">class = Yes</text>\r\n",
       "</g>\r\n",
       "<!-- 15&#45;&gt;19 -->\r\n",
       "<g id=\"edge19\" class=\"edge\"><title>15&#45;&gt;19</title>\r\n",
       "<path fill=\"none\" stroke=\"black\" d=\"M1001.14,-222.907C1011.87,-213.469 1023.38,-203.343 1034.4,-193.649\"/>\r\n",
       "<polygon fill=\"black\" stroke=\"black\" points=\"1036.74,-196.254 1041.94,-187.021 1032.12,-190.998 1036.74,-196.254\"/>\r\n",
       "</g>\r\n",
       "<!-- 17 -->\r\n",
       "<g id=\"node18\" class=\"node\"><title>17</title>\r\n",
       "<path fill=\"#f4f9fe\" stroke=\"black\" d=\"M869,-68C869,-68 777,-68 777,-68 771,-68 765,-62 765,-56 765,-56 765,-12 765,-12 765,-6 771,-0 777,-0 777,-0 869,-0 869,-0 875,-0 881,-6 881,-12 881,-12 881,-56 881,-56 881,-62 875,-68 869,-68\"/>\r\n",
       "<text text-anchor=\"middle\" x=\"823\" y=\"-52.8\" font-family=\"Helvetica,sans-Serif\" font-size=\"14.00\">entropy = 0.999</text>\r\n",
       "<text text-anchor=\"middle\" x=\"823\" y=\"-37.8\" font-family=\"Helvetica,sans-Serif\" font-size=\"14.00\">samples = 103</text>\r\n",
       "<text text-anchor=\"middle\" x=\"823\" y=\"-22.8\" font-family=\"Helvetica,sans-Serif\" font-size=\"14.00\">value = [50, 53]</text>\r\n",
       "<text text-anchor=\"middle\" x=\"823\" y=\"-7.8\" font-family=\"Helvetica,sans-Serif\" font-size=\"14.00\">class = Yes</text>\r\n",
       "</g>\r\n",
       "<!-- 16&#45;&gt;17 -->\r\n",
       "<g id=\"edge17\" class=\"edge\"><title>16&#45;&gt;17</title>\r\n",
       "<path fill=\"none\" stroke=\"black\" d=\"M905.22,-103.726C893.872,-94.2406 881.807,-84.1551 870.514,-74.7159\"/>\r\n",
       "<polygon fill=\"black\" stroke=\"black\" points=\"872.755,-72.0276 862.838,-68.2996 868.266,-77.3984 872.755,-72.0276\"/>\r\n",
       "</g>\r\n",
       "<!-- 18 -->\r\n",
       "<g id=\"node19\" class=\"node\"><title>18</title>\r\n",
       "<path fill=\"#65b3eb\" stroke=\"black\" d=\"M1003,-68C1003,-68 911,-68 911,-68 905,-68 899,-62 899,-56 899,-56 899,-12 899,-12 899,-6 905,-0 911,-0 911,-0 1003,-0 1003,-0 1009,-0 1015,-6 1015,-12 1015,-12 1015,-56 1015,-56 1015,-62 1009,-68 1003,-68\"/>\r\n",
       "<text text-anchor=\"middle\" x=\"957\" y=\"-52.8\" font-family=\"Helvetica,sans-Serif\" font-size=\"14.00\">entropy = 0.684</text>\r\n",
       "<text text-anchor=\"middle\" x=\"957\" y=\"-37.8\" font-family=\"Helvetica,sans-Serif\" font-size=\"14.00\">samples = 11</text>\r\n",
       "<text text-anchor=\"middle\" x=\"957\" y=\"-22.8\" font-family=\"Helvetica,sans-Serif\" font-size=\"14.00\">value = [2, 9]</text>\r\n",
       "<text text-anchor=\"middle\" x=\"957\" y=\"-7.8\" font-family=\"Helvetica,sans-Serif\" font-size=\"14.00\">class = Yes</text>\r\n",
       "</g>\r\n",
       "<!-- 16&#45;&gt;18 -->\r\n",
       "<g id=\"edge18\" class=\"edge\"><title>16&#45;&gt;18</title>\r\n",
       "<path fill=\"none\" stroke=\"black\" d=\"M955.117,-103.726C955.342,-95.5175 955.579,-86.8595 955.807,-78.56\"/>\r\n",
       "<polygon fill=\"black\" stroke=\"black\" points=\"959.312,-78.3917 956.088,-68.2996 952.315,-78.2 959.312,-78.3917\"/>\r\n",
       "</g>\r\n",
       "<!-- 20 -->\r\n",
       "<g id=\"node21\" class=\"node\"><title>20</title>\r\n",
       "<path fill=\"#399de5\" stroke=\"black\" d=\"M1126.5,-68C1126.5,-68 1045.5,-68 1045.5,-68 1039.5,-68 1033.5,-62 1033.5,-56 1033.5,-56 1033.5,-12 1033.5,-12 1033.5,-6 1039.5,-0 1045.5,-0 1045.5,-0 1126.5,-0 1126.5,-0 1132.5,-0 1138.5,-6 1138.5,-12 1138.5,-12 1138.5,-56 1138.5,-56 1138.5,-62 1132.5,-68 1126.5,-68\"/>\r\n",
       "<text text-anchor=\"middle\" x=\"1086\" y=\"-52.8\" font-family=\"Helvetica,sans-Serif\" font-size=\"14.00\">entropy = 0.0</text>\r\n",
       "<text text-anchor=\"middle\" x=\"1086\" y=\"-37.8\" font-family=\"Helvetica,sans-Serif\" font-size=\"14.00\">samples = 11</text>\r\n",
       "<text text-anchor=\"middle\" x=\"1086\" y=\"-22.8\" font-family=\"Helvetica,sans-Serif\" font-size=\"14.00\">value = [0, 11]</text>\r\n",
       "<text text-anchor=\"middle\" x=\"1086\" y=\"-7.8\" font-family=\"Helvetica,sans-Serif\" font-size=\"14.00\">class = Yes</text>\r\n",
       "</g>\r\n",
       "<!-- 19&#45;&gt;20 -->\r\n",
       "<g id=\"edge20\" class=\"edge\"><title>19&#45;&gt;20</title>\r\n",
       "<path fill=\"none\" stroke=\"black\" d=\"M1087.26,-103.726C1087.11,-95.5175 1086.95,-86.8595 1086.8,-78.56\"/>\r\n",
       "<polygon fill=\"black\" stroke=\"black\" points=\"1090.29,-78.234 1086.61,-68.2996 1083.29,-78.3619 1090.29,-78.234\"/>\r\n",
       "</g>\r\n",
       "<!-- 21 -->\r\n",
       "<g id=\"node22\" class=\"node\"><title>21</title>\r\n",
       "<path fill=\"#ffffff\" stroke=\"black\" d=\"M1245,-68C1245,-68 1169,-68 1169,-68 1163,-68 1157,-62 1157,-56 1157,-56 1157,-12 1157,-12 1157,-6 1163,-0 1169,-0 1169,-0 1245,-0 1245,-0 1251,-0 1257,-6 1257,-12 1257,-12 1257,-56 1257,-56 1257,-62 1251,-68 1245,-68\"/>\r\n",
       "<text text-anchor=\"middle\" x=\"1207\" y=\"-52.8\" font-family=\"Helvetica,sans-Serif\" font-size=\"14.00\">entropy = 1.0</text>\r\n",
       "<text text-anchor=\"middle\" x=\"1207\" y=\"-37.8\" font-family=\"Helvetica,sans-Serif\" font-size=\"14.00\">samples = 2</text>\r\n",
       "<text text-anchor=\"middle\" x=\"1207\" y=\"-22.8\" font-family=\"Helvetica,sans-Serif\" font-size=\"14.00\">value = [1, 1]</text>\r\n",
       "<text text-anchor=\"middle\" x=\"1207\" y=\"-7.8\" font-family=\"Helvetica,sans-Serif\" font-size=\"14.00\">class = No</text>\r\n",
       "</g>\r\n",
       "<!-- 19&#45;&gt;21 -->\r\n",
       "<g id=\"edge21\" class=\"edge\"><title>19&#45;&gt;21</title>\r\n",
       "<path fill=\"none\" stroke=\"black\" d=\"M1132.31,-103.726C1142.42,-94.423 1153.16,-84.5428 1163.25,-75.2612\"/>\r\n",
       "<polygon fill=\"black\" stroke=\"black\" points=\"1165.82,-77.6464 1170.81,-68.2996 1161.08,-72.4953 1165.82,-77.6464\"/>\r\n",
       "</g>\r\n",
       "<!-- 23 -->\r\n",
       "<g id=\"node24\" class=\"node\"><title>23</title>\r\n",
       "<path fill=\"#41a1e6\" stroke=\"black\" d=\"M1434,-187C1434,-187 1342,-187 1342,-187 1336,-187 1330,-181 1330,-175 1330,-175 1330,-116 1330,-116 1330,-110 1336,-104 1342,-104 1342,-104 1434,-104 1434,-104 1440,-104 1446,-110 1446,-116 1446,-116 1446,-175 1446,-175 1446,-181 1440,-187 1434,-187\"/>\r\n",
       "<text text-anchor=\"middle\" x=\"1388\" y=\"-171.8\" font-family=\"Helvetica,sans-Serif\" font-size=\"14.00\">12L_6 &lt;= 0.5</text>\r\n",
       "<text text-anchor=\"middle\" x=\"1388\" y=\"-156.8\" font-family=\"Helvetica,sans-Serif\" font-size=\"14.00\">entropy = 0.242</text>\r\n",
       "<text text-anchor=\"middle\" x=\"1388\" y=\"-141.8\" font-family=\"Helvetica,sans-Serif\" font-size=\"14.00\">samples = 25</text>\r\n",
       "<text text-anchor=\"middle\" x=\"1388\" y=\"-126.8\" font-family=\"Helvetica,sans-Serif\" font-size=\"14.00\">value = [1, 24]</text>\r\n",
       "<text text-anchor=\"middle\" x=\"1388\" y=\"-111.8\" font-family=\"Helvetica,sans-Serif\" font-size=\"14.00\">class = Yes</text>\r\n",
       "</g>\r\n",
       "<!-- 22&#45;&gt;23 -->\r\n",
       "<g id=\"edge23\" class=\"edge\"><title>22&#45;&gt;23</title>\r\n",
       "<path fill=\"none\" stroke=\"black\" d=\"M1388,-222.907C1388,-214.649 1388,-205.864 1388,-197.302\"/>\r\n",
       "<polygon fill=\"black\" stroke=\"black\" points=\"1391.5,-197.021 1388,-187.021 1384.5,-197.021 1391.5,-197.021\"/>\r\n",
       "</g>\r\n",
       "<!-- 26 -->\r\n",
       "<g id=\"node27\" class=\"node\"><title>26</title>\r\n",
       "<path fill=\"#f2c09c\" stroke=\"black\" d=\"M1629,-187C1629,-187 1537,-187 1537,-187 1531,-187 1525,-181 1525,-175 1525,-175 1525,-116 1525,-116 1525,-110 1531,-104 1537,-104 1537,-104 1629,-104 1629,-104 1635,-104 1641,-110 1641,-116 1641,-116 1641,-175 1641,-175 1641,-181 1635,-187 1629,-187\"/>\r\n",
       "<text text-anchor=\"middle\" x=\"1583\" y=\"-171.8\" font-family=\"Helvetica,sans-Serif\" font-size=\"14.00\">16P_4 &lt;= 0.5</text>\r\n",
       "<text text-anchor=\"middle\" x=\"1583\" y=\"-156.8\" font-family=\"Helvetica,sans-Serif\" font-size=\"14.00\">entropy = 0.918</text>\r\n",
       "<text text-anchor=\"middle\" x=\"1583\" y=\"-141.8\" font-family=\"Helvetica,sans-Serif\" font-size=\"14.00\">samples = 3</text>\r\n",
       "<text text-anchor=\"middle\" x=\"1583\" y=\"-126.8\" font-family=\"Helvetica,sans-Serif\" font-size=\"14.00\">value = [2, 1]</text>\r\n",
       "<text text-anchor=\"middle\" x=\"1583\" y=\"-111.8\" font-family=\"Helvetica,sans-Serif\" font-size=\"14.00\">class = No</text>\r\n",
       "</g>\r\n",
       "<!-- 22&#45;&gt;26 -->\r\n",
       "<g id=\"edge26\" class=\"edge\"><title>22&#45;&gt;26</title>\r\n",
       "<path fill=\"none\" stroke=\"black\" d=\"M1446.24,-228.555C1468.14,-215.417 1493.2,-200.377 1515.85,-186.792\"/>\r\n",
       "<polygon fill=\"black\" stroke=\"black\" points=\"1517.95,-189.614 1524.72,-181.467 1514.35,-183.611 1517.95,-189.614\"/>\r\n",
       "</g>\r\n",
       "<!-- 24 -->\r\n",
       "<g id=\"node25\" class=\"node\"><title>24</title>\r\n",
       "<path fill=\"#399de5\" stroke=\"black\" d=\"M1368.5,-68C1368.5,-68 1287.5,-68 1287.5,-68 1281.5,-68 1275.5,-62 1275.5,-56 1275.5,-56 1275.5,-12 1275.5,-12 1275.5,-6 1281.5,-0 1287.5,-0 1287.5,-0 1368.5,-0 1368.5,-0 1374.5,-0 1380.5,-6 1380.5,-12 1380.5,-12 1380.5,-56 1380.5,-56 1380.5,-62 1374.5,-68 1368.5,-68\"/>\r\n",
       "<text text-anchor=\"middle\" x=\"1328\" y=\"-52.8\" font-family=\"Helvetica,sans-Serif\" font-size=\"14.00\">entropy = 0.0</text>\r\n",
       "<text text-anchor=\"middle\" x=\"1328\" y=\"-37.8\" font-family=\"Helvetica,sans-Serif\" font-size=\"14.00\">samples = 20</text>\r\n",
       "<text text-anchor=\"middle\" x=\"1328\" y=\"-22.8\" font-family=\"Helvetica,sans-Serif\" font-size=\"14.00\">value = [0, 20]</text>\r\n",
       "<text text-anchor=\"middle\" x=\"1328\" y=\"-7.8\" font-family=\"Helvetica,sans-Serif\" font-size=\"14.00\">class = Yes</text>\r\n",
       "</g>\r\n",
       "<!-- 23&#45;&gt;24 -->\r\n",
       "<g id=\"edge24\" class=\"edge\"><title>23&#45;&gt;24</title>\r\n",
       "<path fill=\"none\" stroke=\"black\" d=\"M1365.66,-103.726C1360.91,-95.0615 1355.89,-85.8962 1351.11,-77.1802\"/>\r\n",
       "<polygon fill=\"black\" stroke=\"black\" points=\"1354.12,-75.3875 1346.25,-68.2996 1347.98,-78.7513 1354.12,-75.3875\"/>\r\n",
       "</g>\r\n",
       "<!-- 25 -->\r\n",
       "<g id=\"node26\" class=\"node\"><title>25</title>\r\n",
       "<path fill=\"#6ab6ec\" stroke=\"black\" d=\"M1503,-68C1503,-68 1411,-68 1411,-68 1405,-68 1399,-62 1399,-56 1399,-56 1399,-12 1399,-12 1399,-6 1405,-0 1411,-0 1411,-0 1503,-0 1503,-0 1509,-0 1515,-6 1515,-12 1515,-12 1515,-56 1515,-56 1515,-62 1509,-68 1503,-68\"/>\r\n",
       "<text text-anchor=\"middle\" x=\"1457\" y=\"-52.8\" font-family=\"Helvetica,sans-Serif\" font-size=\"14.00\">entropy = 0.722</text>\r\n",
       "<text text-anchor=\"middle\" x=\"1457\" y=\"-37.8\" font-family=\"Helvetica,sans-Serif\" font-size=\"14.00\">samples = 5</text>\r\n",
       "<text text-anchor=\"middle\" x=\"1457\" y=\"-22.8\" font-family=\"Helvetica,sans-Serif\" font-size=\"14.00\">value = [1, 4]</text>\r\n",
       "<text text-anchor=\"middle\" x=\"1457\" y=\"-7.8\" font-family=\"Helvetica,sans-Serif\" font-size=\"14.00\">class = Yes</text>\r\n",
       "</g>\r\n",
       "<!-- 23&#45;&gt;25 -->\r\n",
       "<g id=\"edge25\" class=\"edge\"><title>23&#45;&gt;25</title>\r\n",
       "<path fill=\"none\" stroke=\"black\" d=\"M1413.69,-103.726C1419.21,-94.9703 1425.05,-85.7032 1430.59,-76.9051\"/>\r\n",
       "<polygon fill=\"black\" stroke=\"black\" points=\"1433.65,-78.6259 1436.02,-68.2996 1427.72,-74.8941 1433.65,-78.6259\"/>\r\n",
       "</g>\r\n",
       "<!-- 27 -->\r\n",
       "<g id=\"node28\" class=\"node\"><title>27</title>\r\n",
       "<path fill=\"#e58139\" stroke=\"black\" d=\"M1621,-68C1621,-68 1545,-68 1545,-68 1539,-68 1533,-62 1533,-56 1533,-56 1533,-12 1533,-12 1533,-6 1539,-0 1545,-0 1545,-0 1621,-0 1621,-0 1627,-0 1633,-6 1633,-12 1633,-12 1633,-56 1633,-56 1633,-62 1627,-68 1621,-68\"/>\r\n",
       "<text text-anchor=\"middle\" x=\"1583\" y=\"-52.8\" font-family=\"Helvetica,sans-Serif\" font-size=\"14.00\">entropy = 0.0</text>\r\n",
       "<text text-anchor=\"middle\" x=\"1583\" y=\"-37.8\" font-family=\"Helvetica,sans-Serif\" font-size=\"14.00\">samples = 2</text>\r\n",
       "<text text-anchor=\"middle\" x=\"1583\" y=\"-22.8\" font-family=\"Helvetica,sans-Serif\" font-size=\"14.00\">value = [2, 0]</text>\r\n",
       "<text text-anchor=\"middle\" x=\"1583\" y=\"-7.8\" font-family=\"Helvetica,sans-Serif\" font-size=\"14.00\">class = No</text>\r\n",
       "</g>\r\n",
       "<!-- 26&#45;&gt;27 -->\r\n",
       "<g id=\"edge27\" class=\"edge\"><title>26&#45;&gt;27</title>\r\n",
       "<path fill=\"none\" stroke=\"black\" d=\"M1583,-103.726C1583,-95.5175 1583,-86.8595 1583,-78.56\"/>\r\n",
       "<polygon fill=\"black\" stroke=\"black\" points=\"1586.5,-78.2996 1583,-68.2996 1579.5,-78.2996 1586.5,-78.2996\"/>\r\n",
       "</g>\r\n",
       "<!-- 28 -->\r\n",
       "<g id=\"node29\" class=\"node\"><title>28</title>\r\n",
       "<path fill=\"#399de5\" stroke=\"black\" d=\"M1739,-68C1739,-68 1663,-68 1663,-68 1657,-68 1651,-62 1651,-56 1651,-56 1651,-12 1651,-12 1651,-6 1657,-0 1663,-0 1663,-0 1739,-0 1739,-0 1745,-0 1751,-6 1751,-12 1751,-12 1751,-56 1751,-56 1751,-62 1745,-68 1739,-68\"/>\r\n",
       "<text text-anchor=\"middle\" x=\"1701\" y=\"-52.8\" font-family=\"Helvetica,sans-Serif\" font-size=\"14.00\">entropy = 0.0</text>\r\n",
       "<text text-anchor=\"middle\" x=\"1701\" y=\"-37.8\" font-family=\"Helvetica,sans-Serif\" font-size=\"14.00\">samples = 1</text>\r\n",
       "<text text-anchor=\"middle\" x=\"1701\" y=\"-22.8\" font-family=\"Helvetica,sans-Serif\" font-size=\"14.00\">value = [0, 1]</text>\r\n",
       "<text text-anchor=\"middle\" x=\"1701\" y=\"-7.8\" font-family=\"Helvetica,sans-Serif\" font-size=\"14.00\">class = Yes</text>\r\n",
       "</g>\r\n",
       "<!-- 26&#45;&gt;28 -->\r\n",
       "<g id=\"edge28\" class=\"edge\"><title>26&#45;&gt;28</title>\r\n",
       "<path fill=\"none\" stroke=\"black\" d=\"M1626.94,-103.726C1636.96,-94.423 1647.61,-84.5428 1657.61,-75.2612\"/>\r\n",
       "<polygon fill=\"black\" stroke=\"black\" points=\"1660.17,-77.6673 1665.12,-68.2996 1655.4,-72.5362 1660.17,-77.6673\"/>\r\n",
       "</g>\r\n",
       "</g>\r\n",
       "</svg>\r\n"
      ],
      "text/plain": [
       "<graphviz.files.Source at 0x1d2a12a1508>"
      ]
     },
     "execution_count": 96,
     "metadata": {},
     "output_type": "execute_result"
    }
   ],
   "source": [
    "data=data.values #数据框转数组\n",
    "graph = graphviz.Source(dot_data)\n",
    "graph"
   ]
  },
  {
   "cell_type": "code",
   "execution_count": 97,
   "metadata": {},
   "outputs": [
    {
     "name": "stdout",
     "output_type": "stream",
     "text": [
      "Save example.gv file!\n",
      "\n"
     ]
    }
   ],
   "source": [
    "#将决策树图导出为pdf\n",
    "graph.render('example.gv', directory='F:\\data', view=True)\n",
    "print('Save example.gv file!\\n')"
   ]
  },
  {
   "cell_type": "markdown",
   "metadata": {},
   "source": [
    "## 随机森林"
   ]
  },
  {
   "cell_type": "code",
   "execution_count": 2,
   "metadata": {},
   "outputs": [],
   "source": [
    "#加载需要的模块\n",
    "import warnings\n",
    "warnings.filterwarnings('ignore')\n",
    "import pandas as pd\n",
    "import numpy as np\n",
    "import matplotlib.pyplot as plt\n",
    "from sklearn.ensemble import RandomForestClassifier\n",
    "from sklearn.feature_selection import SelectFromModel"
   ]
  },
  {
   "cell_type": "code",
   "execution_count": 10,
   "metadata": {},
   "outputs": [
    {
     "data": {
      "text/plain": [
       "1    155\n",
       "0    116\n",
       "Name: Y, dtype: int64"
      ]
     },
     "execution_count": 10,
     "metadata": {},
     "output_type": "execute_result"
    }
   ],
   "source": [
    "data=pd.read_csv(\"F:/data/classifier.csv\")\n",
    "data['Y'].value_counts()"
   ]
  },
  {
   "cell_type": "code",
   "execution_count": 11,
   "metadata": {},
   "outputs": [],
   "source": [
    "X = data.drop(['Y'],axis=1) #从数据集中删除目标变量\n",
    "y = data[\"Y\"]"
   ]
  },
  {
   "cell_type": "code",
   "execution_count": 12,
   "metadata": {},
   "outputs": [
    {
     "data": {
      "text/plain": [
       "((271, 36), (271,))"
      ]
     },
     "execution_count": 12,
     "metadata": {},
     "output_type": "execute_result"
    }
   ],
   "source": [
    "#过采样\n",
    "from imblearn.under_sampling import ClusterCentroids\n",
    "cc = ClusterCentroids(random_state=0)\n",
    "X_resampled, y_resampled = cc.fit_sample(X, y)\n",
    "X.shape,y.shape"
   ]
  },
  {
   "cell_type": "code",
   "execution_count": 13,
   "metadata": {},
   "outputs": [
    {
     "data": {
      "text/plain": [
       "array([0.04936105, 0.01647231, 0.02550162, 0.02277285, 0.02740455,\n",
       "       0.01660002, 0.00657854, 0.01960501, 0.0183273 , 0.06169274,\n",
       "       0.07172702, 0.02289302, 0.02325084, 0.0164309 , 0.01816274,\n",
       "       0.01716025, 0.04186859, 0.0049936 , 0.05669458, 0.01826953,\n",
       "       0.0214093 , 0.01609198, 0.02574574, 0.02692081, 0.02553177,\n",
       "       0.02116863, 0.06602751, 0.02987517, 0.05179086, 0.02075211,\n",
       "       0.0224509 , 0.01112436, 0.02480414, 0.02187065, 0.01633978,\n",
       "       0.04232922])"
      ]
     },
     "execution_count": 13,
     "metadata": {},
     "output_type": "execute_result"
    }
   ],
   "source": [
    "#基于随机森林度量各个变量的重要性\n",
    "clf = RandomForestClassifier()\n",
    "clf = clf.fit(X,y)\n",
    "c=clf.feature_importances_\n",
    "c"
   ]
  },
  {
   "cell_type": "code",
   "execution_count": 14,
   "metadata": {},
   "outputs": [],
   "source": [
    "std = np.std([tree.feature_importances_ for tree in clf.estimators_],\n",
    "             axis=0)\n",
    "indices = np.argsort(c)[::-1]"
   ]
  },
  {
   "cell_type": "code",
   "execution_count": 15,
   "metadata": {},
   "outputs": [
    {
     "data": {
      "image/png": "[encoded data removed]",
      "text/plain": [
       "<Figure size 432x288 with 1 Axes>"
      ]
     },
     "metadata": {
      "needs_background": "light"
     },
     "output_type": "display_data"
    }
   ],
   "source": [
    "#对变量重要性画图，并依次降序排列\n",
    "plt.figure()\n",
    "plt.title(\"Feature importances\")\n",
    "plt.bar(range(X.shape[1]), c[indices],\n",
    "       color=\"r\", yerr=std[indices], align=\"center\")\n",
    "plt.xticks(range(X.shape[1]), indices)\n",
    "plt.xlim([-1, X.shape[1]])\n",
    "plt.show()"
   ]
  },
  {
   "cell_type": "code",
   "execution_count": 16,
   "metadata": {},
   "outputs": [
    {
     "data": {
      "text/plain": [
       "Index(['1A', '2B_1', '2B_2', '2B_3', '3C_1', '3C_2', '3C_3', '3C_4', '3C_5',\n",
       "       '4D', '5E', '6F_1', '6F_2', '6F_3', '7G_1', '7G_2', '8H', '9I_1',\n",
       "       '10J_1', '12L_1', '12L_2', '12L_3', '12L_4', '12L_5', '12L_6', '12L_7',\n",
       "       '13M', '14N_1', '15O', '16P_1', '16P_2', '16P_3', '16P_4', '16P_5',\n",
       "       '16P_6', '17Q'],\n",
       "      dtype='object')"
      ]
     },
     "execution_count": 16,
     "metadata": {},
     "output_type": "execute_result"
    }
   ],
   "source": [
    "X.columns #这里通过显示列名，便于后面对照特征编号对应的特征名,注意图片中是从0开始编号"
   ]
  },
  {
   "cell_type": "markdown",
   "metadata": {},
   "source": [
    "\n",
    "## 主题模型"
   ]
  },
  {
   "cell_type": "code",
   "execution_count": 26,
   "metadata": {},
   "outputs": [],
   "source": [
    "from gensim import corpora, models, similarities\n",
    "import gensim\n",
    "import numpy as np\n",
    "import pandas as pd\n",
    "import re"
   ]
  },
  {
   "cell_type": "code",
   "execution_count": 19,
   "metadata": {},
   "outputs": [],
   "source": [
    "data=pd.read_csv(\"F:/data/xuanci.csv\",encoding='gbk')"
   ]
  },
  {
   "cell_type": "code",
   "execution_count": 20,
   "metadata": {},
   "outputs": [
    {
     "data": {
      "text/html": [
       "<div>\n",
       "<style scoped>\n",
       "    .dataframe tbody tr th:only-of-type {\n",
       "        vertical-align: middle;\n",
       "    }\n",
       "\n",
       "    .dataframe tbody tr th {\n",
       "        vertical-align: top;\n",
       "    }\n",
       "\n",
       "    .dataframe thead th {\n",
       "        text-align: right;\n",
       "    }\n",
       "</style>\n",
       "<table border=\"1\" class=\"dataframe\">\n",
       "  <thead>\n",
       "    <tr style=\"text-align: right;\">\n",
       "      <th></th>\n",
       "      <th>标签词</th>\n",
       "    </tr>\n",
       "  </thead>\n",
       "  <tbody>\n",
       "    <tr>\n",
       "      <th>0</th>\n",
       "      <td>实用</td>\n",
       "    </tr>\n",
       "    <tr>\n",
       "      <th>1</th>\n",
       "      <td>媒体</td>\n",
       "    </tr>\n",
       "    <tr>\n",
       "      <th>2</th>\n",
       "      <td>运营</td>\n",
       "    </tr>\n",
       "    <tr>\n",
       "      <th>3</th>\n",
       "      <td>营销</td>\n",
       "    </tr>\n",
       "    <tr>\n",
       "      <th>4</th>\n",
       "      <td>案例</td>\n",
       "    </tr>\n",
       "  </tbody>\n",
       "</table>\n",
       "</div>"
      ],
      "text/plain": [
       "  标签词\n",
       "0  实用\n",
       "1  媒体\n",
       "2  运营\n",
       "3  营销\n",
       "4  案例"
      ]
     },
     "execution_count": 20,
     "metadata": {},
     "output_type": "execute_result"
    }
   ],
   "source": [
    "data.head()"
   ]
  },
  {
   "cell_type": "code",
   "execution_count": 22,
   "metadata": {},
   "outputs": [],
   "source": [
    "data=data.drop_duplicates(['标签词']) #数据去重"
   ]
  },
  {
   "cell_type": "code",
   "execution_count": 28,
   "metadata": {},
   "outputs": [],
   "source": [
    "data = np.array(data) #dataframe转array"
   ]
  },
  {
   "cell_type": "code",
   "execution_count": 32,
   "metadata": {},
   "outputs": [],
   "source": [
    "dictionary = corpora.Dictionary(data)\n",
    "corpus = [dictionary.doc2bow(text) for text in data]"
   ]
  },
  {
   "cell_type": "code",
   "execution_count": 33,
   "metadata": {},
   "outputs": [
    {
     "data": {
      "text/plain": [
       "'0.228*\"数据\" + 0.228*\"策划\" + 0.011*\"实用\" + 0.011*\"方法论\" + 0.011*\"写作技巧\"'"
      ]
     },
     "execution_count": 33,
     "metadata": {},
     "output_type": "execute_result"
    }
   ],
   "source": [
    "lda = gensim.models.ldamodel.LdaModel(corpus=corpus, id2word=dictionary, num_topics=20)\n",
    "lda.print_topic(10, topn=5)"
   ]
  },
  {
   "cell_type": "code",
   "execution_count": 38,
   "metadata": {},
   "outputs": [
    {
     "data": {
      "text/plain": [
       "[(6, '0.228*\"案例\" + 0.228*\"技巧\" + 0.011*\"策划\" + 0.011*\"实操\" + 0.011*\"文案\"'),\n",
       " (16, '0.292*\"研究\" + 0.014*\"实操\" + 0.014*\"应用\" + 0.014*\"推广\" + 0.014*\"写作技巧\"'),\n",
       " (14, '0.187*\"教程\" + 0.187*\"产品\" + 0.187*\"运用\" + 0.009*\"用户\" + 0.009*\"数据\"'),\n",
       " (10, '0.228*\"数据\" + 0.228*\"策划\" + 0.011*\"实用\" + 0.011*\"方法论\" + 0.011*\"写作技巧\"'),\n",
       " (3, '0.292*\"实战经验\" + 0.014*\"研究\" + 0.014*\"运用\" + 0.014*\"新手\" + 0.014*\"实操\"')]"
      ]
     },
     "execution_count": 38,
     "metadata": {},
     "output_type": "execute_result"
    }
   ],
   "source": [
    "lda.print_topics(num_topics=5,num_words =5)"
   ]
  }
 ],
 "metadata": {
  "kernelspec": {
   "display_name": "Python 3",
   "language": "python 3",
   "name": "python3"
  },
  "language_info": {
   "codemirror_mode": {
    "name": "ipython",
    "version": 3
   },
   "file_extension": ".py",
   "mimetype": "text/x-python",
   "name": "python",
   "nbconvert_exporter": "python",
   "pygments_lexer": "ipython3",
   "version": "3.7.4"
  }
 },
 "nbformat": 4,
 "nbformat_minor": 2
}
